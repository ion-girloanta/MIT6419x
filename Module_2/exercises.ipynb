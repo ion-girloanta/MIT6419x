{
 "cells": [
  {
   "cell_type": "code",
   "execution_count": 2,
   "id": "numeric-aging",
   "metadata": {},
   "outputs": [],
   "source": [
    "import numpy as np"
   ]
  },
  {
   "cell_type": "markdown",
   "id": "designing-exhaust",
   "metadata": {},
   "source": [
    "## L6\n",
    "\n",
    "### 5. Review: Empirical Mean and Covariance Matrix of a Vector Data Set I"
   ]
  },
  {
   "cell_type": "code",
   "execution_count": 182,
   "id": "norman-justice",
   "metadata": {},
   "outputs": [
    {
     "data": {
      "text/plain": [
       "array([[8, 4, 7],\n",
       "       [2, 8, 1],\n",
       "       [3, 1, 1],\n",
       "       [9, 7, 4]])"
      ]
     },
     "execution_count": 182,
     "metadata": {},
     "output_type": "execute_result"
    }
   ],
   "source": [
    "# The Sample Covariance for a Data Set of Vectors\n",
    "# empirical covariance matrix or sample covariance matrix\n",
    "x1 = np.array([8,4,7])\n",
    "x2 = np.array([2,8,1])\n",
    "x3 = np.array([3,1,1])\n",
    "x4 = np.array([9,7,4])\n",
    "\n",
    "X = np.vstack([x1,x2,x3,x4])\n",
    "X"
   ]
  },
  {
   "cell_type": "code",
   "execution_count": 183,
   "id": "provincial-letter",
   "metadata": {},
   "outputs": [
    {
     "data": {
      "text/plain": [
       "(array([5.5 , 5.  , 3.25]),\n",
       " array([[30.25  , 27.5   , 17.875 ],\n",
       "        [27.5   , 25.    , 16.25  ],\n",
       "        [17.875 , 16.25  , 10.5625]]))"
      ]
     },
     "execution_count": 183,
     "metadata": {},
     "output_type": "execute_result"
    }
   ],
   "source": [
    "bar_X = np.mean(X, axis=0)\n",
    "bar_X, np.outer(bar_X, bar_X)"
   ]
  },
  {
   "cell_type": "code",
   "execution_count": 184,
   "id": "religious-bracelet",
   "metadata": {},
   "outputs": [
    {
     "data": {
      "text/plain": [
       "(array([[9.25  , 1.    , 6.375 ],\n",
       "        [1.    , 7.5   , 0.    ],\n",
       "        [6.375 , 0.    , 6.1875]]),\n",
       " array([[9.25  , 1.    , 6.375 ],\n",
       "        [1.    , 7.5   , 0.    ],\n",
       "        [6.375 , 0.    , 6.1875]]))"
      ]
     },
     "execution_count": 184,
     "metadata": {},
     "output_type": "execute_result"
    }
   ],
   "source": [
    "S,S_np"
   ]
  },
  {
   "cell_type": "code",
   "execution_count": 185,
   "id": "absolute-lawyer",
   "metadata": {},
   "outputs": [
    {
     "name": "stdout",
     "output_type": "stream",
     "text": [
      "sample covariance matrix= \n",
      " [[9.25   1.     6.375 ]\n",
      " [1.     7.5    0.    ]\n",
      " [6.375  0.     6.1875]], S == S_np? True\n"
     ]
    }
   ],
   "source": [
    "S = (np.mean([np.outer(x1, x1),np.outer(x2, x2),np.outer(x3, x3),np.outer(x4, x4)],axis=0))-np.outer(bar_X, bar_X)\n",
    "# np.cov is feature wise cov if we want sample wise, DATA.T\n",
    "S_np=np.cov(X.T,bias=True)\n",
    "\n",
    "print(f'sample covariance matrix= \\n {S}, S == S_np? {(S==S_np).all()}')"
   ]
  },
  {
   "cell_type": "code",
   "execution_count": 189,
   "id": "bound-reality",
   "metadata": {},
   "outputs": [
    {
     "data": {
      "text/plain": [
       "array([[9.25  , 1.    , 6.375 ],\n",
       "       [1.    , 7.5   , 0.    ],\n",
       "       [6.375 , 0.    , 6.1875]])"
      ]
     },
     "execution_count": 189,
     "metadata": {},
     "output_type": "execute_result"
    }
   ],
   "source": [
    "# other solution\n",
    "n=X.shape[0]\n",
    "S = 1/n*np.matmul(np.matmul(X.T , np.identity(X.shape[0])-1/n*np.outer(np.ones(n),np.ones(n))), X)\n",
    "S"
   ]
  },
  {
   "cell_type": "markdown",
   "id": "black-nightlife",
   "metadata": {},
   "source": [
    "### 6. Empirical Mean and Covariance Matrix of a Vector Data Set II"
   ]
  },
  {
   "cell_type": "code",
   "execution_count": 190,
   "id": "sized-checkout",
   "metadata": {},
   "outputs": [
    {
     "data": {
      "text/plain": [
       "(array([[ 0.66666667, -0.33333333, -0.33333333],\n",
       "        [-0.33333333,  0.66666667, -0.33333333],\n",
       "        [-0.33333333, -0.33333333,  0.66666667]]),\n",
       " array([ 2, -1, -2]),\n",
       " array([[0.44444444, 0.11111111, 0.11111111],\n",
       "        [0.11111111, 0.44444444, 0.11111111],\n",
       "        [0.11111111, 0.11111111, 0.44444444]]))"
      ]
     },
     "execution_count": 190,
     "metadata": {},
     "output_type": "execute_result"
    }
   ],
   "source": [
    "# An Orthogonal Projection Matrix\n",
    "n=3\n",
    "H = np.identity(3)-1/3*np.outer(np.ones(3),np.ones(3)) \n",
    "x = np.array([2,-1,-2])\n",
    "H,x,H**2"
   ]
  },
  {
   "cell_type": "code",
   "execution_count": 191,
   "id": "diverse-sleeve",
   "metadata": {},
   "outputs": [
    {
     "data": {
      "text/plain": [
       "(array([ 2.33333333, -0.66666667, -1.66666667]),\n",
       " array([ 2.33333333, -0.66666667, -1.66666667]))"
      ]
     },
     "execution_count": 191,
     "metadata": {},
     "output_type": "execute_result"
    }
   ],
   "source": [
    "np.dot(H,x), np.dot(np.matmul(H,H),x)"
   ]
  },
  {
   "cell_type": "markdown",
   "id": "standard-friday",
   "metadata": {},
   "source": [
    "- For any positive integer 𝑘 and any vector $𝐱 \\in \\mathbb{R}^n$, we have $𝐻^k 𝐱= 𝐻𝐱$.\n",
    "- The matrix $𝐻$  is a projection onto the subspace of vectors perpendicular to the vector $\\vec{1} \\in \\mathbb{R}^n$ , which has all of its entries equal to  1 .\n",
    "- The matrix  𝐻  is a projections onto the subspace  ${𝐱:\\frac{1}{𝑛}\\sum\\limits_{i=1}^{n}{x^i}=0}\\subset \\mathbb{R}^n$ . (In other words, this is the set of vectors having coordinate-wise average equal to  0 .)"
   ]
  },
  {
   "cell_type": "markdown",
   "id": "accredited-european",
   "metadata": {},
   "source": [
    "### 7. Measuring the Spread of a Point Cloud"
   ]
  },
  {
   "cell_type": "code",
   "execution_count": 57,
   "id": "decreased-baseline",
   "metadata": {},
   "outputs": [],
   "source": [
    "# Projection onto a Line\n",
    "u=1/np.sqrt(5)*np.array([1,2])\n",
    "x1=np.array([1,2])\n",
    "x2=np.array([3,4])\n",
    "x3=np.array([-1,0])"
   ]
  },
  {
   "cell_type": "code",
   "execution_count": 58,
   "id": "classical-armenia",
   "metadata": {},
   "outputs": [
    {
     "data": {
      "text/plain": [
       "(array([1., 2.]), array([2.2, 4.4]), array([-0.2, -0.4]))"
      ]
     },
     "execution_count": 58,
     "metadata": {},
     "output_type": "execute_result"
    }
   ],
   "source": [
    "np.dot(u,x1)*u, np.dot(u,x2)*u, np.dot(u,x3)*u"
   ]
  },
  {
   "cell_type": "code",
   "execution_count": 59,
   "id": "spare-techno",
   "metadata": {},
   "outputs": [
    {
     "data": {
      "text/plain": [
       "4.8"
      ]
     },
     "execution_count": 59,
     "metadata": {},
     "output_type": "execute_result"
    }
   ],
   "source": [
    "# Empirical Variance of a Data Set in a Given Direction\n",
    "X = np.vstack([np.dot(u,x1), np.dot(u,x2), np.dot(u,x3)])\n",
    "bar_x = np.mean(X)\n",
    "np.mean([(np.dot(u,x1)-bar_x)**2,(np.dot(u,x2)-bar_x)**2, (np.dot(u,x3)-bar_x)**2])"
   ]
  },
  {
   "cell_type": "code",
   "execution_count": 60,
   "id": "interstate-kidney",
   "metadata": {},
   "outputs": [
    {
     "data": {
      "text/plain": [
       "4.799999999999999"
      ]
     },
     "execution_count": 60,
     "metadata": {},
     "output_type": "execute_result"
    }
   ],
   "source": [
    "#   𝐮^T𝑆𝐮\n",
    "n=X.shape[0]\n",
    "S = 1/n*np.matmul(np.matmul(X.T , np.identity(X.shape[0])-1/n*np.outer(np.ones(n),np.ones(n))), X)\n",
    "np.matmul(np.matmul(np.expand_dims(u,-1),np.squeeze(S, axis=-1)),u)"
   ]
  },
  {
   "cell_type": "code",
   "execution_count": 61,
   "id": "indie-cable",
   "metadata": {},
   "outputs": [
    {
     "data": {
      "text/plain": [
       "3.202565051528912"
      ]
     },
     "execution_count": 61,
     "metadata": {},
     "output_type": "execute_result"
    }
   ],
   "source": [
    "# Variance of a Random Vector in a Given Direction\n",
    "((1-np.sqrt(3))**2+(3-np.sqrt(3))**2+(-1-np.sqrt(3))**2)/3"
   ]
  },
  {
   "cell_type": "markdown",
   "id": "exclusive-peninsula",
   "metadata": {},
   "source": [
    "### 12. Conceptual Examples Continued"
   ]
  },
  {
   "cell_type": "code",
   "execution_count": 67,
   "id": "large-samba",
   "metadata": {},
   "outputs": [
    {
     "data": {
      "text/plain": [
       "array([[ 0,  2],\n",
       "       [ 0, -2],\n",
       "       [ 1,  1],\n",
       "       [-1, -1]])"
      ]
     },
     "execution_count": 67,
     "metadata": {},
     "output_type": "execute_result"
    }
   ],
   "source": [
    "𝐱_1 \t = \t np.array((0,2))\n",
    "𝐱_2 \t = \t np.array((0,-2))\n",
    "𝐱_3 \t = \t np.array((1,1))\n",
    "𝐱_4 \t = \t np.array((-1,-1))\n",
    "X=np.vstack([x_1,x_2,x_3,x_4])\n",
    "X"
   ]
  },
  {
   "cell_type": "code",
   "execution_count": 68,
   "id": "indonesian-arthritis",
   "metadata": {},
   "outputs": [
    {
     "data": {
      "text/plain": [
       "array([[ True,  True],\n",
       "       [ True,  True]])"
      ]
     },
     "execution_count": 68,
     "metadata": {},
     "output_type": "execute_result"
    }
   ],
   "source": [
    "# covariance matrix\n",
    "S =np.cov(X.T,bias=True)\n",
    "S == 1/4*np.dot(X.T,X)"
   ]
  },
  {
   "cell_type": "code",
   "execution_count": 69,
   "id": "expanded-zambia",
   "metadata": {},
   "outputs": [
    {
     "data": {
      "text/plain": [
       "(array([[0.38196601, 0.        ],\n",
       "        [0.        , 2.61803399]]),\n",
       " array([[-0.97324899, -0.22975292],\n",
       "        [ 0.22975292, -0.97324899]]))"
      ]
     },
     "execution_count": 69,
     "metadata": {},
     "output_type": "execute_result"
    }
   ],
   "source": [
    "e_values, e_vectors = np.linalg.eig(S)\n",
    "e_values_matrix = np.diag(e_values)\n",
    "e_values_matrix, e_vectors"
   ]
  },
  {
   "cell_type": "code",
   "execution_count": 70,
   "id": "popular-strengthening",
   "metadata": {},
   "outputs": [
    {
     "data": {
      "text/plain": [
       "array([[ True,  True],\n",
       "       [ True,  True]])"
      ]
     },
     "execution_count": 70,
     "metadata": {},
     "output_type": "execute_result"
    }
   ],
   "source": [
    "S == np.round(np.matmul(np.matmul(e_vectors,e_values_matrix), e_vectors.T),1)"
   ]
  },
  {
   "cell_type": "markdown",
   "id": "consecutive-click",
   "metadata": {},
   "source": [
    "### opinal"
   ]
  },
  {
   "cell_type": "code",
   "execution_count": 101,
   "id": "dense-growing",
   "metadata": {},
   "outputs": [
    {
     "name": "stdout",
     "output_type": "stream",
     "text": [
      "ds = \n",
      "[[ 1.   0.5]\n",
      " [-1.  -0.5]]\n",
      "covariance matrix = \n",
      "[[1.   0.5 ]\n",
      " [0.5  0.25]]\n",
      "[[ True  True]\n",
      " [ True  True]]\n",
      "e_values_matrix = \n",
      " [[1.25 0.  ]\n",
      " [0.   0.  ]]\n",
      "e_vectors_matrix = \n",
      " [[ 0.89442719 -0.4472136 ]\n",
      " [ 0.4472136   0.89442719]]\n",
      "x_1 projected = \n",
      " 1.118033988749895\n",
      "x_2 projected = \n",
      " -1.118033988749895\n"
     ]
    }
   ],
   "source": [
    "𝐱_1 \t = \t np.array((1,1/2))\n",
    "𝐱_2 \t = \t np.array((-1,-1/2))\n",
    "X=np.vstack([x_1,x_2])\n",
    "X\n",
    "print(f'ds = \\n{X}')\n",
    "# covariance matrix\n",
    "S =np.cov(X.T,bias=True)\n",
    "print(f'covariance matrix = \\n{S}')\n",
    "print(S == 1/X.shape[0]*np.dot(X.T,X)-np.outer(np.mean(X,axis=0),np.mean(X,axis=0).T))\n",
    "e_values, e_vectors = np.linalg.eig(S)\n",
    "e_values_matrix = np.diag(e_values)\n",
    "print(f'e_values_matrix = \\n {e_values_matrix}')\n",
    "print(f'e_vectors_matrix = \\n {e_vectors}')\n",
    "print(f'x_1 projected = \\n {np.dot(e_vectors[:,0],x_1)}')\n",
    "print(f'x_2 projected = \\n {np.dot(e_vectors[:,0],x_2)}')"
   ]
  },
  {
   "cell_type": "code",
   "execution_count": 105,
   "id": "contained-viewer",
   "metadata": {},
   "outputs": [
    {
     "name": "stdout",
     "output_type": "stream",
     "text": [
      "ds = \n",
      "[[ 0  2]\n",
      " [ 1 -1]\n",
      " [-1 -1]]\n",
      "covariance matrix = \n",
      "[[0.66666667 0.        ]\n",
      " [0.         2.        ]]\n",
      "[[ True  True]\n",
      " [ True  True]]\n",
      "e_values_matrix = \n",
      " [[0.66666667 0.        ]\n",
      " [0.         2.        ]]\n",
      "e_vectors_matrix = \n",
      " [[1. 0.]\n",
      " [0. 1.]]\n",
      "x_1 projected = \n",
      " 2.0\n",
      "x_2 projected = \n",
      " -1.0\n",
      "x_2 projected = \n",
      " -1.0\n"
     ]
    }
   ],
   "source": [
    "𝐱_1 \t = \t np.array((0,2))\n",
    "𝐱_2 \t = \t np.array((1,-1))\n",
    "𝐱_3 \t = \t np.array((-1,-1))\n",
    "X=np.vstack([x_1,x_2,x_3])\n",
    "X\n",
    "print(f'ds = \\n{X}')\n",
    "# covariance matrix\n",
    "S =np.cov(X.T,bias=True)\n",
    "print(f'covariance matrix = \\n{S}')\n",
    "print(S == 1/X.shape[0]*np.dot(X.T,X)-np.outer(np.mean(X,axis=0),np.mean(X,axis=0).T))\n",
    "e_values, e_vectors = np.linalg.eig(S)\n",
    "e_values_matrix = np.diag(e_values)\n",
    "print(f'e_values_matrix = \\n {e_values_matrix}')\n",
    "print(f'e_vectors_matrix = \\n {e_vectors}')\n",
    "print(f'x_1 projected = \\n {np.dot(e_vectors[:,1],x_1)}')\n",
    "print(f'x_2 projected = \\n {np.dot(e_vectors[:,1],x_2)}')\n",
    "print(f'x_2 projected = \\n {np.dot(e_vectors[:,1],x_3)}')"
   ]
  },
  {
   "cell_type": "code",
   "execution_count": null,
   "id": "wooden-future",
   "metadata": {},
   "outputs": [],
   "source": []
  }
 ],
 "metadata": {
  "kernelspec": {
   "display_name": "Python 3",
   "language": "python",
   "name": "python3"
  },
  "language_info": {
   "codemirror_mode": {
    "name": "ipython",
    "version": 3
   },
   "file_extension": ".py",
   "mimetype": "text/x-python",
   "name": "python",
   "nbconvert_exporter": "python",
   "pygments_lexer": "ipython3",
   "version": "3.8.8"
  }
 },
 "nbformat": 4,
 "nbformat_minor": 5
}
