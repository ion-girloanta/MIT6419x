{
 "cells": [
  {
   "cell_type": "code",
   "execution_count": 2,
   "id": "thousand-failing",
   "metadata": {},
   "outputs": [],
   "source": [
    "import numpy as np"
   ]
  },
  {
   "cell_type": "markdown",
   "id": "applied-investigator",
   "metadata": {},
   "source": [
    "## 1.Types of Graphs"
   ]
  },
  {
   "cell_type": "code",
   "execution_count": 144,
   "id": "hybrid-liberty",
   "metadata": {},
   "outputs": [],
   "source": [
    "class graph_properties():\n",
    "    def __init__(self, nodes=None, edges=None, adjmat=None):\n",
    "        self.nodes = nodes\n",
    "        self.edges = edges\n",
    "        self.selfloop = False\n",
    "        self.directed = True\n",
    "        # Adjacency_Matrix\n",
    "        if type(adjmat) == type(None):\n",
    "            self.adjmat = np.zeros((len(nodes),len(nodes)))\n",
    "            for edge in edges:\n",
    "                if type(edge)== set:\n",
    "                    self.directed = False\n",
    "                    edge = list(edge)\n",
    "                    if len(edge) == 1:\n",
    "                        self.selfloop = True\n",
    "                        self.adjmat[edge[0]-1,edge[0]-1]+=1\n",
    "                    else:\n",
    "                        self.adjmat[edge[0]-1,edge[1]-1]+=1\n",
    "                        self.adjmat[edge[1]-1,edge[0]-1]+=1\n",
    "                else:\n",
    "                    self.adjmat[edge[0]-1,edge[1]-1]+=1\n",
    "        else:\n",
    "            self.adjmat = adjmat\n",
    "        self.symmetric = (self.adjmat==self.adjmat.T).all()\n",
    "        self.acyclic = np.allclose(np.linalg.eig(self.adjmat)[0],0)\n",
    "        \n",
    "    def properties(self):\n",
    "        # Undirected or Directed\n",
    "        ## type(edges) == set, Undirected\n",
    "        if self.directed:\n",
    "            if self.symmetric:\n",
    "                print('Directed network and symmetric Adjacency_Matrix')\n",
    "            else:\n",
    "                print('Directed network')\n",
    "        else:\n",
    "            print('Undirected network')\n",
    "        # acyclic or cyclic\n",
    "        ## if adjmat's eigenvalues all = 0, acyclic\n",
    "        if self.acyclic:\n",
    "            print('Acyclic network')\n",
    "        else:\n",
    "            print('Cyclic network')\n",
    "        # simple or Multi\n",
    "        ## if no self-loop or at-most 1 edge in any pair of nodes, simple\n",
    "        if not self.selfloop and (np.max(self.adjmat)<=1) and self.symmetric:\n",
    "            print('Simple graph')\n",
    "        else:\n",
    "            print('Multigraph')\n",
    "#         # is Bipartite Graph?\n",
    "#         ## if edges only exis in different class\n",
    "#         self.class_list = [[0], np.where(adj[0]>0)[0].tolist()]\n",
    "\n",
    "#         for i in range(len(self.adjmat)):\n",
    "#             all_ = self.set1|self.set2\n",
    "#             if i not in self.set1:\n",
    "# #                 self.set1.update({i})\n",
    "#                 self.set1.update(set(np.where(self.adjmat[i]>0)[0]))\n",
    "# #             elif i not in all_ and i not in self.set2:\n",
    "#             elif i not in self.set2:\n",
    "# #                 self.set2.update({i})\n",
    "#                 self.set2.update(set(np.where(self.adjmat[i]>0)[0]))\n",
    "                \n",
    "#         if (self.set1&self.set2) == set() and not self.selfloop:\n",
    "#             print('Bipartite graph')"
   ]
  },
  {
   "cell_type": "code",
   "execution_count": 145,
   "id": "expanded-amino",
   "metadata": {},
   "outputs": [],
   "source": [
    "# # divide to two class\n",
    "# adj= np.array([[0, 1, 0, 1, 0, 1, 0, 0, 0, 0],\n",
    "#                 [1, 0, 1, 1, 1, 0, 0, 0, 0, 0],\n",
    "#                 [0, 1, 0, 0, 0, 0, 0, 0, 0, 0],\n",
    "#                 [1, 1, 0, 0, 0, 1, 0, 1, 1, 0],\n",
    "#                 [0, 1, 0, 0, 0, 0, 0, 0, 1, 1],\n",
    "#                 [1, 0, 0, 1, 0, 0, 0, 0, 0, 0],\n",
    "#                 [0, 0, 0, 0, 0, 0, 0, 0, 0, 1],\n",
    "#                 [0, 0, 0, 1, 0, 0, 0, 0, 0, 0],\n",
    "#                 [0, 0, 0, 1, 1, 0, 0, 0, 0, 1],\n",
    "#                 [0, 0, 0, 0, 1, 0, 1, 0, 1, 0]])\n",
    "# number_of_nodes = len(adj)\n",
    "# class_list=np.array([{0},{1,3,5}])\n",
    "# non_seen = set(range(number_of_nodes))\n",
    "\n",
    "# while len(non_seen) >0:\n",
    "# #     seen = {seen_node for class_ in class_list for seen_node in class_ }\n",
    "#     for node in non_seen:\n",
    "#         print(node)\n",
    "#         end_nodes = np.where(adj[node]>0)[0]\n",
    "\n",
    "#         nodes_not_in_witch_class = np.array([node not in class_ for class_ in class_list])\n",
    "#         end_nodes_not_in_witch_class = np.array([[endnode not in class_ for class_ in class_list]for endnode in end_nodes])\n",
    "# #         end_nodes_in_witch_class = np.array([[endnode in class_ for class_ in class_list]for endnode in end_nodes])\n",
    "#         print(nodes_not_in_witch_class)\n",
    "#         print(end_nodes_not_in_witch_class)\n",
    "#         # if node 在 set1, set2+end_nodes\n",
    "#         if not nodes_not_in_witch_class.all():\n",
    "#             for class_ in class_list[nodes_not_in_witch_class]:\n",
    "#                 class_.update(set(end_nodes))\n",
    "#         if not end_nodes_not_in_witch_class.all():\n",
    "#             for class_ in class_list[end_nodes_not_in_witch_class.all(axis=0)]:\n",
    "#                 class_.update({node})\n",
    "#         # case: node 沒有 e_node 沒有\n",
    "        \n",
    "# #         if nodes_not_in_witch_class.all() and end_nodes_not_in_witch_class.all():\n",
    "# # #             class_list = np.append(class_list, {node})\n",
    "# # #             class_list = np.append(class_list, set(end_nodes))\n",
    "# # #             continue\n",
    "# #         for class_ in class_list[np.invert(nodes_not_in_witch_class)]:\n",
    "# #             class_.update({node})\n",
    "#         # case:\n",
    "# #         elif \n",
    "        \n",
    "# #         for class_ in class_list[nodes_in_witch_class]:\n",
    "# #             class_.update({node})\n",
    "        \n",
    "# #         for class_ in class_list[np.invert(nodes_in_witch_class)]:\n",
    "# #             class_.update(set(end_nodes))\n",
    "# #         if end_nodes_not_in_witch_class.all():\n",
    "            \n",
    "# #         class_list[end_nodes_in_witch_class]\n",
    "# #         break\n",
    "# #         if node not in seen and end_nodes_not_in_seen.all():\n",
    "#         print(class_list)\n",
    "#         print('---')\n",
    "    \n",
    "#     break"
   ]
  },
  {
   "cell_type": "code",
   "execution_count": 146,
   "id": "residential-fellow",
   "metadata": {},
   "outputs": [],
   "source": [
    "# # divide to two class\n",
    "# adj= np.array([[0, 1, 0, 1, 0, 1, 0, 0, 0, 0],\n",
    "#                 [1, 0, 1, 1, 1, 0, 0, 0, 0, 0],\n",
    "#                 [0, 1, 0, 0, 0, 0, 0, 0, 0, 0],\n",
    "#                 [1, 1, 0, 0, 0, 1, 0, 1, 1, 0],\n",
    "#                 [0, 1, 0, 0, 0, 0, 0, 0, 1, 1],\n",
    "#                 [1, 0, 0, 1, 0, 0, 0, 0, 0, 0],\n",
    "#                 [0, 0, 0, 0, 0, 0, 0, 0, 0, 1],\n",
    "#                 [0, 0, 0, 1, 0, 0, 0, 0, 0, 0],\n",
    "#                 [0, 0, 0, 1, 1, 0, 0, 0, 0, 1],\n",
    "#                 [0, 0, 0, 0, 1, 0, 1, 0, 1, 0]])\n",
    "# number_of_nodes = len(adj)\n",
    "# class_list=np.array([{1}])\n",
    "# non_seen = set(range(number_of_nodes))\n",
    "# for node in range(number_of_nodes):\n",
    "#     seen = {seen_node for class_ in class_list for seen_node in class_ }\n",
    "#     print(seen)\n",
    "#     end_nodes = np.where(adj[node]>0)[0]\n",
    "    \n",
    "#     end_nodes_not_in_seen = np.array([[endnode in class_ for class_ in class_list]for endnode in end_nodes])\n",
    "#     print(end_nodes_not_in_seen)\n",
    "# #     if node not in seen and np.sum(end_nodes_not_in_seen)>0:\n",
    "# #         class_list = np.append(class_list, {node})\n",
    "# #         class_list = np.append(class_list, set(np.where(adj[node]>0)[0]))\n",
    "# #         print(node)\n",
    "# #         print(class_list)\n"
   ]
  },
  {
   "cell_type": "code",
   "execution_count": null,
   "id": "drawn-viking",
   "metadata": {},
   "outputs": [],
   "source": []
  },
  {
   "cell_type": "code",
   "execution_count": 404,
   "id": "developed-drink",
   "metadata": {},
   "outputs": [
    {
     "name": "stdout",
     "output_type": "stream",
     "text": [
      "Directed network\n",
      "Cyclic network\n",
      "Multigraph\n",
      "Bipartite graph\n"
     ]
    },
    {
     "data": {
      "text/plain": [
       "({0, 2, 4}, {1, 3})"
      ]
     },
     "execution_count": 404,
     "metadata": {},
     "output_type": "execute_result"
    }
   ],
   "source": [
    "#1\n",
    "V={1,2,3,4,5}\n",
    "E={(1,2),(2,3),(3,4),(4,5),(5,2)}\n",
    "P1 = graph_properties(nodes=V,edges=E)\n",
    "P1.properties()\n",
    "P1.set1, P1.set2"
   ]
  },
  {
   "cell_type": "code",
   "execution_count": 405,
   "id": "ranging-optics",
   "metadata": {},
   "outputs": [
    {
     "name": "stdout",
     "output_type": "stream",
     "text": [
      "Directed network\n",
      "Acyclic network\n",
      "Multigraph\n"
     ]
    },
    {
     "data": {
      "text/plain": [
       "({0, 1, 3}, {1, 3})"
      ]
     },
     "execution_count": 405,
     "metadata": {},
     "output_type": "execute_result"
    }
   ],
   "source": [
    "#2\n",
    "V={1,2,3,4,5}\n",
    "E={(1,2),(1,4),(3,4),(4,5),(5,2)}\n",
    "P2 = graph_properties(nodes=V,edges=E)\n",
    "P2.properties()\n",
    "P2.set1, P2.set2"
   ]
  },
  {
   "cell_type": "code",
   "execution_count": 383,
   "id": "superb-physics",
   "metadata": {},
   "outputs": [
    {
     "name": "stdout",
     "output_type": "stream",
     "text": [
      "Undirected network\n",
      "Cyclic network\n",
      "Simple graph\n",
      "Bipartite graph\n"
     ]
    },
    {
     "data": {
      "text/plain": [
       "({0, 2, 4}, {1, 3})"
      ]
     },
     "execution_count": 383,
     "metadata": {},
     "output_type": "execute_result"
    }
   ],
   "source": [
    "#3\n",
    "V={1,2,3,4,5}\n",
    "E=[{1,2},{1,4},{3,4},{4,5},{5,2}]\n",
    "P3 = graph_properties(nodes=V,edges=E)\n",
    "P3.properties()\n",
    "P3.set1, P3.set2"
   ]
  },
  {
   "cell_type": "code",
   "execution_count": 384,
   "id": "experimental-reader",
   "metadata": {},
   "outputs": [
    {
     "name": "stdout",
     "output_type": "stream",
     "text": [
      "Undirected network\n",
      "Cyclic network\n",
      "Multigraph\n"
     ]
    },
    {
     "data": {
      "text/plain": [
       "({0, 2, 4}, {1, 2, 3})"
      ]
     },
     "execution_count": 384,
     "metadata": {},
     "output_type": "execute_result"
    }
   ],
   "source": [
    "#4\n",
    "V={1,2,3,4,5}\n",
    "E=[{1,2},{1,4},{3,4},{4,5},{5,2},{3,3}]\n",
    "P4 = graph_properties(nodes=V,edges=E)\n",
    "P4.properties()\n",
    "P4.set1, P4.set2"
   ]
  },
  {
   "cell_type": "code",
   "execution_count": 385,
   "id": "adjacent-script",
   "metadata": {},
   "outputs": [
    {
     "name": "stdout",
     "output_type": "stream",
     "text": [
      "Undirected network\n",
      "Cyclic network\n",
      "Simple graph\n",
      "Bipartite graph\n"
     ]
    },
    {
     "data": {
      "text/plain": [
       "({0, 4}, {1, 2, 3})"
      ]
     },
     "execution_count": 385,
     "metadata": {},
     "output_type": "execute_result"
    }
   ],
   "source": [
    "#5\n",
    "V={1,2,3,4,5}\n",
    "E=[{1,2},{1,4},{3,1},{4,5},{5,2}]\n",
    "P5 = graph_properties(nodes=V,edges=E)\n",
    "P5.properties()\n",
    "P5.set1, P5.set2"
   ]
  },
  {
   "cell_type": "markdown",
   "id": "heated-island",
   "metadata": {},
   "source": [
    "## 2.Adjacency Matrix\n",
    "Adjacency Matrix = $A$\n",
    "- A non-zero $A_{i,i}$ represents a loop from node $i$ to itself.\n",
    "- $A=A^T$ can be directed or undirected."
   ]
  },
  {
   "cell_type": "markdown",
   "id": "clean-console",
   "metadata": {},
   "source": [
    "### Powers of the Adjacency Matrix\n",
    "- Theorem:\n",
    "    - Let $A$ be the adjacency matrix of an unweighted graph (could be directed/undirected, simple/multigraph). \n",
    "    - $A^l$ is $A$ to the power of $l$, $A$ 的 $l$ 次方\n",
    "        - $A^l_{i,j}$\n",
    "            - is the element in row $i$ and column $j$ of $A^l$\n",
    "            - is the number of walks of length $l$ from node $i$ to node $j$.\n",
    "\n"
   ]
  },
  {
   "cell_type": "code",
   "execution_count": 386,
   "id": "primary-radiation",
   "metadata": {},
   "outputs": [
    {
     "name": "stdout",
     "output_type": "stream",
     "text": [
      "Q: How many walks of length 2 are there from node 1 to 2\n",
      "1\n",
      "---\n",
      "Q: How many walks of length 3 are there from node 1 to 2\n",
      "1\n"
     ]
    }
   ],
   "source": [
    "# Walks of Length 2 and 3\n",
    "A = np.array([[1,1,0],[0,0,1],[1,0,0]])\n",
    "print('Q: How many walks of length 2 are there from node 1 to 2')\n",
    "A2 = A@A\n",
    "print(A2[0,1])\n",
    "print('---')\n",
    "\n",
    "print('Q: How many walks of length 3 are there from node 1 to 2')\n",
    "A3 = A2@A\n",
    "print(A3[0,1])"
   ]
  },
  {
   "cell_type": "markdown",
   "id": "weird-sarah",
   "metadata": {},
   "source": [
    "## Graph Properties and Metrics"
   ]
  },
  {
   "cell_type": "markdown",
   "id": "altered-transition",
   "metadata": {},
   "source": [
    "### Connected Components\n",
    "- Undirected graph\n",
    "    - A subset of nodes $V' \\subset V$ such that:\n",
    "        - There exists at least one walk from $v_i$ to $v_j$ whenever $v_i\\,v_j \\in V'$\n",
    "        - There is no walk from $v_i$ to $v_j$ whenever $v_i \\in V' ; v_j \\in (V \\backslash V')$\n",
    "            - $V \\backslash V'$, 在 $V$ 不在 $V'$\n",
    "- Directed graph\n",
    "    - A subset of nodes $V' \\subset V$ is ***strongly connected*** such that:\n",
    "        - every vertex in $V'$ is reachable from every other vertex in $V'$\n",
    "        - there exists some vertex in $V'$ and some vertex in $(V \\backslash V')$ such that there is no directed path between such vertices in at least one direction."
   ]
  },
  {
   "cell_type": "code",
   "execution_count": 147,
   "id": "controlled-knitting",
   "metadata": {},
   "outputs": [],
   "source": [
    "Adjacency_Matrix=np.array([[0, 1, 0, 1, 0, 1, 0, 0, 0, 0],\n",
    "                            [1, 0, 1, 1, 1, 0, 0, 0, 0, 0],\n",
    "                            [0, 1, 0, 0, 0, 0, 0, 0, 0, 0],\n",
    "                            [1, 1, 0, 0, 0, 1, 0, 1, 1, 0],\n",
    "                            [0, 1, 0, 0, 0, 0, 0, 0, 1, 1],\n",
    "                            [1, 0, 0, 1, 0, 0, 0, 0, 0, 0],\n",
    "                            [0, 0, 0, 0, 0, 0, 0, 0, 0, 1],\n",
    "                            [0, 0, 0, 1, 0, 0, 0, 0, 0, 0],\n",
    "                            [0, 0, 0, 1, 1, 0, 0, 0, 0, 1],\n",
    "                            [0, 0, 0, 0, 1, 0, 1, 0, 1, 0]])"
   ]
  },
  {
   "cell_type": "code",
   "execution_count": 148,
   "id": "quiet-bottle",
   "metadata": {},
   "outputs": [
    {
     "name": "stdout",
     "output_type": "stream",
     "text": [
      "Directed network and symmetric Adjacency_Matrix\n",
      "Cyclic network\n",
      "Simple graph\n"
     ]
    }
   ],
   "source": [
    "G = graph_properties(adjmat=Adjacency_Matrix)\n",
    "G.properties()"
   ]
  },
  {
   "cell_type": "code",
   "execution_count": 162,
   "id": "single-space",
   "metadata": {},
   "outputs": [
    {
     "name": "stdout",
     "output_type": "stream",
     "text": [
      "Q: Does the adjacency matrix represent a simple graph?\n",
      "Number of self-loops = \n",
      " 0\n",
      "The maximun number of edges between pair of nodes= \n",
      " 1\n",
      "Adjacency matrix is symmetric?\n",
      " True\n",
      "--> this graph is a simple graph\n"
     ]
    }
   ],
   "source": [
    "print('Q: Does the adjacency matrix represent a simple graph?')\n",
    "\n",
    "# check number of self-loop\n",
    "print('Number of self-loops = \\n', np.trace(Adjacency_Matrix))\n",
    "# check at most one edge between pair of nodes\n",
    "print('The maximun number of edges between pair of nodes= \\n', np.max(Adjacency_Matrix))\n",
    "# check symmetric\n",
    "print('Adjacency matrix is symmetric?\\n', (Adjacency_Matrix==Adjacency_Matrix.T).all())\n",
    "\n",
    "print('--> this graph is a simple graph')"
   ]
  },
  {
   "cell_type": "code",
   "execution_count": 163,
   "id": "living-parade",
   "metadata": {},
   "outputs": [
    {
     "name": "stdout",
     "output_type": "stream",
     "text": [
      "Q: Can the adjacency matrix potentially represent an undirected graph?\n",
      "Adjacency matrix is symmetric?\n",
      " True\n",
      "--> yes\n"
     ]
    }
   ],
   "source": [
    "print('Q: Can the adjacency matrix potentially represent an undirected graph?')\n",
    "\n",
    "print('Adjacency matrix is symmetric?\\n', (Adjacency_Matrix==Adjacency_Matrix.T).all())\n",
    "\n",
    "print('--> yes')"
   ]
  },
  {
   "cell_type": "code",
   "execution_count": 151,
   "id": "noted-restoration",
   "metadata": {},
   "outputs": [
    {
     "name": "stdout",
     "output_type": "stream",
     "text": [
      "Q: Is the graph connected?\n",
      "Q: What is the minimum length of walk \"l\" such that A^l contains no entry equal to 0?\n",
      "Connected, the shorted length = 4\n"
     ]
    }
   ],
   "source": [
    "print('Q: Is the graph connected?')\n",
    "print('Q: What is the minimum length of walk \"l\" such that A^l contains no entry equal to 0?')\n",
    "number_of_nodes = len(Adjacency_Matrix)\n",
    "n_length = np.identity(number_of_nodes)\n",
    "for i in range(number_of_nodes):\n",
    "    n_length = n_length@Adjacency_Matrix\n",
    "    if np.min(n_length) > 0:\n",
    "        print(f'Connected, the shorted length = {i+1}')\n",
    "        break"
   ]
  },
  {
   "cell_type": "code",
   "execution_count": 152,
   "id": "congressional-adrian",
   "metadata": {},
   "outputs": [
    {
     "name": "stdout",
     "output_type": "stream",
     "text": [
      "Q: How many connected components does the graph have?\n"
     ]
    }
   ],
   "source": [
    "print('Q: How many connected components does the graph have?')\n"
   ]
  },
  {
   "cell_type": "code",
   "execution_count": 167,
   "id": "legitimate-bachelor",
   "metadata": {},
   "outputs": [
    {
     "name": "stdout",
     "output_type": "stream",
     "text": [
      "Q: What is the maximum degree of a node in the graph?\n",
      "- For an undirected graph, that is not weighted or a multigraph, the diagonal entries of 𝐴2 are equal to the degree of the nodes.\n"
     ]
    },
    {
     "data": {
      "text/plain": [
       "5"
      ]
     },
     "execution_count": 167,
     "metadata": {},
     "output_type": "execute_result"
    }
   ],
   "source": [
    "print('Q: What is the maximum degree of a node in the graph?')\n",
    "print('- For an undirected graph, that is not weighted or a multigraph, the diagonal entries of 𝐴2 are equal to the degree of the nodes.')\n",
    "np.max(np.diagonal(Adjacency_Matrix@Adjacency_Matrix))"
   ]
  },
  {
   "cell_type": "code",
   "execution_count": 181,
   "id": "inside-association",
   "metadata": {},
   "outputs": [
    {
     "data": {
      "text/plain": [
       "(26, 52)"
      ]
     },
     "execution_count": 181,
     "metadata": {},
     "output_type": "execute_result"
    }
   ],
   "source": [
    "np.sum(np.diagonal(Adjacency_Matrix@Adjacency_Matrix)), 2*np.sum(Adjacency_Matrix)"
   ]
  },
  {
   "cell_type": "code",
   "execution_count": 168,
   "id": "affecting-command",
   "metadata": {},
   "outputs": [
    {
     "name": "stdout",
     "output_type": "stream",
     "text": [
      "Q: How many walks of length 5 are there from node 0 (represented by first row/column) to itself?\n"
     ]
    },
    {
     "data": {
      "text/plain": [
       "46"
      ]
     },
     "execution_count": 168,
     "metadata": {},
     "output_type": "execute_result"
    }
   ],
   "source": [
    "print('Q: How many walks of length 5 are there from node 0 (represented by first row/column) to itself?')\n",
    "(Adjacency_Matrix@Adjacency_Matrix@Adjacency_Matrix@Adjacency_Matrix@Adjacency_Matrix)[0,0]"
   ]
  },
  {
   "cell_type": "markdown",
   "id": "standing-volunteer",
   "metadata": {},
   "source": [
    "### Family Tree"
   ]
  },
  {
   "cell_type": "markdown",
   "id": "heated-bristol",
   "metadata": {},
   "source": [
    "### Degree Sum\n",
    "- Degree Sum\n",
    "    - $\\sum_{i=1}^{N} k_i = 2*|number of edges|$"
   ]
  },
  {
   "cell_type": "markdown",
   "id": "familiar-announcement",
   "metadata": {},
   "source": [
    "## 7. Graph Properties and Metrics - II"
   ]
  },
  {
   "cell_type": "code",
   "execution_count": 170,
   "id": "exciting-visiting",
   "metadata": {},
   "outputs": [
    {
     "data": {
      "text/plain": [
       "(1030, 2)"
      ]
     },
     "execution_count": 170,
     "metadata": {},
     "output_type": "execute_result"
    }
   ],
   "source": [
    "edges = np.loadtxt('release_directed_graph.txt')\n",
    "edges.shape"
   ]
  },
  {
   "cell_type": "code",
   "execution_count": 171,
   "id": "shared-terrorist",
   "metadata": {},
   "outputs": [
    {
     "name": "stdout",
     "output_type": "stream",
     "text": [
      "Q: How many nodes does the graph have?\n"
     ]
    },
    {
     "data": {
      "text/plain": [
       "100"
      ]
     },
     "execution_count": 171,
     "metadata": {},
     "output_type": "execute_result"
    }
   ],
   "source": [
    "print('Q: How many nodes does the graph have?')\n",
    "len(np.unique(edges))"
   ]
  },
  {
   "cell_type": "code",
   "execution_count": 33,
   "id": "broke-lawrence",
   "metadata": {},
   "outputs": [
    {
     "data": {
      "text/plain": [
       "8"
      ]
     },
     "execution_count": 33,
     "metadata": {},
     "output_type": "execute_result"
    }
   ],
   "source": [
    "print('Q: How many edges does the graph possess?')\n",
    "edges.shape[0]"
   ]
  },
  {
   "cell_type": "code",
   "execution_count": 172,
   "id": "filled-adobe",
   "metadata": {},
   "outputs": [
    {
     "name": "stdout",
     "output_type": "stream",
     "text": [
      "Q:  Does the graph contain self loops?\n"
     ]
    },
    {
     "data": {
      "text/plain": [
       "8"
      ]
     },
     "execution_count": 172,
     "metadata": {},
     "output_type": "execute_result"
    }
   ],
   "source": [
    "print('Q:  Does the graph contain self loops?')\n",
    "np.sum(edges[:,0] == edges[:,1])"
   ]
  },
  {
   "cell_type": "code",
   "execution_count": 173,
   "id": "utility-million",
   "metadata": {},
   "outputs": [],
   "source": [
    "adj_mat = np.zeros((100,100))\n",
    "for edge in edges:\n",
    "    i = int(edge[0])\n",
    "    j = int(edge[1])\n",
    "    adj_mat[i,j] += 1"
   ]
  },
  {
   "cell_type": "code",
   "execution_count": 174,
   "id": "accurate-nigeria",
   "metadata": {},
   "outputs": [
    {
     "name": "stdout",
     "output_type": "stream",
     "text": [
      "0.0\n"
     ]
    }
   ],
   "source": [
    "no_self_loop = adj_mat.copy()\n",
    "np.fill_diagonal(no_self_loop, 0)\n",
    "print(np.trace(no_self_loop))"
   ]
  },
  {
   "cell_type": "code",
   "execution_count": 176,
   "id": "revised-february",
   "metadata": {},
   "outputs": [
    {
     "name": "stdout",
     "output_type": "stream",
     "text": [
      "found cycle in lengh of wlak= 2\n"
     ]
    }
   ],
   "source": [
    "p = np.identity((100))\n",
    "for i in range(100):\n",
    "    p = p@no_self_loop\n",
    "    if np.trace(p) >0:\n",
    "        print(f'found cycle in lengh of wlak = {i+1}')\n",
    "        break"
   ]
  },
  {
   "cell_type": "markdown",
   "id": "antique-weight",
   "metadata": {},
   "source": [
    "This graph was generated using the following model:\n",
    "- We fixed the number of nodes and every possible directed edge was selected with a probability 𝑝 independently of all other edges. What is the maximum likelihood estimate of 𝑝? Provide an answer accurate to at least five significant figures (graded to 0.01% tolerance), you can also enter your answer as an exact fraction.\n"
   ]
  },
  {
   "cell_type": "code",
   "execution_count": 177,
   "id": "quantitative-potential",
   "metadata": {},
   "outputs": [
    {
     "data": {
      "text/plain": [
       "0.10300000000000001"
      ]
     },
     "execution_count": 177,
     "metadata": {},
     "output_type": "execute_result"
    }
   ],
   "source": [
    "avg_edges = np.mean(np.sum(adj_mat, axis =0))\n",
    "total_nodes = 100\n",
    "avg_edges/total_nodes"
   ]
  },
  {
   "cell_type": "code",
   "execution_count": 178,
   "id": "surprising-poverty",
   "metadata": {},
   "outputs": [
    {
     "data": {
      "text/plain": [
       "0.103"
      ]
     },
     "execution_count": 178,
     "metadata": {},
     "output_type": "execute_result"
    }
   ],
   "source": [
    "maximum_possible_number_of_edges = 100*100 # include self-loop\n",
    "number_of_edges = np.sum(adj_mat)\n",
    "number_of_edges/maximum_possible_number_of_edges"
   ]
  },
  {
   "cell_type": "code",
   "execution_count": null,
   "id": "enclosed-fever",
   "metadata": {},
   "outputs": [],
   "source": [
    "from scipy.stats import binom, chi2, poisson, ttest_ind, fisher_exact, hypergeom"
   ]
  },
  {
   "cell_type": "code",
   "execution_count": null,
   "id": "yellow-passport",
   "metadata": {},
   "outputs": [],
   "source": [
    "null = binom(10000, 0.1)"
   ]
  },
  {
   "cell_type": "code",
   "execution_count": 109,
   "id": "rational-andorra",
   "metadata": {},
   "outputs": [
    {
     "data": {
      "text/plain": [
       "2"
      ]
     },
     "execution_count": 109,
     "metadata": {},
     "output_type": "execute_result"
    }
   ],
   "source": [
    "5%3"
   ]
  },
  {
   "cell_type": "markdown",
   "id": "turned-photographer",
   "metadata": {},
   "source": [
    "## Circle Graph"
   ]
  },
  {
   "cell_type": "code",
   "execution_count": 115,
   "id": "concrete-campbell",
   "metadata": {},
   "outputs": [
    {
     "name": "stdout",
     "output_type": "stream",
     "text": [
      "n= 3\n",
      "k= 1\n",
      "0.0\n",
      "[2. 2. 2.]\n",
      "6.0\n",
      "k= 2\n",
      "0.0\n",
      "[2. 2. 2.]\n",
      "6.0\n"
     ]
    }
   ],
   "source": [
    "n=3\n",
    "k_range = range(1,n)\n",
    "adj_mat = np.zeros((n,n))\n",
    "\n",
    "print('n=', n)\n",
    "for k in k_range:\n",
    "    adj_mat = np.zeros((n,n))\n",
    "    p = np.identity((n))\n",
    "    print('k=',k)\n",
    "    for i in range(0,n):\n",
    "        adj_mat[i, (i+k)%n]=1\n",
    "    for j in range(n):\n",
    "        p = p@adj_mat\n",
    "    print(np.min(p))\n",
    "    print(np.sum(adj_mat+adj_mat.T, axis=0))\n",
    "    print(np.sum(adj_mat+adj_mat.T))\n",
    "    "
   ]
  },
  {
   "cell_type": "code",
   "execution_count": null,
   "id": "african-state",
   "metadata": {},
   "outputs": [],
   "source": [
    "t1 = [0,2,4,6,8]\n",
    "t2 = [ 1,3,5,7,9 ]"
   ]
  },
  {
   "cell_type": "code",
   "execution_count": 131,
   "id": "powerful-think",
   "metadata": {},
   "outputs": [],
   "source": [
    "adj_mat = np.array([[0, 1, 0, 1, 0, 1, 0, 0, 0, 0],\n",
    "                    [1, 0, 1, 1, 1, 0, 0, 0, 0, 0],\n",
    "                    [0, 1, 0, 0, 0, 0, 0, 0, 0, 0],\n",
    "                    [1, 1, 0, 0, 0, 1, 0, 1, 1, 0],\n",
    "                    [0, 1, 0, 0, 0, 0, 0, 0, 1, 1],\n",
    "                    [1, 0, 0, 1, 0, 0, 0, 0, 0, 0],\n",
    "                    [0, 0, 0, 0, 0, 0, 0, 0, 0, 1],\n",
    "                    [0, 0, 0, 1, 0, 0, 0, 0, 0, 0],\n",
    "                    [0, 0, 0, 1, 1, 0, 0, 0, 0, 1],\n",
    "                    [0, 0, 0, 0, 1, 0, 1, 0, 1, 0]])"
   ]
  },
  {
   "cell_type": "code",
   "execution_count": 132,
   "id": "controlled-upgrade",
   "metadata": {},
   "outputs": [
    {
     "data": {
      "text/plain": [
       "(26, array([3, 4, 1, 5, 3, 2, 1, 1, 3, 3]))"
      ]
     },
     "execution_count": 132,
     "metadata": {},
     "output_type": "execute_result"
    }
   ],
   "source": [
    "m = np.sum(adj_mat)\n",
    "degree = np.sum(adj_mat, axis=0)\n",
    "m, degree\n"
   ]
  },
  {
   "cell_type": "code",
   "execution_count": 133,
   "id": "above-stamp",
   "metadata": {},
   "outputs": [
    {
     "data": {
      "text/plain": [
       "(0, 0, 1, 1)"
      ]
     },
     "execution_count": 133,
     "metadata": {},
     "output_type": "execute_result"
    }
   ],
   "source": [
    "0%2, 2%2, 1%2, 3%2"
   ]
  },
  {
   "cell_type": "code",
   "execution_count": 138,
   "id": "multiple-yield",
   "metadata": {},
   "outputs": [],
   "source": [
    "modularity = 0\n",
    "for i in range(10):\n",
    "    for j in range(10):\n",
    "        if i%2 == j%2:\n",
    "            modularity+= (1/2*m) * (adj_mat[i,j]-(degree[i]*degree[j]/(2*m)))"
   ]
  },
  {
   "cell_type": "code",
   "execution_count": 139,
   "id": "raising-pricing",
   "metadata": {},
   "outputs": [
    {
     "data": {
      "text/plain": [
       "17.5"
      ]
     },
     "execution_count": 139,
     "metadata": {},
     "output_type": "execute_result"
    }
   ],
   "source": [
    "modularity"
   ]
  },
  {
   "cell_type": "code",
   "execution_count": null,
   "id": "documentary-advocate",
   "metadata": {},
   "outputs": [],
   "source": [
    "np.sum(adj_mat-)"
   ]
  },
  {
   "cell_type": "code",
   "execution_count": 141,
   "id": "capital-customer",
   "metadata": {},
   "outputs": [],
   "source": [
    "mat = np.array([[0, 1, 0, 1, 0, 1, 0, 0, 0, 0],\n",
    "                    [1, 0, 1, 1, 1, 0, 0, 0, 0, 0],\n",
    "                    [0, 1, 0, 0, 0, 0, 0, 0, 0, 0],\n",
    "                    [1, 1, 0, 0, 0, 1, 0, 1, 1, 0],\n",
    "                    [0, 1, 0, 0, 0, 0, 0, 0, 1, 1],\n",
    "                    [1, 0, 0, 1, 0, 0, 0, 0, 0, 0],\n",
    "                    [0, 0, 0, 0, 0, 0, 0, 0, 0, 1],\n",
    "                    [0, 0, 0, 1, 0, 0, 0, 0, 0, 0],\n",
    "                    [0, 0, 0, 1, 1, 0, 0, 0, 0, 1],\n",
    "                    [0, 0, 0, 0, 1, 0, 1, 0, 1, 0]])"
   ]
  },
  {
   "cell_type": "code",
   "execution_count": 142,
   "id": "proved-salmon",
   "metadata": {},
   "outputs": [
    {
     "data": {
      "text/plain": [
       "-0.20414201183431957"
      ]
     },
     "execution_count": 142,
     "metadata": {},
     "output_type": "execute_result"
    }
   ],
   "source": [
    "def modularity_partition(A, part):\n",
    "\tm = A.sum()/2\n",
    "\tks = A.sum(axis=0)\n",
    "\treturn ( A[part].T[part].T - ks[part][:,None]*ks[part][None,:]/(2*m) ).sum()/(2*m)\n",
    "\n",
    "def modularity(A, parts):\n",
    "\treturn sum([ modularity_partition(A, p) for p in parts ])\n",
    "\n",
    "modularity(mat, [[0,2,4,6,8], [1,3,5,7,9]])"
   ]
  },
  {
   "cell_type": "code",
   "execution_count": null,
   "id": "miniature-peninsula",
   "metadata": {},
   "outputs": [],
   "source": []
  }
 ],
 "metadata": {
  "kernelspec": {
   "display_name": "Python 3",
   "language": "python",
   "name": "python3"
  },
  "language_info": {
   "codemirror_mode": {
    "name": "ipython",
    "version": 3
   },
   "file_extension": ".py",
   "mimetype": "text/x-python",
   "name": "python",
   "nbconvert_exporter": "python",
   "pygments_lexer": "ipython3",
   "version": "3.8.8"
  }
 },
 "nbformat": 4,
 "nbformat_minor": 5
}
