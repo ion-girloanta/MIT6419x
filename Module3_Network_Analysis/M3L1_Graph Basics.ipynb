{
 "cells": [
  {
   "cell_type": "code",
   "execution_count": 450,
   "id": "associate-potato",
   "metadata": {},
   "outputs": [],
   "source": [
    "import numpy as np\n",
    "import networkx as nx\n",
    "from networkx.algorithms import bipartite\n",
    "import scipy\n",
    "from scipy.stats import binom, chi2, poisson, ttest_ind, fisher_exact, hypergeom, norm\n",
    "import seaborn as sns\n",
    "import matplotlib.pyplot as plt"
   ]
  },
  {
   "cell_type": "markdown",
   "id": "standard-construction",
   "metadata": {},
   "source": [
    "## Networkx Tutorial"
   ]
  },
  {
   "cell_type": "code",
   "execution_count": 2,
   "id": "rapid-illustration",
   "metadata": {},
   "outputs": [],
   "source": [
    "# create nework object\n",
    "## Way1, by manual\n",
    "### nx.Graph() # if undirected \n",
    "### nx.DiGraph() # if directed\n",
    "### nx.MultiGraph # if MultiGraph\n",
    "### nx.DiMultiGraph # if directed MultiGraph\n",
    "ex1 = nx.DiGraph() # if directed\n",
    "\n",
    "### adding nodes and edges from ANY iterable container, such as list\n",
    "#### adding unweighted edges\n",
    "V={1,2,3,4,5}\n",
    "E={(1,2),(2,3),(3,4),(4,5),(5,2)}\n",
    "ex1.add_nodes_from(V)\n",
    "ex1.add_edges_from(E)\n",
    "#### adding weighted edges\n",
    "e = [('a', 'b', 0.3), ('b', 'c', 0.9), ('a', 'c', 0.5), ('c', 'd', 1.2)]\n",
    "ex1.add_weighted_edges_from(e)\n",
    "\n",
    "\n",
    "## Way2, create graph from edge list stored in data file\n",
    "E_path =  './release_directed_graph.txt'\n",
    "ex2 = nx.read_edgelist(E_path,\n",
    "                     create_using = nx.DiGraph(), # Use Graph() instead of DiGraph() for directed vs. undirected, \n",
    "                     nodetype = int) # Do not forget to specify node information type\n",
    "## Way3, create graph from numpy adjacency matrix\n",
    "A = [[0, 1, 0, 1, 0, 0, 0, 0], \n",
    "    [1, 0, 1, 0, 0, 0, 0, 0], \n",
    "    [0, 1, 0, 1, 1, 0, 0, 0], \n",
    "    [1, 0, 1, 0, 0, 0, 0, 0], \n",
    "    [0, 0, 1, 0, 0, 1, 0, 0], \n",
    "    [0, 0, 0, 0, 1, 0, 1, 0], \n",
    "    [0, 0, 0, 0, 0, 1, 0, 1], \n",
    "    [0, 0, 0, 0, 0, 0, 1, 0]]\n",
    "ex3 = nx.from_numpy_matrix(np.array(A), create_using=nx.Graph)\n",
    "\n",
    "examples=[ex1, ex2, ex3]"
   ]
  },
  {
   "cell_type": "code",
   "execution_count": 3,
   "id": "rocky-finnish",
   "metadata": {},
   "outputs": [
    {
     "name": "stdout",
     "output_type": "stream",
     "text": [
      "Listing nodes\n",
      " [1, 2, 3, 4, 5, 'a', 'b', 'c', 'd']\n",
      "Listing edges\n",
      " [(1, 2), (2, 3), (3, 4), (4, 5), (5, 2), ('a', 'b'), ('a', 'c'), ('b', 'c'), ('c', 'd')]\n"
     ]
    }
   ],
   "source": [
    "# basic properties\n",
    "## nodes and edges\n",
    "print(f'Listing nodes\\n {list(ex1.nodes)}')\n",
    "print(f'Listing edges\\n {list(ex1.edges)}')"
   ]
  },
  {
   "cell_type": "code",
   "execution_count": 13,
   "id": "induced-specific",
   "metadata": {},
   "outputs": [],
   "source": [
    "# from network to adjacency matrix\n",
    "## sparse matrix\n",
    "adj_ex1 = nx.adjacency_matrix(ex1)\n",
    "## dence matrix\n",
    "adj_ex3 = nx.to_numpy_array(ex3)\n",
    "\n",
    "# print(adj_ex1.todense())\n",
    "# print(adj_ex3)"
   ]
  },
  {
   "cell_type": "markdown",
   "id": "alive-reason",
   "metadata": {},
   "source": [
    "## Types of Graphs"
   ]
  },
  {
   "cell_type": "code",
   "execution_count": 318,
   "id": "moving-senator",
   "metadata": {},
   "outputs": [],
   "source": [
    "class graph_properties():\n",
    "    def __init__(self, nodes=None, edges=None, adjmat=None):\n",
    "        self.nodes = nodes\n",
    "        self.edges = edges\n",
    "        self.selfloop = False\n",
    "        self.directed = True\n",
    "        # Adjacency_Matrix\n",
    "        if type(adjmat) == type(None):\n",
    "            self.adjmat = np.zeros((len(nodes),len(nodes)))\n",
    "            for edge in edges:\n",
    "                if type(edge)== set:\n",
    "                    self.directed = False\n",
    "                    edge = list(edge)\n",
    "                    if len(edge) == 1:\n",
    "                        self.selfloop = True\n",
    "                        self.adjmat[edge[0]-1,edge[0]-1]+=1\n",
    "                    else:\n",
    "                        self.adjmat[edge[0]-1,edge[1]-1]+=1\n",
    "                        self.adjmat[edge[1]-1,edge[0]-1]+=1\n",
    "                else:\n",
    "                    self.adjmat[edge[0]-1,edge[1]-1]+=1\n",
    "        else:\n",
    "            self.adjmat = adjmat\n",
    "        self.symmetric = (self.adjmat==self.adjmat.T).all()\n",
    "        self.acyclic = np.allclose(np.linalg.eig(self.adjmat)[0],0)\n",
    "        \n",
    "    def properties(self):\n",
    "        # Undirected or Directed\n",
    "        ## type(edges) == set, Undirected\n",
    "        if self.directed:\n",
    "            if self.symmetric:\n",
    "                print('Directed network and symmetric Adjacency_Matrix')\n",
    "            else:\n",
    "                print('Directed network')\n",
    "        else:\n",
    "            print('Undirected network')\n",
    "        # acyclic or cyclic\n",
    "        ## if adjmat's eigenvalues all = 0, acyclic\n",
    "        if self.acyclic:\n",
    "            print('Acyclic network')\n",
    "        else:\n",
    "            print('Cyclic network')\n",
    "        # simple or Multi\n",
    "        ## if no self-loop or at-most 1 edge in any pair of nodes, simple\n",
    "        if not self.selfloop and (np.max(self.adjmat)<=1) and self.symmetric:\n",
    "            print('Simple graph')\n",
    "        else:\n",
    "            print('Multigraph')\n",
    "            \n",
    "def bipartite_sets(network):\n",
    "    set1 = set()\n",
    "    set2 = set()\n",
    "    elements_notin_set = np.vectorize(lambda x, set_ : x not in set_)\n",
    "    \n",
    "    adja_matrix = nx.to_numpy_array(network)\n",
    "    if np.trace(adja_matrix) != 0:\n",
    "        return('Find self-loop, can not be bipartite')\n",
    "    non_classified_nodes = list(network.nodes)\n",
    "    classified_nodes = []\n",
    "    start_from = min(non_classified_nodes)\n",
    "    c=0\n",
    "    while non_classified_nodes:\n",
    "        for node in non_classified_nodes:\n",
    "            py_index = node-start_from\n",
    "            neighbors = np.hstack([np.where(adja_matrix[py_index]>0)[0], np.where(adja_matrix[:,py_index]>0)[0]])+1\n",
    "            \n",
    "            node_not_in_set1 = node not in set1\n",
    "            node_not_in_set2 = node not in set2\n",
    "            try:\n",
    "                neighnor_not_in_set1 = elements_notin_set(neighbors, set1)\n",
    "                neighnor_not_in_set2 = elements_notin_set(neighbors, set2)\n",
    "            except:\n",
    "                neighnor_not_in_set1 = np.array([])\n",
    "                neighnor_not_in_set2 = np.array([])\n",
    "            if not classified_nodes: # if classified_nodes is empty\n",
    "                set1.update({node})\n",
    "                set2.update(set(neighbors))\n",
    "                non_classified_nodes.remove(node)\n",
    "                classified_nodes.append(node)\n",
    "            elif node in set1 or node in set2:\n",
    "                if node_not_in_set1 and neighnor_not_in_set2.all():\n",
    "                    set2.update({node})\n",
    "                    try:\n",
    "                        set1.update(set(neighbors))\n",
    "                    except ValueError:\n",
    "                        pass\n",
    "                    non_classified_nodes.remove(node)\n",
    "                    classified_nodes.append(node)\n",
    "                elif node_not_in_set2 and neighnor_not_in_set1.all():\n",
    "                    set1.update({node})\n",
    "                    try:\n",
    "                        set2.update(set(neighbors))\n",
    "                    except ValueError:\n",
    "                        pass\n",
    "                    non_classified_nodes.remove(node)\n",
    "                    classified_nodes.append(node)\n",
    "        c+=1\n",
    "        if c > len(list(network.nodes)):\n",
    "            return  non_classified_nodes, print('Probably not bipartite')\n",
    "    return set1, set2"
   ]
  },
  {
   "cell_type": "code",
   "execution_count": 319,
   "id": "excellent-costs",
   "metadata": {},
   "outputs": [
    {
     "name": "stdout",
     "output_type": "stream",
     "text": [
      "Potential undirected network? \n",
      " False\n",
      "All eig_values close to 0?\n",
      " False\n"
     ]
    }
   ],
   "source": [
    "#1\n",
    "V={1,2,3,4,5}\n",
    "E={(1,2),(2,3),(3,4),(4,5),(5,2)}\n",
    "G = nx.DiGraph() \n",
    "G.add_nodes_from(V)\n",
    "G.add_edges_from(E)\n",
    "adja_matrix = nx.to_numpy_array(G)\n",
    "\n",
    "# check properties\n",
    "## if a nework is potential undirected, adja_matrix == adja_matrix.T\n",
    "print('Potential undirected network? \\n', (adja_matrix == adja_matrix.T).all())\n",
    "## if a network is Acyclic, all eigenvalues of adja_matrix == 0\n",
    "eig_values = np.linalg.eig(adja_matrix)[0]\n",
    "print('All eig_values close to 0?\\n', np.allclose(eig_values,0))"
   ]
  },
  {
   "cell_type": "code",
   "execution_count": 320,
   "id": "naval-notebook",
   "metadata": {},
   "outputs": [
    {
     "name": "stdout",
     "output_type": "stream",
     "text": [
      "Potential undirected network? \n",
      " False\n",
      "All eig_values close to 0?\n",
      " True\n"
     ]
    }
   ],
   "source": [
    "#2\n",
    "V={1,2,3,4,5}\n",
    "E={(1,2),(1,4),(3,4),(4,5),(5,2)}\n",
    "G = nx.DiGraph() \n",
    "G.add_nodes_from(V)\n",
    "G.add_edges_from(E)\n",
    "adja_matrix = nx.to_numpy_array(G)\n",
    "\n",
    "# check properties\n",
    "## if a nework is potential undirected, adja_matrix == adja_matrix.T\n",
    "print('Potential undirected network? \\n', (adja_matrix == adja_matrix.T).all())\n",
    "## if a network is Acyclic, all eigenvalues of adja_matrix == 0\n",
    "eig_values = np.linalg.eig(adja_matrix)[0]\n",
    "print('All eig_values close to 0?\\n', np.allclose(eig_values,0))"
   ]
  },
  {
   "cell_type": "code",
   "execution_count": 321,
   "id": "mediterranean-iceland",
   "metadata": {},
   "outputs": [
    {
     "name": "stdout",
     "output_type": "stream",
     "text": [
      "Potential undirected network? \n",
      " True\n",
      "All eig_values close to 0?\n",
      " False\n"
     ]
    }
   ],
   "source": [
    "#3\n",
    "V={1,2,3,4,5}\n",
    "E=[{1,2},{1,4},{3,4},{4,5},{5,2}] #in the notation of an undirected edge, use set {}\n",
    "G = nx.Graph() #in the notation of an undirected edge, use set {}\n",
    "G.add_nodes_from(V)\n",
    "G.add_edges_from(E)\n",
    "adja_matrix = nx.to_numpy_array(G)\n",
    "\n",
    "# check properties\n",
    "## if a nework is potential undirected, adja_matrix == adja_matrix.T\n",
    "print('Potential undirected network? \\n', (adja_matrix == adja_matrix.T).all())\n",
    "## if a network is Acyclic, all eigenvalues of adja_matrix == 0\n",
    "eig_values = np.linalg.eig(adja_matrix)[0]\n",
    "print('All eig_values close to 0?\\n', np.allclose(eig_values,0))"
   ]
  },
  {
   "cell_type": "code",
   "execution_count": 322,
   "id": "otherwise-warner",
   "metadata": {},
   "outputs": [
    {
     "name": "stdout",
     "output_type": "stream",
     "text": [
      "Maximun number of edges between two nodes=\n",
      " 1.0\n",
      "Number of self-loop=\n",
      " 1.0\n"
     ]
    },
    {
     "data": {
      "text/plain": [
       "'Find self-loop, can not be bipartite'"
      ]
     },
     "execution_count": 322,
     "metadata": {},
     "output_type": "execute_result"
    }
   ],
   "source": [
    "#4\n",
    "V={1,2,3,4,5}\n",
    "E=[{1,2},{1,4},{3,4},{4,5},{5,2},(3,3)] #in the notation of an undirected edge, use set {}\n",
    "G = nx.Graph() #in the notation of an undirected edge, use set {}\n",
    "G.add_nodes_from(V)\n",
    "G.add_edges_from(E)\n",
    "adja_matrix = nx.to_numpy_array(G)\n",
    "\n",
    "# check properties\n",
    "## if a nework is a simple network, there is no self-loop and at most 1 edge between any two nodes\n",
    "max_num_edges = np.max(adja_matrix)\n",
    "num_of_selfloop = np.trace(adja_matrix)\n",
    "print(f'Maximun number of edges between two nodes=\\n {max_num_edges}')\n",
    "print(f'Number of self-loop=\\n {num_of_selfloop}')\n",
    "bipartite_sets(G)"
   ]
  },
  {
   "cell_type": "code",
   "execution_count": 323,
   "id": "outer-greece",
   "metadata": {},
   "outputs": [
    {
     "name": "stdout",
     "output_type": "stream",
     "text": [
      "Maximun number of edges between two nodes=\n",
      " 1.0\n",
      "Number of self-loop=\n",
      " 0.0\n"
     ]
    },
    {
     "data": {
      "text/plain": [
       "({1, 5}, {2, 3, 4})"
      ]
     },
     "execution_count": 323,
     "metadata": {},
     "output_type": "execute_result"
    }
   ],
   "source": [
    "#5\n",
    "V={1,2,3,4,5}\n",
    "E=[{1,2},{1,4},{3,1},{4,5},{5,2}]\n",
    "G = nx.Graph() #in the notation of an undirected edge, use set {}\n",
    "G.add_nodes_from(V)\n",
    "G.add_edges_from(E)\n",
    "adja_matrix = nx.to_numpy_array(G)\n",
    "\n",
    "# check properties\n",
    "## if a nework is a simple network, there is no self-loop and at most 1 edge between any two nodes\n",
    "max_num_edges = np.max(adja_matrix)\n",
    "num_of_selfloop = np.trace(adja_matrix)\n",
    "print(f'Maximun number of edges between two nodes=\\n {max_num_edges}')\n",
    "print(f'Number of self-loop=\\n {num_of_selfloop}')\n",
    "## if a nework is a Bipartite network, \n",
    "bipartite_sets(G)"
   ]
  },
  {
   "cell_type": "markdown",
   "id": "overhead-median",
   "metadata": {},
   "source": [
    "## Adjacency Matrix\n",
    "Adjacency Matrix = $A$\n",
    "- A non-zero $A_{i,i}$ represents a loop from node $i$ to itself.\n",
    "- $A=A^T$ can be directed or undirected."
   ]
  },
  {
   "cell_type": "markdown",
   "id": "occasional-newport",
   "metadata": {},
   "source": [
    "### Powers of the Adjacency Matrix\n",
    "- Theorem:\n",
    "    - Let $A$ be the adjacency matrix of an unweighted graph (could be directed/undirected, simple/multigraph). \n",
    "    - $A^l$ is $A$ to the power of $l$, $A$ 的 $l$ 次方\n",
    "        - $A^l_{i,j}$\n",
    "            - is the element in row $i$ and column $j$ of $A^l$\n",
    "            - is the number of walks of length $l$ from node $i$ to node $j$.\n",
    "\n"
   ]
  },
  {
   "cell_type": "code",
   "execution_count": 386,
   "id": "technical-estimate",
   "metadata": {},
   "outputs": [
    {
     "name": "stdout",
     "output_type": "stream",
     "text": [
      "Q: How many walks of length 2 are there from node 1 to 2\n",
      "1\n",
      "---\n",
      "Q: How many walks of length 3 are there from node 1 to 2\n",
      "1\n"
     ]
    }
   ],
   "source": [
    "# Walks of Length 2 and 3\n",
    "A = np.array([[1,1,0],[0,0,1],[1,0,0]])\n",
    "print('Q: How many walks of length 2 are there from node 1 to 2')\n",
    "A2 = A@A\n",
    "print(A2[0,1])\n",
    "print('---')\n",
    "\n",
    "print('Q: How many walks of length 3 are there from node 1 to 2')\n",
    "A3 = A2@A\n",
    "print(A3[0,1])"
   ]
  },
  {
   "cell_type": "markdown",
   "id": "bearing-skill",
   "metadata": {},
   "source": [
    "## Graph Properties and Metrics"
   ]
  },
  {
   "cell_type": "markdown",
   "id": "polish-minister",
   "metadata": {},
   "source": [
    "### Connected Components\n",
    "- Undirected graph\n",
    "    - A subset of nodes $V' \\subset V$ such that:\n",
    "        - There exists at least one walk from $v_i$ to $v_j$ whenever $v_i\\,v_j \\in V'$\n",
    "        - There is no walk from $v_i$ to $v_j$ whenever $v_i \\in V' ; v_j \\in (V \\backslash V')$\n",
    "            - $V \\backslash V'$, 在 $V$ 不在 $V'$\n",
    "- Directed graph\n",
    "    - A subset of nodes $V' \\subset V$ is ***strongly connected*** such that:\n",
    "        - every vertex in $V'$ is reachable from every other vertex in $V'$\n",
    "        - there exists some vertex in $V'$ and some vertex in $(V \\backslash V')$ such that there is no directed path between such vertices in at least one direction."
   ]
  },
  {
   "cell_type": "code",
   "execution_count": 354,
   "id": "graduate-witch",
   "metadata": {},
   "outputs": [],
   "source": [
    "Adjacency_Matrix=np.array([[0, 1, 0, 1, 0, 1, 0, 0, 0, 0],\n",
    "                            [1, 0, 1, 1, 1, 0, 0, 0, 0, 0],\n",
    "                            [0, 1, 0, 0, 0, 0, 0, 0, 0, 0],\n",
    "                            [1, 1, 0, 0, 0, 1, 0, 1, 1, 0],\n",
    "                            [0, 1, 0, 0, 0, 0, 0, 0, 1, 1],\n",
    "                            [1, 0, 0, 1, 0, 0, 0, 0, 0, 0],\n",
    "                            [0, 0, 0, 0, 0, 0, 0, 0, 0, 1],\n",
    "                            [0, 0, 0, 1, 0, 0, 0, 0, 0, 0],\n",
    "                            [0, 0, 0, 1, 1, 0, 0, 0, 0, 1],\n",
    "                            [0, 0, 0, 0, 1, 0, 1, 0, 1, 0]])"
   ]
  },
  {
   "cell_type": "code",
   "execution_count": 360,
   "id": "bound-england",
   "metadata": {},
   "outputs": [],
   "source": [
    "G = nx.from_numpy_matrix(np.array(Adjacency_Matrix), create_using=nx.Graph)\n"
   ]
  },
  {
   "cell_type": "code",
   "execution_count": 361,
   "id": "miniature-logan",
   "metadata": {},
   "outputs": [
    {
     "name": "stdout",
     "output_type": "stream",
     "text": [
      "Q: Does the adjacency matrix represent a simple graph?\n",
      "Number of self-loops = \n",
      " 0\n",
      "The maximun number of edges between pair of nodes= \n",
      " 1\n",
      "Adjacency matrix is symmetric?\n",
      " True\n",
      "--> this graph is a simple graph\n"
     ]
    }
   ],
   "source": [
    "print('Q: Does the adjacency matrix represent a simple graph?')\n",
    "\n",
    "# check number of self-loop\n",
    "print('Number of self-loops = \\n', np.trace(Adjacency_Matrix))\n",
    "# check at most one edge between pair of nodes\n",
    "print('The maximun number of edges between pair of nodes= \\n', np.max(Adjacency_Matrix))\n",
    "# check symmetric\n",
    "print('Adjacency matrix is symmetric?\\n', (Adjacency_Matrix==Adjacency_Matrix.T).all())\n",
    "\n",
    "print('--> this graph is a simple graph')"
   ]
  },
  {
   "cell_type": "code",
   "execution_count": 362,
   "id": "packed-technique",
   "metadata": {},
   "outputs": [
    {
     "name": "stdout",
     "output_type": "stream",
     "text": [
      "Q: Can the adjacency matrix potentially represent an undirected graph?\n",
      "Adjacency matrix is symmetric?\n",
      " True\n",
      "--> yes\n"
     ]
    }
   ],
   "source": [
    "print('Q: Can the adjacency matrix potentially represent an undirected graph?')\n",
    "\n",
    "print('Adjacency matrix is symmetric?\\n', (Adjacency_Matrix==Adjacency_Matrix.T).all())\n",
    "\n",
    "print('--> yes')"
   ]
  },
  {
   "cell_type": "markdown",
   "id": "frequent-quality",
   "metadata": {},
   "source": [
    "[neworkx Connected Components](https://networkx.org/documentation/stable/reference/algorithms/component.html?highlight=connect)"
   ]
  },
  {
   "cell_type": "code",
   "execution_count": 363,
   "id": "brilliant-medicine",
   "metadata": {},
   "outputs": [
    {
     "name": "stdout",
     "output_type": "stream",
     "text": [
      "Q: Is the graph connected?\n",
      "Q: What is the minimum length of walk \"l\" such that A^l contains no entry equal to 0?\n",
      "Q: How many connected components does the graph have?\n",
      "--> Connected, the shorted length = 4\n",
      "--> networkx connected check = True\n",
      "--> number of connected components= 1\n"
     ]
    }
   ],
   "source": [
    "print('Q: Is the graph connected?')\n",
    "print('Q: What is the minimum length of walk \"l\" such that A^l contains no entry equal to 0?')\n",
    "print('Q: How many connected components does the graph have?')\n",
    "\n",
    "number_of_nodes = len(Adjacency_Matrix)\n",
    "n_length = np.identity(number_of_nodes)\n",
    "for i in range(number_of_nodes):\n",
    "    n_length = n_length@Adjacency_Matrix\n",
    "    if np.min(n_length) > 0:\n",
    "        print(f'--> Connected, the shorted length = {i+1}')\n",
    "        break\n",
    "print(f'--> networkx connected check = {nx.is_connected(G)}')\n",
    "print(f'--> number of connected components= {nx.number_connected_components(G)}')"
   ]
  },
  {
   "cell_type": "code",
   "execution_count": 371,
   "id": "accomplished-vault",
   "metadata": {},
   "outputs": [
    {
     "name": "stdout",
     "output_type": "stream",
     "text": [
      "Q: What is the maximum degree of a node in the graph?\n",
      "For an undirected graph, that is not weighted or a multigraph, the diagonal entries of 𝐴2 are equal to the degree of the nodes.\n",
      "Adjacency_Matrix check= 5\n",
      "networkx check= 5\n"
     ]
    }
   ],
   "source": [
    "print('Q: What is the maximum degree of a node in the graph?')\n",
    "print('For an undirected graph, that is not weighted or a multigraph, the diagonal entries of 𝐴2 are equal to the degree of the nodes.')\n",
    "print('Adjacency_Matrix check=', np.max(np.diagonal(Adjacency_Matrix@Adjacency_Matrix)))\n",
    "print('networkx check=', np.max(np.array(G.degree())[:,1]))\n",
    "\n"
   ]
  },
  {
   "cell_type": "code",
   "execution_count": 370,
   "id": "signed-thing",
   "metadata": {},
   "outputs": [
    {
     "name": "stdout",
     "output_type": "stream",
     "text": [
      "Q: How many walks of length 5 are there from node 0 (represented by first row/column) to itself?\n"
     ]
    },
    {
     "data": {
      "text/plain": [
       "46"
      ]
     },
     "execution_count": 370,
     "metadata": {},
     "output_type": "execute_result"
    }
   ],
   "source": [
    "print('Q: How many walks of length 5 are there from node 0 (represented by first row/column) to itself?')\n",
    "(Adjacency_Matrix@Adjacency_Matrix@Adjacency_Matrix@Adjacency_Matrix@Adjacency_Matrix)[0,0]"
   ]
  },
  {
   "cell_type": "markdown",
   "id": "rocky-tension",
   "metadata": {},
   "source": [
    "### Degree Sum\n",
    "Let 𝑘1,…,𝑘𝑛 be the degrees of an 𝑛-node undirected, simple graph. Let 𝑒 be the number of edges in the graph.\n",
    "- Degree Sum\n",
    "    - $\\sum_{i=1}^{N} k_i = 2*|number\\ of\\ edges|$"
   ]
  },
  {
   "cell_type": "code",
   "execution_count": 377,
   "id": "polar-printing",
   "metadata": {},
   "outputs": [
    {
     "data": {
      "text/plain": [
       "(26.0, 26, 26)"
      ]
     },
     "execution_count": 377,
     "metadata": {},
     "output_type": "execute_result"
    }
   ],
   "source": [
    "# UNdirected\n",
    "2*(np.sum(Adjacency_Matrix))/2,\\\n",
    "2*len(G.edges), \\\n",
    "np.sum(np.array(G.degree())[:,1]), "
   ]
  },
  {
   "cell_type": "markdown",
   "id": "collectible-accident",
   "metadata": {},
   "source": [
    "## 7. Graph Properties and Metrics - II"
   ]
  },
  {
   "cell_type": "code",
   "execution_count": 389,
   "id": "geographic-article",
   "metadata": {},
   "outputs": [
    {
     "data": {
      "text/plain": [
       "(1030, 2)"
      ]
     },
     "execution_count": 389,
     "metadata": {},
     "output_type": "execute_result"
    }
   ],
   "source": [
    "edges = np.loadtxt('release_directed_graph.txt')\n",
    "edges.shape"
   ]
  },
  {
   "cell_type": "code",
   "execution_count": 390,
   "id": "exclusive-height",
   "metadata": {},
   "outputs": [
    {
     "name": "stdout",
     "output_type": "stream",
     "text": [
      "Q: How many nodes does the graph have?\n"
     ]
    },
    {
     "data": {
      "text/plain": [
       "100"
      ]
     },
     "execution_count": 390,
     "metadata": {},
     "output_type": "execute_result"
    }
   ],
   "source": [
    "print('Q: How many nodes does the graph have?')\n",
    "len(np.unique(edges))"
   ]
  },
  {
   "cell_type": "code",
   "execution_count": 391,
   "id": "played-answer",
   "metadata": {},
   "outputs": [
    {
     "name": "stdout",
     "output_type": "stream",
     "text": [
      "Q: How many edges does the graph possess?\n"
     ]
    },
    {
     "data": {
      "text/plain": [
       "1030"
      ]
     },
     "execution_count": 391,
     "metadata": {},
     "output_type": "execute_result"
    }
   ],
   "source": [
    "print('Q: How many edges does the graph possess?')\n",
    "edges.shape[0]"
   ]
  },
  {
   "cell_type": "code",
   "execution_count": 392,
   "id": "developmental-casting",
   "metadata": {},
   "outputs": [
    {
     "name": "stdout",
     "output_type": "stream",
     "text": [
      "Q:  Does the graph contain self loops?\n"
     ]
    },
    {
     "data": {
      "text/plain": [
       "8"
      ]
     },
     "execution_count": 392,
     "metadata": {},
     "output_type": "execute_result"
    }
   ],
   "source": [
    "print('Q:  Does the graph contain self loops?')\n",
    "np.sum(edges[:,0] == edges[:,1])"
   ]
  },
  {
   "cell_type": "code",
   "execution_count": 393,
   "id": "current-radio",
   "metadata": {},
   "outputs": [],
   "source": [
    "adj_mat = np.zeros((100,100))\n",
    "for edge in edges:\n",
    "    i = int(edge[0])\n",
    "    j = int(edge[1])\n",
    "    adj_mat[i,j] += 1"
   ]
  },
  {
   "cell_type": "code",
   "execution_count": 394,
   "id": "based-kazakhstan",
   "metadata": {},
   "outputs": [
    {
     "name": "stdout",
     "output_type": "stream",
     "text": [
      "0.0\n"
     ]
    }
   ],
   "source": [
    "no_self_loop = adj_mat.copy()\n",
    "np.fill_diagonal(no_self_loop, 0)\n",
    "print(np.trace(no_self_loop))"
   ]
  },
  {
   "cell_type": "code",
   "execution_count": 395,
   "id": "connected-connection",
   "metadata": {},
   "outputs": [
    {
     "name": "stdout",
     "output_type": "stream",
     "text": [
      "found cycle in lengh of wlak = 2\n"
     ]
    }
   ],
   "source": [
    "p = np.identity((100))\n",
    "for i in range(100):\n",
    "    p = p@no_self_loop\n",
    "    if np.trace(p) >0:\n",
    "        print(f'found cycle in lengh of wlak = {i+1}')\n",
    "        break"
   ]
  },
  {
   "cell_type": "markdown",
   "id": "sought-judge",
   "metadata": {},
   "source": [
    "### 5. \n",
    "This graph was generated using the following model:\n",
    "- We fixed the number of nodes and every possible directed edge was selected with a probability 𝑝 independently of all other edges. What is the maximum likelihood estimate of 𝑝? Provide an answer accurate to at least five significant figures (graded to 0.01% tolerance), you can also enter your answer as an exact fraction.\n"
   ]
  },
  {
   "cell_type": "code",
   "execution_count": 448,
   "id": "vertical-forth",
   "metadata": {},
   "outputs": [
    {
     "name": "stdout",
     "output_type": "stream",
     "text": [
      "Sample mean =  maximum likelihood estimater =  0.103\n"
     ]
    }
   ],
   "source": [
    "maximum_possible_number_of_edges = 100*100 # include self-loop\n",
    "number_of_edges = np.sum(adj_mat)\n",
    "Sample_mean = number_of_edges/maximum_possible_number_of_edges\n",
    "print('Sample mean =  maximum likelihood estimater = ', Sample_mean)"
   ]
  },
  {
   "cell_type": "markdown",
   "id": "velvet-individual",
   "metadata": {},
   "source": [
    "### 6.\n",
    "Given the above generative model\n",
    "- what is the 𝑝-value of observing this graph for the null hypothesis that 𝑝=0.1? \n",
    "    - Assume that the test statistic is $\\frac{S_n-\\mu_n}{\\sigma_n}$, where 𝑆𝑛 is the sample mean and 𝜇𝑛 and 𝜎𝑛 are the mean and standard deviation of the sample mean under the null hypothesis. The sample mean is the fraction of number of edges observed to the total number of possible edges. Use the central limit theorem approximation to compute the required probability. Provide an answer accurate to at least three significant figures (graded to 1% tolerance).\n",
    "    - The central limit theorem (CLT) states that: When sampling random variables 𝑋1,…,𝑋𝑛 from a population with mean 𝜇 and variance 𝜎2, 𝑋¯ is approximately normally distributed with mean 𝜇 and variance 𝜎2/𝑛 when 𝑛 is large:\n",
    "\n",
    "$\\bar{X}:=X_1+X_2+\\dots+X_n \\sim \\mathcal{N}(\\mu,\\frac{\\sigma^2}{n}) \\text{       for n is large}$"
   ]
  },
  {
   "cell_type": "code",
   "execution_count": 483,
   "id": "golden-anderson",
   "metadata": {},
   "outputs": [
    {
     "data": {
      "text/plain": [
       "0.9999999999999962"
      ]
     },
     "execution_count": 483,
     "metadata": {},
     "output_type": "execute_result"
    }
   ],
   "source": [
    "# take is problem as 10000 times Bernoulli distribution of p=0.1\n",
    "n = 100*100\n",
    "p=0.1\n",
    "\n",
    "Bernoulli_mean = 0.1\n",
    "Bernoulli_variance = 0.1*(1-0.1)\n",
    "null = binom(1, 0.1)\n",
    "\n",
    "# CLT_population_mean = 0.1\n",
    "# CLT_population_variance = Bernoulli_variance/n\n",
    "# CLT_population_standard_deviation = np.sqrt(CLT_population_variance)\n",
    "# CLT_null = norm(loc = CLT_population_mean, scale = CLT_population_standard_deviation)\n",
    "CLT_null = norm(loc=0, scale=1)\n",
    "test_stat = np.abs((Sample_mean - CLT_population_mean)/ CLT_population_standard_deviation)\n",
    "test_stat"
   ]
  },
  {
   "cell_type": "code",
   "execution_count": 511,
   "id": "horizontal-thing",
   "metadata": {},
   "outputs": [
    {
     "name": "stdout",
     "output_type": "stream",
     "text": [
      "0.3173105078629159\n"
     ]
    }
   ],
   "source": [
    "p_value_upper = CLT_null.cdf(test_stat)\n",
    "p_value_lower = CLT_null.cdf(-test_stat)\n",
    "p_value = (1-p_value_upper) + p_value_lower\n",
    "print(p_value)"
   ]
  },
  {
   "cell_type": "code",
   "execution_count": 510,
   "id": "judicial-approval",
   "metadata": {},
   "outputs": [
    {
     "data": {
      "image/png": "[encoded data removed]",
      "text/plain": [
       "<Figure size 432x288 with 1 Axes>"
      ]
     },
     "metadata": {
      "needs_background": "light"
     },
     "output_type": "display_data"
    }
   ],
   "source": [
    "x_ber = np.linspace(null.ppf(0.01),\n",
    "                      null.ppf(0.99))\n",
    "x_CLT = np.linspace(CLT_null.ppf(0.01),\n",
    "                    CLT_null.ppf(0.99), 100)\n",
    "plt.vlines(test_stat, 0, CLT_null.pdf(test_stat), linestyles='--', colors='red', alpha=0.8, lw=4, label='test_stat')\n",
    "plt.vlines(-test_stat, 0, CLT_null.pdf(-test_stat), linestyles='--', colors='red', alpha=0.8, lw=4)\n",
    "plt.fill_between(x=x_CLT[x_CLT<=-test_stat], y1=0, y2=CLT_null.pdf(x_CLT[x_CLT<-test_stat]), color='orange', alpha=0.5, label='p_value')\n",
    "plt.fill_between(x=x_CLT[x_CLT>=test_stat], y1=0, y2=CLT_null.pdf(x_CLT[x_CLT>test_stat]), color='orange', alpha=0.5)\n",
    "plt.vlines(x_ber, 0, null.pmf(x_ber), lw=2, label='Bernoulli', color='Blue')\n",
    "sns.lineplot(x=x_CLT, y=CLT_null.pdf(x_CLT), label='CLT', color='Green')\n",
    "plt.show()"
   ]
  },
  {
   "cell_type": "markdown",
   "id": "ongoing-economics",
   "metadata": {},
   "source": [
    "### Edge Density\n",
    "The edge density 𝜌 of a graph with 𝑛 nodes and 𝑚 edges is defined as\n",
    "- $\\rho = \\frac{m}{C{n\\atop 2}}$\n",
    "\n",
    "This is a metric that captures the fraction of (all possible) edges present in an undirected graph."
   ]
  },
  {
   "cell_type": "markdown",
   "id": "hazardous-recipient",
   "metadata": {},
   "source": [
    "#### Circle Graph\n",
    "Consider the following undirected simple graph on 𝑛 nodes 0,1,…,𝑛−1: Let 𝑘 be some integer in the range 0<𝑘<𝑛 that parametrizes this graph. Then, for every 𝑖∈[0,𝑛−1] we have that node 𝑖 is connected to node (𝑖+𝑘)%𝑛. Here % is the modulo operator."
   ]
  },
  {
   "cell_type": "code",
   "execution_count": 541,
   "id": "composed-dispute",
   "metadata": {},
   "outputs": [
    {
     "name": "stdout",
     "output_type": "stream",
     "text": [
      "Q: 1. True or False: The simple graph is connected if 𝑛 is a prime number.\n",
      "Q: 2. Let 𝑛≥3 and let 𝑛 be prime. What is the degree of every node?\n",
      "Q: 3. Let 𝑛≥3 and let 𝑛 be prime. How many edges does the simple graph have?\n",
      "n = 3\n",
      "k = 1\n",
      "Is G connected? True\n",
      "Degree of evey node [(0, 2), (1, 2), (2, 2)]\n",
      "number of edges 3\n",
      "k = 2\n",
      "Is G connected? True\n",
      "Degree of evey node [(0, 2), (1, 2), (2, 2)]\n",
      "number of edges 3\n",
      "---\n",
      "n = 5\n",
      "k = 1\n",
      "Is G connected? True\n",
      "Degree of evey node [(0, 2), (1, 2), (2, 2), (3, 2), (4, 2)]\n",
      "number of edges 5\n",
      "k = 2\n",
      "Is G connected? True\n",
      "Degree of evey node [(0, 2), (1, 2), (2, 2), (3, 2), (4, 2)]\n",
      "number of edges 5\n",
      "k = 3\n",
      "Is G connected? True\n",
      "Degree of evey node [(0, 2), (1, 2), (2, 2), (3, 2), (4, 2)]\n",
      "number of edges 5\n",
      "k = 4\n",
      "Is G connected? True\n",
      "Degree of evey node [(0, 2), (1, 2), (2, 2), (3, 2), (4, 2)]\n",
      "number of edges 5\n",
      "---\n"
     ]
    }
   ],
   "source": [
    "print('Q: 1. True or False: The simple graph is connected if 𝑛 is a prime number.')\n",
    "print('Q: 2. Let 𝑛≥3 and let 𝑛 be prime. What is the degree of every node?')\n",
    "print('Q: 3. Let 𝑛≥3 and let 𝑛 be prime. How many edges does the simple graph have?')\n",
    "for n in [3,5]:\n",
    "    n_range = range(n)\n",
    "    k_range = range(1,n)\n",
    "    print(f'n = {n}')\n",
    "    for k in k_range:\n",
    "        adj_mat = np.zeros((n,n))\n",
    "        for i in n_range:\n",
    "            adj_mat[i, (i+k)%n]=1\n",
    "        G = nx.from_numpy_matrix(np.array(adj_mat), create_using=nx.Graph)\n",
    "        print(f'k = {k}')\n",
    "        print('Is G connected?', nx.is_connected(G))\n",
    "        print('Degree of evey node', G.degree)\n",
    "        print('number of edges', len(G.edges))\n",
    "    print('---')"
   ]
  },
  {
   "cell_type": "code",
   "execution_count": 542,
   "id": "hundred-flood",
   "metadata": {},
   "outputs": [
    {
     "name": "stdout",
     "output_type": "stream",
     "text": [
      "Q: 4. Let 𝑛≥3 and let 𝑛 be prime. What is the edge density 𝜌 of the simple graph?\n",
      "m=n, C(n,2)=n*(n-1)/2, 𝜌 = 2/(n-1)\n"
     ]
    }
   ],
   "source": [
    "print('Q: 4. Let 𝑛≥3 and let 𝑛 be prime. What is the edge density 𝜌 of the simple graph?')\n",
    "print('m=n, C(n,2)=n*(n-1)/2, 𝜌 = 2/(n-1)')"
   ]
  },
  {
   "cell_type": "markdown",
   "id": "crude-location",
   "metadata": {},
   "source": [
    "### Length of a Path, Diameter, and Average Distance\n",
    "\n",
    "Let $d_{i,j}$ be the length of the shortest path (or the path with the smallest weight in the case of a weighted graph) between node 𝑖 and 𝑗. The diameter of a graph is the largest distance between any two nodes:\n",
    "- diameter = $\\max\\limits_{i,j \\in V} d_{i,j}$\n",
    "\n",
    "We can also define the notion of average shortest path length :\n",
    "- average path length = $\\frac{1}{C{n\\atop 2}} \\sum_{i\\leq j} d_{i,j}$\n",
    "These notions are defined component-wise in case the graph is not connected. The definition of what constitutes a component, as we have seen before, varies between an undirected graph and a directed graph."
   ]
  },
  {
   "cell_type": "code",
   "execution_count": null,
   "id": "blond-responsibility",
   "metadata": {},
   "outputs": [],
   "source": [
    "adj_mat"
   ]
  },
  {
   "cell_type": "markdown",
   "id": "pediatric-lawyer",
   "metadata": {},
   "source": [
    "## Graph Metrics – A Measure of Clustering and Modularity\n",
    "- Clustering coefficient \n",
    "    - $\\frac{0.5*trace(Adjacency^3)}{\\sum\\limits_{i}C{k_i \\atop 2}} = \\frac{trace(Adjacency^3)}{\\sum\\limits_{i}k_i(k_i -1)}$\n",
    "    - $0.5*trace(Adjacency^3)$-> the number of wlaks in length 3 and back to the original nodes\n",
    "    - $C{k_i \\atop 2}$ -> the number of ***three connected nodes*** node{i} can construct when node{i} is the middlemen of ***three connected nodes***\n",
    "- Modularity, one way to quantify **Homophily**\n",
    "    - Modularity score = $\\frac{1}{2m} \\sum\\limits_{i,j}\\Big( (A_{i,j} - \\frac{k_i k_j}{2m}) * \\delta (t_i, t_j) \\Big)$\n",
    "    - $\\delta (t_i, t_j)= \\begin{cases} 1 & \\text{if type_i = type_j} \\\\ 0 & \\text{else} \\end{cases}$\n",
    "        - Modularity only consider nodes in the same type\n",
    "    - $\\frac{k_i k_j}{2m}$ -> the ***expeted*** number of edges between node{i} and node{j} if the edges was placed by ramdom\n",
    "        - Different Homophily measurement has different way to estimate the ***expeted***"
   ]
  },
  {
   "cell_type": "code",
   "execution_count": 596,
   "id": "artificial-beast",
   "metadata": {},
   "outputs": [],
   "source": [
    "adj_mat = np.array([[0, 1, 0, 1, 0, 1, 0, 0, 0, 0],\n",
    "                    [1, 0, 1, 1, 1, 0, 0, 0, 0, 0],\n",
    "                    [0, 1, 0, 0, 0, 0, 0, 0, 0, 0],\n",
    "                    [1, 1, 0, 0, 0, 1, 0, 1, 1, 0],\n",
    "                    [0, 1, 0, 0, 0, 0, 0, 0, 1, 1],\n",
    "                    [1, 0, 0, 1, 0, 0, 0, 0, 0, 0],\n",
    "                    [0, 0, 0, 0, 0, 0, 0, 0, 0, 1],\n",
    "                    [0, 0, 0, 1, 0, 0, 0, 0, 0, 0],\n",
    "                    [0, 0, 0, 1, 1, 0, 0, 0, 0, 1],\n",
    "                    [0, 0, 0, 0, 1, 0, 1, 0, 1, 0]])"
   ]
  },
  {
   "cell_type": "code",
   "execution_count": 597,
   "id": "ultimate-insured",
   "metadata": {},
   "outputs": [
    {
     "data": {
      "text/plain": [
       "0.3103448275862069"
      ]
     },
     "execution_count": 597,
     "metadata": {},
     "output_type": "execute_result"
    }
   ],
   "source": [
    "# clustering coefficient\n",
    "connected_tri_func = np.vectorize(lambda x: x*(x-1))\n",
    "degrees_of_nodes = np.sum(adj_mat, axis=0)\n",
    "C_coef = np.trace(adj_mat@adj_mat@adj_mat) / np.sum(connected_tri_func(degrees_of_nodes))\n",
    "C_coef"
   ]
  },
  {
   "cell_type": "code",
   "execution_count": 624,
   "id": "determined-drawing",
   "metadata": {},
   "outputs": [
    {
     "data": {
      "image/png": "[encoded data removed]",
      "text/plain": [
       "<Figure size 432x288 with 1 Axes>"
      ]
     },
     "metadata": {},
     "output_type": "display_data"
    }
   ],
   "source": [
    "# Modularity\n",
    "## 1. find nodes in the same class\n",
    "t1 = [0,2,4,6,8]\n",
    "t2 = [1,3,5,7,9]\n",
    "G = nx.from_numpy_array(adj_mat, create_using=nx.Graph)\n",
    "# nx.maximal_independent_set(G, [0])\n",
    "# nx.bipartite.sets(G)\n",
    "node_color = np.empty(adj_mat.shape[0], dtype='object')\n",
    "node_color[t1] = 'blue'\n",
    "node_color[t2] = 'green'\n",
    "nx.draw_networkx(G, node_color=node_color)"
   ]
  },
  {
   "cell_type": "code",
   "execution_count": 639,
   "id": "starting-canberra",
   "metadata": {},
   "outputs": [
    {
     "data": {
      "text/plain": [
       "(1, 2, array([3, 4, 1, 5, 3, 2, 1, 1, 3, 3]))"
      ]
     },
     "execution_count": 639,
     "metadata": {},
     "output_type": "execute_result"
    }
   ],
   "source": [
    "type_of_nodes = dict()\n",
    "type_of_nodes.update({n:1 for n in t1})\n",
    "type_of_nodes.update({n:2 for n in t2})\n",
    "\n",
    "degree_of_nodes = np.diagonal(adj_mat@adj_mat)\n",
    "\n",
    "number_of_edges = np.sum(adj_mat)/2\n",
    "\n",
    "\n",
    "type_of_nodes[0], type_of_nodes[1], degree_of_nodes"
   ]
  },
  {
   "cell_type": "code",
   "execution_count": 640,
   "id": "settled-initial",
   "metadata": {},
   "outputs": [],
   "source": [
    "modularity = 0\n",
    "for i in range(adj_mat.shape[0]):\n",
    "    for j in range(adj_mat.shape[0]):\n",
    "        if type_of_nodes[i] == type_of_nodes[j]:\n",
    "            modularity += (1/(2*number_of_edges)) * (adj_mat[i,j]-(degree_of_nodes[i]*degree_of_nodes[j]/(2*number_of_edges)))"
   ]
  },
  {
   "cell_type": "code",
   "execution_count": 641,
   "id": "incident-diesel",
   "metadata": {},
   "outputs": [
    {
     "data": {
      "text/plain": [
       "-0.2041420118343195"
      ]
     },
     "execution_count": 641,
     "metadata": {},
     "output_type": "execute_result"
    }
   ],
   "source": [
    "modularity"
   ]
  },
  {
   "cell_type": "code",
   "execution_count": 642,
   "id": "controlling-synthetic",
   "metadata": {},
   "outputs": [
    {
     "data": {
      "text/plain": [
       "-0.20414201183431957"
      ]
     },
     "execution_count": 642,
     "metadata": {},
     "output_type": "execute_result"
    }
   ],
   "source": [
    "def modularity_partition(A, part):\n",
    "\tm = A.sum()/2\n",
    "\tks = A.sum(axis=0)\n",
    "\treturn ( A[part].T[part].T - ks[part][:,None]*ks[part][None,:]/(2*m) ).sum()/(2*m)\n",
    "\n",
    "def modularity(A, parts):\n",
    "\treturn sum([ modularity_partition(A, p) for p in parts ])\n",
    "\n",
    "modularity(adj_mat, [[0,2,4,6,8], [1,3,5,7,9]])"
   ]
  },
  {
   "cell_type": "code",
   "execution_count": null,
   "id": "verbal-sussex",
   "metadata": {},
   "outputs": [],
   "source": []
  },
  {
   "cell_type": "code",
   "execution_count": null,
   "id": "dominican-alloy",
   "metadata": {},
   "outputs": [],
   "source": []
  },
  {
   "cell_type": "code",
   "execution_count": null,
   "id": "surprising-queensland",
   "metadata": {},
   "outputs": [],
   "source": []
  },
  {
   "cell_type": "code",
   "execution_count": null,
   "id": "formal-origin",
   "metadata": {},
   "outputs": [],
   "source": []
  },
  {
   "cell_type": "code",
   "execution_count": null,
   "id": "suburban-richards",
   "metadata": {},
   "outputs": [],
   "source": []
  }
 ],
 "metadata": {
  "kernelspec": {
   "display_name": "Python 3",
   "language": "python",
   "name": "python3"
  },
  "language_info": {
   "codemirror_mode": {
    "name": "ipython",
    "version": 3
   },
   "file_extension": ".py",
   "mimetype": "text/x-python",
   "name": "python",
   "nbconvert_exporter": "python",
   "pygments_lexer": "ipython3",
   "version": "3.8.8"
  }
 },
 "nbformat": 4,
 "nbformat_minor": 5
}
