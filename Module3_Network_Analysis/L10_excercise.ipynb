{
 "cells": [
  {
   "cell_type": "code",
   "execution_count": 24,
   "id": "armed-frederick",
   "metadata": {},
   "outputs": [],
   "source": [
    "import networkx as nx\n",
    "from networkx.linalg.algebraicconnectivity import fiedler_vector\n",
    "import matplotlib.pyplot as plt\n",
    "import numpy as np"
   ]
  },
  {
   "cell_type": "code",
   "execution_count": 25,
   "id": "closing-borough",
   "metadata": {},
   "outputs": [
    {
     "data": {
      "image/png": "[encoded data removed]",
      "text/plain": [
       "<Figure size 432x288 with 1 Axes>"
      ]
     },
     "metadata": {},
     "output_type": "display_data"
    }
   ],
   "source": [
    "G = nx.Graph()\n",
    "G.add_edge(1, 2)\n",
    "G.add_edge(1, 4)\n",
    "G.add_edge(2, 3)\n",
    "G.add_edge(3, 5)\n",
    "G.add_edge(4, 3)\n",
    "G.add_edge(5, 6)\n",
    "G.add_edge(6, 7)\n",
    "G.add_edge(7, 8)\n",
    "\n",
    "pos = {1: (0, 1), \n",
    "       2: (1, 1), \n",
    "       3: (1, 0), \n",
    "       4: (0, 0), \n",
    "       5: (2, -0.03),\n",
    "       6: (3, 0),\n",
    "       7: (4, -0.03),\n",
    "       8: (5, 0),\n",
    "       }\n",
    "options = {\n",
    "    \"font_size\": 36,\n",
    "    \"node_size\": 3000,\n",
    "    \"node_color\": \"white\",\n",
    "    \"edgecolors\": \"black\",\n",
    "    \"linewidths\": 5,\n",
    "    \"width\": 5,\n",
    "}\n",
    "nx.draw_networkx(G, pos, **options)\n",
    "ax = plt.gca()\n",
    "ax.margins(0.20)\n",
    "# plt.axis(\"off\")\n",
    "plt.show()"
   ]
  },
  {
   "cell_type": "code",
   "execution_count": 36,
   "id": "primary-saying",
   "metadata": {},
   "outputs": [
    {
     "data": {
      "image/png": "[encoded data removed]",
      "text/plain": [
       "<Figure size 432x288 with 1 Axes>"
      ]
     },
     "metadata": {},
     "output_type": "display_data"
    }
   ],
   "source": [
    "kite = [(1, 2), (2, 3), (1, 4), (3, 4), (3, 5), (5, 6), (6, 7), (7, 8)]\n",
    "K = nx.from_edgelist(kite)\n",
    "pos = {1: (0, 1), \n",
    "       2: (1, 1), \n",
    "       3: (1, 0), \n",
    "       4: (0, 0), \n",
    "       5: (2, -0.03),\n",
    "       6: (3, 0),\n",
    "       7: (4, -0.03),\n",
    "       8: (5, 0),\n",
    "       }\n",
    "options = {\n",
    "    \"font_size\": 36,\n",
    "    \"node_size\": 3000,\n",
    "    \"node_color\": \"white\",\n",
    "    \"edgecolors\": \"black\",\n",
    "    \"linewidths\": 5,\n",
    "    \"width\": 5,\n",
    "}\n",
    "nx.draw_networkx(K, pos, **options)\n",
    "ax = plt.gca()\n",
    "ax.margins(0.20)\n",
    "# plt.axis(\"off\")\n",
    "plt.show()"
   ]
  },
  {
   "cell_type": "code",
   "execution_count": 41,
   "id": "protected-parking",
   "metadata": {},
   "outputs": [
    {
     "data": {
      "text/plain": [
       "array([-0.37147146, -0.33561673, -0.23497399, -0.33561673,  0.01167124,\n",
       "        0.25606345,  0.45102474,  0.55891948])"
      ]
     },
     "execution_count": 41,
     "metadata": {},
     "output_type": "execute_result"
    }
   ],
   "source": [
    "A = [[0, 1, 0, 1, 0, 0, 0, 0], \n",
    "    [1, 0, 1, 0, 0, 0, 0, 0], \n",
    "    [0, 1, 0, 1, 1, 0, 0, 0], \n",
    "    [1, 0, 1, 0, 0, 0, 0, 0], \n",
    "    [0, 0, 1, 0, 0, 1, 0, 0], \n",
    "    [0, 0, 0, 0, 1, 0, 1, 0], \n",
    "    [0, 0, 0, 0, 0, 1, 0, 1], \n",
    "    [0, 0, 0, 0, 0, 0, 1, 0]]\n",
    "graph = nx.from_numpy_matrix(np.array(A), create_using=nx.Graph)\n",
    "fiedler_vector(graph)"
   ]
  },
  {
   "cell_type": "code",
   "execution_count": 43,
   "id": "governmental-bedroom",
   "metadata": {},
   "outputs": [
    {
     "data": {
      "text/plain": [
       "array([-0.3715, -0.3356, -0.3356, -0.235 ,  0.0117,  0.2561,  0.451 ,\n",
       "        0.5589])"
      ]
     },
     "execution_count": 43,
     "metadata": {},
     "output_type": "execute_result"
    }
   ],
   "source": [
    "eig_vec = fiedler_vector(G, normalized=False)\n",
    "np.round(eig_vec, decimals=4)"
   ]
  },
  {
   "cell_type": "code",
   "execution_count": 31,
   "id": "likely-upgrade",
   "metadata": {},
   "outputs": [
    {
     "data": {
      "text/plain": [
       "0.9999999999999996"
      ]
     },
     "execution_count": 31,
     "metadata": {},
     "output_type": "execute_result"
    }
   ],
   "source": [
    "np.sum(eig_vec**2)"
   ]
  },
  {
   "cell_type": "code",
   "execution_count": 44,
   "id": "musical-temperature",
   "metadata": {},
   "outputs": [
    {
     "data": {
      "text/plain": [
       "(array([-0.37147146, -0.33561673, -0.23497399, -0.33561673,  0.01167125,\n",
       "         0.25606345,  0.45102474,  0.55891947]),\n",
       " array([-0.3715, -0.3356, -0.235 , -0.3356,  0.0117,  0.2561,  0.451 ,\n",
       "         0.5589]))"
      ]
     },
     "execution_count": 44,
     "metadata": {},
     "output_type": "execute_result"
    }
   ],
   "source": [
    "eig_vec = fiedler_vector(K, normalized=False, method= 'lanczos')\n",
    "eig_vec,np.round(eig_vec, decimals=4)"
   ]
  },
  {
   "cell_type": "code",
   "execution_count": null,
   "id": "surgical-drama",
   "metadata": {},
   "outputs": [],
   "source": []
  },
  {
   "cell_type": "code",
   "execution_count": 28,
   "id": "gross-baseball",
   "metadata": {},
   "outputs": [
    {
     "data": {
      "text/plain": [
       "array([ 0.35355339,  0.31398152,  0.31398152,  0.25      , -0.08413109,\n",
       "       -0.35355339, -0.54383194, -0.4330127 ])"
      ]
     },
     "execution_count": 28,
     "metadata": {},
     "output_type": "execute_result"
    }
   ],
   "source": [
    "eig_vec = fiedler_vector(G, normalized=True, method= 'lobpcg')\n",
    "eig_vec"
   ]
  },
  {
   "cell_type": "code",
   "execution_count": null,
   "id": "downtown-penetration",
   "metadata": {},
   "outputs": [],
   "source": []
  }
 ],
 "metadata": {
  "kernelspec": {
   "display_name": "Python 3",
   "language": "python",
   "name": "python3"
  },
  "language_info": {
   "codemirror_mode": {
    "name": "ipython",
    "version": 3
   },
   "file_extension": ".py",
   "mimetype": "text/x-python",
   "name": "python",
   "nbconvert_exporter": "python",
   "pygments_lexer": "ipython3",
   "version": "3.8.8"
  }
 },
 "nbformat": 4,
 "nbformat_minor": 5
}
