{
 "cells": [
  {
   "cell_type": "code",
   "execution_count": 7,
   "id": "modular-trainer",
   "metadata": {},
   "outputs": [],
   "source": [
    "import numpy as np\n",
    "import scipy\n",
    "import matplotlib.pyplot as plt\n",
    "import networkx as nx"
   ]
  },
  {
   "cell_type": "markdown",
   "id": "classical-compound",
   "metadata": {},
   "source": [
    "## Degree centrality\n",
    "The degree centrality only captures importance up to one-hop neighbors of a node. Depending upon the application, this may not be representative of the importance of a node in the overall graph."
   ]
  },
  {
   "cell_type": "markdown",
   "id": "regular-bundle",
   "metadata": {},
   "source": [
    "### High Degrees\n",
    "Let an undirected graph have 𝑛 nodes. Let the edges be selected according to the following random model: \n",
    "- every possible edge (including self loop) is present with probability 𝑝 independent of every other edge. \n",
    "\n",
    "- **Markov inequality**\n",
    "    - used to upper bound the tail probability of a non-negative random variable.\n",
    "    - If 𝑋 is a nonnegative random variable and 𝜖>0,\n",
    "        - $P(X \\geq \\epsilon)\\leq\\frac{\\mathbb{E}[X]}{\\epsilon}$"
   ]
  },
  {
   "cell_type": "markdown",
   "id": "acquired-reviewer",
   "metadata": {},
   "source": [
    "#### 1. \n",
    "Using Markov inequality, obtain an upper bound on the probability that, for any given node, there are at least 𝑛−1 edges connected to this node in this graph.\n",
    "- Ans\n",
    "    - $P(X \\leq (n-1))\\leq \\frac{(n*p)}{(n-1)}$\n",
    "    \n",
    "#### 2. \n",
    "Now, find the exact probability that, for any given node, there are at least 𝑛−1 edges connected to this node in this graph.\n",
    "- Ans\n",
    "    - $\\begin{align}\n",
    "        P(X \\leq (n-1)) &= \\text{Binomial(n,p).pmf(n-1)} + \\text{Binomial(n,p).pmf(n)} \\\\ &= n*p^{n-1}*(1-p) + n*p^n \\end{align}$"
   ]
  },
  {
   "cell_type": "markdown",
   "id": "generic-memory",
   "metadata": {},
   "source": [
    "### A Matrix Equation – Preparation for Eigenvector Centrality\n",
    "Let 𝐴 be an adjacency matrix of size 𝑛×𝑛. Assume that the graph is an unweighted graph.\n",
    "\n",
    "#### 1.\n",
    "Let 𝐱 be an all-ones vector of size 𝑛×1. What does entry 𝑖 of the vector 𝐴𝐱 represent?\n",
    "- Ans\n",
    "    - row sum, out-degrees of i\n",
    "    \n",
    "#### 2.\n",
    "Let 𝐱𝑇 be an all-ones vector of size 1×𝑛. What does entry 𝑖 of the vector 𝐱𝑇𝐴 represent?\n",
    "- Ans\n",
    "    - col sum, in-degrees of i"
   ]
  },
  {
   "cell_type": "markdown",
   "id": "indoor-volleyball",
   "metadata": {},
   "source": [
    "## Eigenvector Centrality I"
   ]
  },
  {
   "cell_type": "code",
   "execution_count": 2,
   "id": "turkish-stack",
   "metadata": {},
   "outputs": [],
   "source": [
    "adj_mat = np.array([[1,0,0,0],\n",
    "                    [1,0,0,0],\n",
    "                    [1,0,0,0],\n",
    "                    [1,0,0,0]])"
   ]
  },
  {
   "cell_type": "markdown",
   "id": "accurate-neutral",
   "metadata": {},
   "source": [
    "### 1.\n",
    "Assuming that the importance of a node is based on the importance of nodes pointing to it, which node is the most important in the graph? Answer by looking at the adjacency matrix or drawing the graph."
   ]
  },
  {
   "cell_type": "code",
   "execution_count": 3,
   "id": "worldwide-angola",
   "metadata": {},
   "outputs": [
    {
     "data": {
      "text/plain": [
       "((1+0j), array([1., 0., 0., 0.]))"
      ]
     },
     "execution_count": 3,
     "metadata": {},
     "output_type": "execute_result"
    }
   ],
   "source": [
    "e_value, l_vec, r_vec = eig(adj_mat, left=True)\n",
    "\n",
    "e_value[np.argmax(e_value)], l_vec[:,np.argmax(e_value)]"
   ]
  },
  {
   "cell_type": "code",
   "execution_count": 4,
   "id": "modern-accessory",
   "metadata": {},
   "outputs": [
    {
     "name": "stdout",
     "output_type": "stream",
     "text": [
      "Node 0\n"
     ]
    }
   ],
   "source": [
    "print(f'Node {np.argmax(l_vec[:,np.argmax(e_value)])}')"
   ]
  },
  {
   "cell_type": "markdown",
   "id": "sunset-begin",
   "metadata": {},
   "source": [
    "### 2. \n",
    "Find the left eigenvector centrality of all the nodes using a computational software. For networkx in Python, make sure to build a digraph; the command to obtain the eigenvector centrality is\n",
    "\n",
    "- networkx.eigenvector_centrality\n",
    "\n",
    "Please round your answers to the nearest integer for this question."
   ]
  },
  {
   "cell_type": "code",
   "execution_count": 5,
   "id": "wrapped-appreciation",
   "metadata": {},
   "outputs": [
    {
     "data": {
      "text/plain": [
       "{0: 0.9999999999986358,\n",
       " 1: 9.536770448968607e-07,\n",
       " 2: 9.536770448968607e-07,\n",
       " 3: 9.536770448968607e-07}"
      ]
     },
     "execution_count": 5,
     "metadata": {},
     "output_type": "execute_result"
    }
   ],
   "source": [
    "G = nx.from_numpy_array(adj_mat, create_using=nx.DiGraph)\n",
    "nx.eigenvector_centrality(G)"
   ]
  },
  {
   "cell_type": "code",
   "execution_count": 18,
   "id": "needed-madison",
   "metadata": {},
   "outputs": [
    {
     "data": {
      "text/plain": [
       "((1+0j), array([1., 0., 0., 0.]))"
      ]
     },
     "execution_count": 18,
     "metadata": {},
     "output_type": "execute_result"
    }
   ],
   "source": [
    "# by scipy\n",
    "eig_values, eig_vectors = scipy.linalg.eig(adj_mat, left=True, right=False)\n",
    "maximun_ind = np.argsort(eig_values)[-1]\n",
    "eig_values[maximun_ind], eig_vectors[:,maximun_ind]"
   ]
  },
  {
   "cell_type": "markdown",
   "id": "comic-excitement",
   "metadata": {},
   "source": [
    "## Eigenvector Centrality II"
   ]
  },
  {
   "cell_type": "code",
   "execution_count": 19,
   "id": "animal-belfast",
   "metadata": {},
   "outputs": [],
   "source": [
    "adj_mat = np.array([[1,1,1,1],\n",
    "                    [0,0,0,0],\n",
    "                    [0,0,0,0],\n",
    "                    [0,0,0,0]])"
   ]
  },
  {
   "cell_type": "code",
   "execution_count": 20,
   "id": "initial-fancy",
   "metadata": {},
   "outputs": [
    {
     "data": {
      "text/plain": [
       "{0: 0.5, 1: 0.5, 2: 0.5, 3: 0.5}"
      ]
     },
     "execution_count": 20,
     "metadata": {},
     "output_type": "execute_result"
    }
   ],
   "source": [
    "G = nx.from_numpy_array(adj_mat, create_using=nx.DiGraph)\n",
    "nx.eigenvector_centrality(G)"
   ]
  },
  {
   "cell_type": "markdown",
   "id": "acute-respect",
   "metadata": {},
   "source": [
    "## Eigenvector Centrality II"
   ]
  },
  {
   "cell_type": "code",
   "execution_count": 21,
   "id": "numerous-wrestling",
   "metadata": {},
   "outputs": [
    {
     "data": {
      "text/plain": [
       "{0: 0.7991714905460789,\n",
       " 1: 0.34704703269074766,\n",
       " 2: 0.34704703269074766,\n",
       " 3: 0.34704703269074766}"
      ]
     },
     "execution_count": 21,
     "metadata": {},
     "output_type": "execute_result"
    }
   ],
   "source": [
    "adj_mat = np.array([[1,1,1,1],\n",
    "                    [1,0,0,0],\n",
    "                    [1,0,0,0],\n",
    "                    [1,0,0,0]])\n",
    "G = nx.from_numpy_array(adj_mat, create_using=nx.DiGraph)\n",
    "nx.eigenvector_centrality(G)"
   ]
  },
  {
   "cell_type": "code",
   "execution_count": null,
   "id": "alien-refund",
   "metadata": {},
   "outputs": [],
   "source": []
  }
 ],
 "metadata": {
  "kernelspec": {
   "display_name": "Python 3",
   "language": "python",
   "name": "python3"
  },
  "language_info": {
   "codemirror_mode": {
    "name": "ipython",
    "version": 3
   },
   "file_extension": ".py",
   "mimetype": "text/x-python",
   "name": "python",
   "nbconvert_exporter": "python",
   "pygments_lexer": "ipython3",
   "version": "3.8.8"
  }
 },
 "nbformat": 4,
 "nbformat_minor": 5
}
