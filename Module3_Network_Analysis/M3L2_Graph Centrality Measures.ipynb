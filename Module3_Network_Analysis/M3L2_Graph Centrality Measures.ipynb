{
 "cells": [
  {
   "cell_type": "code",
   "execution_count": 26,
   "id": "checked-birthday",
   "metadata": {},
   "outputs": [],
   "source": [
    "import numpy as np\n",
    "import matplotlib.pyplot as plt\n",
    "import networkx as nx\n",
    "from scipy.linalg import eig"
   ]
  },
  {
   "cell_type": "markdown",
   "id": "ordered-rally",
   "metadata": {},
   "source": [
    "## Degree centrality\n",
    "The degree centrality only captures importance up to one-hop neighbors of a node. Depending upon the application, this may not be representative of the importance of a node in the overall graph."
   ]
  },
  {
   "cell_type": "markdown",
   "id": "advised-tissue",
   "metadata": {},
   "source": [
    "### High Degrees\n",
    "Let an undirected graph have 𝑛 nodes. Let the edges be selected according to the following random model: \n",
    "- every possible edge (including self loop) is present with probability 𝑝 independent of every other edge. \n",
    "\n",
    "- **Markov inequality**\n",
    "    - used to upper bound the tail probability of a non-negative random variable.\n",
    "    - If 𝑋 is a nonnegative random variable and 𝜖>0,\n",
    "        - $P(X \\geq \\epsilon)\\leq\\frac{\\mathbb{E}[X]}{\\epsilon}$"
   ]
  },
  {
   "cell_type": "markdown",
   "id": "supported-response",
   "metadata": {},
   "source": [
    "#### 1. \n",
    "Using Markov inequality, obtain an upper bound on the probability that, for any given node, there are at least 𝑛−1 edges connected to this node in this graph.\n",
    "- Ans\n",
    "    - $P(X \\leq (n-1))\\leq \\frac{(n*p)}{(n-1)}$\n",
    "    \n",
    "#### 2. \n",
    "Now, find the exact probability that, for any given node, there are at least 𝑛−1 edges connected to this node in this graph.\n",
    "- Ans\n",
    "    - $\\begin{align}\n",
    "        P(X \\leq (n-1)) &= \\text{Binomial(n,p).pmf(n-1)} + \\text{Binomial(n,p).pmf(n)} \\\\ &= n*p^{n-1}*(1-p) + n*p^n \\end{align}$"
   ]
  },
  {
   "cell_type": "markdown",
   "id": "explicit-executive",
   "metadata": {},
   "source": [
    "### A Matrix Equation – Preparation for Eigenvector Centrality\n",
    "Let 𝐴 be an adjacency matrix of size 𝑛×𝑛. Assume that the graph is an unweighted graph.\n",
    "\n",
    "#### 1.\n",
    "Let 𝐱 be an all-ones vector of size 𝑛×1. What does entry 𝑖 of the vector 𝐴𝐱 represent?\n",
    "- Ans\n",
    "    - row sum, out-degrees of i\n",
    "    \n",
    "#### 2.\n",
    "Let 𝐱𝑇 be an all-ones vector of size 1×𝑛. What does entry 𝑖 of the vector 𝐱𝑇𝐴 represent?\n",
    "- Ans\n",
    "    - col sum, in-degrees of i"
   ]
  },
  {
   "cell_type": "markdown",
   "id": "architectural-formation",
   "metadata": {},
   "source": [
    "## Eigenvector Centrality"
   ]
  },
  {
   "cell_type": "code",
   "execution_count": 49,
   "id": "authorized-penny",
   "metadata": {},
   "outputs": [],
   "source": [
    "adj_mat = np.array([[1,0,0,0],\n",
    "                    [1,0,0,0],\n",
    "                    [1,0,0,0],\n",
    "                    [1,0,0,0]])"
   ]
  },
  {
   "cell_type": "markdown",
   "id": "clinical-georgia",
   "metadata": {},
   "source": [
    "### 1.\n",
    "Assuming that the importance of a node is based on the importance of nodes pointing to it, which node is the most important in the graph? Answer by looking at the adjacency matrix or drawing the graph."
   ]
  },
  {
   "cell_type": "code",
   "execution_count": 45,
   "id": "excellent-cause",
   "metadata": {},
   "outputs": [
    {
     "data": {
      "text/plain": [
       "((1+0j), array([1., 0., 0., 0.]))"
      ]
     },
     "execution_count": 45,
     "metadata": {},
     "output_type": "execute_result"
    }
   ],
   "source": [
    "e_value, l_vec, r_vec = eig(adj_mat, left=True)\n",
    "\n",
    "e_value[np.argmax(e_value)], l_vec[:,np.argmax(e_value)]"
   ]
  },
  {
   "cell_type": "code",
   "execution_count": 46,
   "id": "polish-assurance",
   "metadata": {},
   "outputs": [
    {
     "name": "stdout",
     "output_type": "stream",
     "text": [
      "Node 0\n"
     ]
    }
   ],
   "source": [
    "print(f'Node {np.argmax(l_vec[:,np.argmax(e_value)])}')"
   ]
  },
  {
   "cell_type": "markdown",
   "id": "hired-insertion",
   "metadata": {},
   "source": [
    "### 2. \n",
    "Find the left eigenvector centrality of all the nodes using a computational software. For networkx in Python, make sure to build a digraph; the command to obtain the eigenvector centrality is\n",
    "\n",
    "- networkx.eigenvector_centrality\n",
    "\n",
    "Please round your answers to the nearest integer for this question."
   ]
  },
  {
   "cell_type": "code",
   "execution_count": 48,
   "id": "stable-accommodation",
   "metadata": {},
   "outputs": [
    {
     "data": {
      "text/plain": [
       "{0: 0.9999999999986358,\n",
       " 1: 9.536770448968607e-07,\n",
       " 2: 9.536770448968607e-07,\n",
       " 3: 9.536770448968607e-07}"
      ]
     },
     "execution_count": 48,
     "metadata": {},
     "output_type": "execute_result"
    }
   ],
   "source": [
    "G = nx.from_numpy_array(adj_mat, create_using=nx.DiGraph)\n",
    "nx.eigenvector_centrality(G)"
   ]
  },
  {
   "cell_type": "code",
   "execution_count": 51,
   "id": "aboriginal-gothic",
   "metadata": {},
   "outputs": [
    {
     "data": {
      "text/plain": [
       "(array([1., 0., 0., 0.]),\n",
       " array([[ 1.        , -0.70710678, -0.70710678, -0.70710678],\n",
       "        [ 0.        ,  0.70710678,  0.        ,  0.        ],\n",
       "        [ 0.        ,  0.        ,  0.70710678,  0.        ],\n",
       "        [ 0.        ,  0.        ,  0.        ,  0.70710678]]))"
      ]
     },
     "execution_count": 51,
     "metadata": {},
     "output_type": "execute_result"
    }
   ],
   "source": [
    "# by numpy\n",
    "np.linalg.eig(np.array(adj_mat).T)"
   ]
  },
  {
   "cell_type": "code",
   "execution_count": null,
   "id": "endangered-tomato",
   "metadata": {},
   "outputs": [],
   "source": []
  }
 ],
 "metadata": {
  "kernelspec": {
   "display_name": "Python 3",
   "language": "python",
   "name": "python3"
  },
  "language_info": {
   "codemirror_mode": {
    "name": "ipython",
    "version": 3
   },
   "file_extension": ".py",
   "mimetype": "text/x-python",
   "name": "python",
   "nbconvert_exporter": "python",
   "pygments_lexer": "ipython3",
   "version": "3.8.8"
  }
 },
 "nbformat": 4,
 "nbformat_minor": 5
}
