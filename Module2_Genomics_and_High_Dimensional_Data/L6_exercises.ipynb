{
 "cells": [
  {
   "cell_type": "markdown",
   "id": "compact-chick",
   "metadata": {},
   "source": [
    "## L6"
   ]
  },
  {
   "cell_type": "code",
   "execution_count": 1,
   "id": "digital-distribution",
   "metadata": {},
   "outputs": [],
   "source": [
    "import numpy as np\n",
    "import matplotlib.pyplot as plt\n",
    "import seaborn as sns"
   ]
  },
  {
   "cell_type": "markdown",
   "id": "cross-prison",
   "metadata": {},
   "source": [
    "### 5. Review: Empirical Mean and Covariance Matrix of a Vector Data Set I"
   ]
  },
  {
   "cell_type": "code",
   "execution_count": 2,
   "id": "peaceful-commons",
   "metadata": {},
   "outputs": [
    {
     "data": {
      "text/plain": [
       "array([[8, 4, 7],\n",
       "       [2, 8, 1],\n",
       "       [3, 1, 1],\n",
       "       [9, 7, 4]])"
      ]
     },
     "execution_count": 2,
     "metadata": {},
     "output_type": "execute_result"
    }
   ],
   "source": [
    "# The Sample Covariance for a Data Set of Vectors\n",
    "# empirical covariance matrix or sample covariance matrix\n",
    "x1 = np.array([8,4,7])\n",
    "x2 = np.array([2,8,1])\n",
    "x3 = np.array([3,1,1])\n",
    "x4 = np.array([9,7,4])\n",
    "\n",
    "X = np.vstack([x1,x2,x3,x4])\n",
    "X"
   ]
  },
  {
   "cell_type": "code",
   "execution_count": 3,
   "id": "orange-liverpool",
   "metadata": {},
   "outputs": [
    {
     "data": {
      "text/plain": [
       "(array([5.5 , 5.  , 3.25]),\n",
       " array([[30.25  , 27.5   , 17.875 ],\n",
       "        [27.5   , 25.    , 16.25  ],\n",
       "        [17.875 , 16.25  , 10.5625]]))"
      ]
     },
     "execution_count": 3,
     "metadata": {},
     "output_type": "execute_result"
    }
   ],
   "source": [
    "bar_X = np.mean(X, axis=0)\n",
    "bar_X, np.outer(bar_X, bar_X)"
   ]
  },
  {
   "cell_type": "code",
   "execution_count": 4,
   "id": "stuffed-overhead",
   "metadata": {},
   "outputs": [
    {
     "name": "stdout",
     "output_type": "stream",
     "text": [
      "sample covariance matrix= \n",
      " [[9.25   1.     6.375 ]\n",
      " [1.     7.5    0.    ]\n",
      " [6.375  0.     6.1875]], S == S_np? True\n"
     ]
    }
   ],
   "source": [
    "S = (np.mean([np.outer(x1, x1),np.outer(x2, x2),np.outer(x3, x3),np.outer(x4, x4)],axis=0))-np.outer(bar_X, bar_X)\n",
    "# np.cov is feature wise cov if we want sample wise, DATA.T\n",
    "S_np=np.cov(X.T,bias=True)\n",
    "\n",
    "print(f'sample covariance matrix= \\n {S}, S == S_np? {(S==S_np).all()}')"
   ]
  },
  {
   "cell_type": "code",
   "execution_count": 5,
   "id": "decimal-rescue",
   "metadata": {},
   "outputs": [],
   "source": [
    "def cov_matrix(X):\n",
    "    n=X.shape[0]\n",
    "    S = 1/n*(X.T@(np.identity(X.shape[0])-1/n*np.ones((n,n)))@X)\n",
    "    return np.squeeze(S)"
   ]
  },
  {
   "cell_type": "code",
   "execution_count": 6,
   "id": "brutal-moment",
   "metadata": {},
   "outputs": [
    {
     "name": "stdout",
     "output_type": "stream",
     "text": [
      "sample covariance matrix= \n",
      " [[9.25   1.     6.375 ]\n",
      " [1.     7.5    0.    ]\n",
      " [6.375  0.     6.1875]], S == S_np? True\n"
     ]
    }
   ],
   "source": [
    "# other solution\n",
    "n=X.shape[0]\n",
    "S = cov_matrix(X)\n",
    "print(f'sample covariance matrix= \\n {S}, S == S_np? {(S==S_np).all()}')"
   ]
  },
  {
   "cell_type": "markdown",
   "id": "typical-incidence",
   "metadata": {},
   "source": [
    "### 6. Empirical Mean and Covariance Matrix of a Vector Data Set II"
   ]
  },
  {
   "cell_type": "code",
   "execution_count": 7,
   "id": "approximate-scale",
   "metadata": {},
   "outputs": [
    {
     "data": {
      "text/plain": [
       "array([[ 0.66666667, -0.33333333, -0.33333333],\n",
       "       [-0.33333333,  0.66666667, -0.33333333],\n",
       "       [-0.33333333, -0.33333333,  0.66666667]])"
      ]
     },
     "execution_count": 7,
     "metadata": {},
     "output_type": "execute_result"
    }
   ],
   "source": [
    "# H Orthogonal Projection Matrix\n",
    "n=3\n",
    "H = np.identity(n)-1/n*np.outer(np.ones(n),np.ones(n)) \n",
    "H"
   ]
  },
  {
   "cell_type": "markdown",
   "id": "attempted-macintosh",
   "metadata": {},
   "source": [
    "- For any positive integer 𝑘 and any vector $𝐱 \\in \\mathbb{R}^n$, we have $𝐻^k 𝐱= 𝐻𝐱$."
   ]
  },
  {
   "cell_type": "code",
   "execution_count": 8,
   "id": "informal-census",
   "metadata": {},
   "outputs": [
    {
     "data": {
      "text/plain": [
       "(array([ 0.05611277,  0.32774661, -0.38385938]),\n",
       " array([ 0.05611277,  0.32774661, -0.38385938]))"
      ]
     },
     "execution_count": 8,
     "metadata": {},
     "output_type": "execute_result"
    }
   ],
   "source": [
    "x = np.random.random(n)\n",
    "H@x, H@H@H@H@H@x"
   ]
  },
  {
   "cell_type": "markdown",
   "id": "revolutionary-hammer",
   "metadata": {},
   "source": [
    "- The matrix $𝐻$  is a projection onto the subspace of vectors perpendicular to the vector $\\vec{1} \\in \\mathbb{R}^n$ , which has all of its entries equal to  1 ."
   ]
  },
  {
   "cell_type": "code",
   "execution_count": 9,
   "id": "mighty-daisy",
   "metadata": {},
   "outputs": [
    {
     "name": "stdout",
     "output_type": "stream",
     "text": [
      "Is Hx dot 1-vector equal to 0(perpendicular to 1-vector)? True\n",
      "Is all feature in HX perpendicular to 1-vector? True\n"
     ]
    }
   ],
   "source": [
    "X = np.random.random((n,n))\n",
    "_1vec = np.ones(n)\n",
    "print('Is Hx dot 1-vector equal to 0(perpendicular to 1-vector)?', np.allclose(0,H@x@_1vec))\n",
    "print('Is all feature in HX perpendicular to 1-vector?', np.allclose(0, np.sum(H@X@_1vec,axis=0)))"
   ]
  },
  {
   "cell_type": "markdown",
   "id": "radical-bundle",
   "metadata": {},
   "source": [
    "- The matrix  𝐻 centering all columns(features) in a matrix\n",
    "- The matrix  𝐻  is a projections onto the subspace  ${𝐱:\\frac{1}{𝑛}\\sum\\limits_{i=1}^{n}{x^i}=0}\\subset \\mathbb{R}^n$ . (In other words, this is the set of vectors having coordinate-wise average equal to  0 .)"
   ]
  },
  {
   "cell_type": "code",
   "execution_count": 10,
   "id": "expensive-animal",
   "metadata": {},
   "outputs": [
    {
     "name": "stdout",
     "output_type": "stream",
     "text": [
      "Is Hx centered? True\n",
      "Is all features in X centered? True\n"
     ]
    }
   ],
   "source": [
    "print('Is Hx centered?',np.allclose(0,np.sum(H@x)))      \n",
    "print('Is all features in X centered?', np.allclose(0,np.sum(H@X, axis=0)))"
   ]
  },
  {
   "cell_type": "markdown",
   "id": "lucky-villa",
   "metadata": {},
   "source": [
    "### 7. Measuring the Spread of a Point Cloud"
   ]
  },
  {
   "cell_type": "code",
   "execution_count": 11,
   "id": "organic-delay",
   "metadata": {},
   "outputs": [
    {
     "data": {
      "text/plain": [
       "(array([[1.],\n",
       "        [2.]]),\n",
       " array([[2.2],\n",
       "        [4.4]]),\n",
       " array([[-0.2],\n",
       "        [-0.4]]))"
      ]
     },
     "execution_count": 11,
     "metadata": {},
     "output_type": "execute_result"
    }
   ],
   "source": [
    "# Projection onto a Line\n",
    "u= 1/np.sqrt(5)*np.array([[1,2]]).T\n",
    "x1=np.array([[1,2]]).T\n",
    "x2=np.array([[3,4]]).T\n",
    "x3=np.array([[-1,0]]).T\n",
    "u.T@x1*u, u.T@x2*u, u.T@x3*u"
   ]
  },
  {
   "cell_type": "code",
   "execution_count": 12,
   "id": "structural-processor",
   "metadata": {},
   "outputs": [
    {
     "data": {
      "text/plain": [
       "array(4.8)"
      ]
     },
     "execution_count": 12,
     "metadata": {},
     "output_type": "execute_result"
    }
   ],
   "source": [
    "# Empirical Variance of a Data Set in a Given Direction\n",
    "X = np.vstack([u.T@x1, u.T@x2, u.T@x3])\n",
    "S = cov_matrix(X)\n",
    "S"
   ]
  },
  {
   "cell_type": "code",
   "execution_count": 13,
   "id": "alternative-auckland",
   "metadata": {},
   "outputs": [
    {
     "data": {
      "text/plain": [
       "array([[4.8]])"
      ]
     },
     "execution_count": 13,
     "metadata": {},
     "output_type": "execute_result"
    }
   ],
   "source": [
    "# 𝐮^T𝑆𝐮\n",
    "u.T*S@u"
   ]
  },
  {
   "cell_type": "markdown",
   "id": "quality-alarm",
   "metadata": {},
   "source": [
    "#### Variance of a Random Vector in a Given Direction\n",
    "- Let $x \\sim \\mathcal{N}(0,\\Sigma)$, $x \\in \\mathbb{R}^2$, $\\Sigma \\in \\mathbb{R}^{2\\times 2}$\n",
    "$$\\Sigma =E[XX^T]= \\begin{bmatrix}E[(X^1)^2]&E[X^1 X^2]\\\\ E[X^1 X^2] & E[(X^2)^2]\\end{bmatrix}=\\begin{bmatrix}Var(X^1)&Var(X^1 X^2) \\\\ Var(X^1 X^2)&Var(X^2)\\end{bmatrix}$$\n",
    "- $Var(X^1 + X^2)=E[(X^1)^2] + E[(X^2)^2]+2*E[X^1 X^2]=\\begin{bmatrix}1&1\\end{bmatrix}\\Sigma\\begin{bmatrix}1\\\\1\\end{bmatrix}$"
   ]
  },
  {
   "cell_type": "markdown",
   "id": "shaped-layout",
   "metadata": {},
   "source": [
    "#### A Preview of Principal Component Analysis\n",
    "- Let $X_1,\\dots,X_n \\in \\mathbb{R}^d$, $\\mathbb{X} = \\begin{bmatrix}-X_1^T- \\\\ \\vdots \\\\ -X_n^T-\\end{bmatrix}$\n",
    "- ***Feature Centered*** empirical covariance matrix \n",
    "    - $S= \\frac{1}{n} \\mathbb{X}^T (I_n-\\frac{1}{n} 1 1^T) \\mathbb{X}$"
   ]
  },
  {
   "cell_type": "markdown",
   "id": "parliamentary-reply",
   "metadata": {},
   "source": [
    "### 8. The Decomposition Theorem for Symmetric Matrices"
   ]
  },
  {
   "cell_type": "markdown",
   "id": "healthy-quantity",
   "metadata": {},
   "source": [
    "#### Orthogonal Matrices\n",
    "- Marix $P \\in \\mathbb{R}^{d\\times d}$ is orthogonal matrix/rotation matrix\n",
    "    - if $PP^T=P^TP=I_d$\n",
    "- Let $P=\\begin{bmatrix}v_1&v_2&\\dots&v_d \\end{bmatrix}$\n",
    "    - $v_i.T v_i = \\sum_{l=1}^d v_{i,l}^2 = 1$\n",
    "    - $v_i.T v_j = \\sum_{l=1}^d v_{i,l}*v_{j,l} = 0$\n",
    "- $det(P)=\\pm1$"
   ]
  },
  {
   "cell_type": "markdown",
   "id": "stretch-commerce",
   "metadata": {},
   "source": [
    "#### Eigenvectors and Eigenvalues of a Decomposition of a Symmetric Matrix\n",
    "- $A \\in \\mathbb{R}^{d\\times d}$\n",
    "$$\\begin{align}  A &= PDP^T \\\\\n",
    "    &= \\begin{bmatrix}v_1&v_2&\\dots&v_d\\end{bmatrix} \\begin{bmatrix} \\lambda_1&0&\\dots&0 \\\\ 0&\\lambda_2&\\dots&0 \\\\ \\vdots&\\vdots&\\ddots&\\vdots \\\\ 0&0&\\dots&\\lambda_d\\end{bmatrix}\\begin{bmatrix}-v_1^T- \\\\ -v_2^T- \\\\ \\vdots \\\\ -v_d^T-\\end{bmatrix} \\\\\n",
    "    &= \\lambda_1 v_1\\otimes v_1^T + \\lambda_2 v_2 \\otimes v_2^T + \\dots + \\lambda_d v_d \\otimes v_d^T\n",
    "    \\end{align}$$\n",
    "    \n",
    "- $P \\in \\mathbb{R}^{d\\times d} s.t. P \\text{ is orthogonal}$\n",
    "- $D \\text{ is diagonal}$\n",
    "    - $D = diag(\\lambda_1, \\lambda_2, \\dots, \\lambda_d)$\n",
    "    - $\\lambda \\geq 0$\n",
    "$$\\begin{align}\n",
    "    Av_1 &= (\\lambda_1 v_1\\otimes v_1^T + \\lambda_2 v_2 \\otimes v_2^T + \\dots + \\lambda_d v_d \\otimes v_d^T) v_1\\\\\n",
    "    &= \\lambda_1 \n",
    "    \\begin{bmatrix}v_{1,1}^2     & v_{1,1}v_{1,2}& \\dots &v_{1,1}v_{1,d}\\\\\n",
    "                   v_{1,2}v_{1,1}& v_{1,2}^2     & \\dots &v_{1,2}v_{1,d}\\\\\n",
    "                    \\vdots       &\\vdots         &\\vdots &\\vdots \\\\\n",
    "                   v_{1,d}v_{1,1}&v_{1,d}v_{1,2} & \\dots &v_{1,d}^2\\end{bmatrix} \n",
    "    \\begin{bmatrix}v_{1,1}\\\\ v_{1,2}\\\\ \\vdots \\\\ v_{1,d}\\end{bmatrix} +\n",
    "    \\lambda_2 \n",
    "    \\begin{bmatrix}v_{2,1}^2     & v_{2,1}v_{2,2}& \\dots &v_{2,1}v_{2,d}\\\\\n",
    "                   v_{2,2}v_{2,1}& v_{2,2}^2     & \\dots &v_{2,2}v_{2,d}\\\\\n",
    "                    \\vdots       &\\vdots         &\\vdots &\\vdots \\\\\n",
    "                   v_{2,d}v_{2,1}&v_{2,d}v_{2,2} & \\dots &v_{2,d}^2\\end{bmatrix} \n",
    "    \\begin{bmatrix}v_{1,1}\\\\ v_{1,2}\\\\ \\vdots \\\\ v_{1,d}\\end{bmatrix}\\\\\n",
    "    &= \\lambda_1 \n",
    "    \\begin{bmatrix}v_{1,1}*(v_{1,1}^2+v_{1,2}^2+\\dots +v_{1,d}^2) = v_{1,1}*\\sum_{l=1} v_{1,l}^2 = v_{1,1}*1\\\\\n",
    "                   v_{1,2}*(v_{1,1}^2+v_{1,2}^2+\\dots +v_{1,d}^2) = v_{1,2}*\\sum_{l=1} v_{1,l}^2 = v_{1,2}*1\\\\\n",
    "                    \\vdots\\\\\n",
    "                   v_{1,d}*(v_{1,1}^2+v_{1,2}^2+\\dots +v_{1,d}^2) = v_{1,d}*\\sum_{l=1} v_{1,l}^2 = v_{1,d}*1\\\\\\end{bmatrix} + \n",
    "   \\lambda_2\n",
    "   \\begin{bmatrix}v_{2,1}*\\sum_{l=1}^d v_{i,l}*v_{j,l} = 0\\\\\n",
    "                  v_{2,2}*\\sum_{l=1}^d v_{i,l}*v_{j,l} = 0\\\\\n",
    "                    \\vdots\\\\\n",
    "                   v_{2,d}*\\sum_{l=1}^d v_{i,l}*v_{j,l} = 0\\\\\n",
    "                   \\end{bmatrix}\\\\\n",
    "    &= \\lambda_1 v_1\n",
    "   \\end{align}$$"
   ]
  },
  {
   "cell_type": "code",
   "execution_count": 62,
   "id": "psychological-ireland",
   "metadata": {},
   "outputs": [
    {
     "name": "stdout",
     "output_type": "stream",
     "text": [
      "P is orthogonal? True\n"
     ]
    }
   ],
   "source": [
    "from scipy.stats import ortho_group\n",
    "d = 20\n",
    "P = ortho_group.rvs(dim=d)\n",
    "lambdas = np.random.random(d)\n",
    "D = np.diag(lambdas)\n",
    "print(f'P is orthogonal? {np.allclose(P@P.T, P.T@P, np.eye(d))}')\n",
    "# print('-----')\n",
    "# print(f'P = \\n {P}')\n",
    "# print('-----')\n",
    "# print(f'D = \\n {D}')"
   ]
  },
  {
   "cell_type": "code",
   "execution_count": 63,
   "id": "adapted-windows",
   "metadata": {},
   "outputs": [
    {
     "name": "stdout",
     "output_type": "stream",
     "text": [
      "Is A@v_k == lambdas[:k] * v[:k] == outer_sum ?\n",
      " 1\n"
     ]
    }
   ],
   "source": [
    "A = P@D@P.T\n",
    "# P is A's e-vectors matrix, D is A's e-values matrix\n",
    "# first k e-vectors\n",
    "k = 2\n",
    "v_k = P[:,:k]\n",
    "outer_sum=np.zeros(shape=v_k.shape)\n",
    "for kk in range(k):\n",
    "    outer_sum += (np.outer(P[:,kk],P[:,kk])*lambdas[kk])@v_k\n",
    "# print(f'Av[:k] =\\n{A@v_k}')\n",
    "# print('-----')\n",
    "# print(f'lambdas[:k] * v[:k] =\\n {lambdas[:k]*v_k}')\n",
    "# print('-----')\n",
    "# print(f'( sum(lambda_kk*outer(v_kk, v_kk)) )@v_k = \\n {outer_sum}')\n",
    "\n",
    "print('Is A@v_k == lambdas[:k] * v[:k] == outer_sum ?\\n', (np.allclose(A@v_k, lambdas[:k]*v_k)*np.allclose(A@v_k, outer_sum)))"
   ]
  },
  {
   "cell_type": "code",
   "execution_count": 64,
   "id": "brave-stick",
   "metadata": {},
   "outputs": [
    {
     "name": "stdout",
     "output_type": "stream",
     "text": [
      "Is A symmetric = \n",
      " True\n",
      "-----\n",
      "all e-values >= 0 ? True\n",
      "-----\n",
      "all e-values > 0 ? True\n"
     ]
    }
   ],
   "source": [
    "# A is symmetric\n",
    "print(f'Is A symmetric = \\n {np.allclose(A,A.T)}')\n",
    "print('-----')\n",
    "# A is positive semidefinite\n",
    "## all lambda(e-values) >=0 \n",
    "print(f'all e-values >= 0 ? {(np.diag(D)>=0).all()}')\n",
    "print('-----')\n",
    "# A is positive definite\n",
    "## all e-values = lambda >0 \n",
    "print(f'all e-values > 0 ? {(np.diag(D>0)).all()}')"
   ]
  },
  {
   "cell_type": "markdown",
   "id": "competent-villa",
   "metadata": {},
   "source": [
    "#### Concept Check: The Decomposition Theorem for Symmetric Matrices\n",
    "- P\n",
    "    - The columns of  𝑃  are unit vectors.\n",
    "    - The columns of  𝑃  are eigenvectors of  𝐴 .\n",
    "    - The dot product of any two different columns of  𝑃  is  0 .\n",
    "    - The rows of  𝑃  are unit vectors.\n",
    "- D\n",
    "    - The diagonal entries of  𝐷  are the eigenvalues of  𝐴 .\n",
    "    - The first diagonal element of  𝐷  (i.e. in the top left corner) is the eigenvalue corresponding to the eigenvector which is in the first (i.e. leftmost) column of  𝑃 .\n",
    "    - It is possible for any of the diagonal entries of  𝐷  to be zero.\n",
    "    - It is possible for all of the diagonal entries of  𝐷  to be the same\n",
    "\n",
    "#### Concept Check: Properties of Covariance Matrices\n",
    "- Let  Σ  denote a covariance matrix for some random vector  𝑋∈ℝ𝑑 . (Assume that  $E[||X||_2^2]<\\infty$ .)\n",
    "- Σ definitely\n",
    "    - Symmetric\n",
    "    - Positive Semidefinite"
   ]
  },
  {
   "cell_type": "markdown",
   "id": "advanced-credit",
   "metadata": {},
   "source": [
    "### 9. Principal Component Analysis (PCA)"
   ]
  },
  {
   "cell_type": "markdown",
   "id": "coastal-criticism",
   "metadata": {},
   "source": [
    "#### Centering Data\n",
    "- Why using centered data? for LESS computational cost, the result is the same\n",
    "    1. Let dataset $\\mathbb{X} \\in \\mathbb{R}^{n \\times d}$, feature vector $X_{1 \\leq i \\leq d} \\in \\mathbb{R}^n$\n",
    "        - $\\mathbb{X} = \\begin{bmatrix} X_1 & X_2 & \\dots & X_d \\end{bmatrix}$\n",
    "    2. Covariance(between each feature) matrix of X:\n",
    "        - $S = \\begin{bmatrix} Cov(X_1, X_1) & Cov(X_1, X_2) & \\dots & Cov(X_1, X_d) \\\\\n",
    "                               Cov(X_2, X_1) & Cov(X_2, X_2) & \\dots & Cov(X_2, X_d) \\\\\n",
    "                               \\vdots        & \\vdots        & \\ddots& \\vdots        \\\\\n",
    "                               Cov(X_d, X_1) & Cov(X_d, X_2) & \\dots & Cov(X_d, X_d)\n",
    "               \\end{bmatrix}\n",
    "             = \\begin{bmatrix} E[X_1^T X_1]-E[X_1]E[X_1] & E[X_1^T X_2]-E[X_1]E[X_2] & \\dots & E[X_1^T X_d]-E[X_1]E[X_d] \\\\\n",
    "                               E[X_2^T X_1]-E[X_2]E[X_1] & E[X_2^T X_2]-E[X_2]E[X_2] & \\dots & E[X_2^T X_d]-E[X_2]E[X_d] \\\\\n",
    "                               \\vdots                    & \\vdots                    & \\ddots& \\vdots                    \\\\\n",
    "                               E[X_d^T X_1]-E[X_d]E[X_1] & E[X_d^T X_2]-E[X_d]E[X_2] & \\dots & E[X_d^T X_d]-E[X_d]E[X_d] \\\\\n",
    "               \\end{bmatrix}$\n",
    "    3. If data is centered, $0 = E[X_1] = E[X_2] = \\dots = E[X_d]$\n",
    "        - $S = \\begin{bmatrix} E[X_1^T X_1] & E[X_1^T X_2] & \\dots & E[X_1^T X_d] \\\\\n",
    "                               E[X_2^T X_1] & E[X_2^T X_2] & \\dots & E[X_2^T X_d] \\\\\n",
    "                               \\vdots       & \\vdots       & \\ddots& \\vdots       \\\\\n",
    "                               E[X_d^T X_1] & E[X_d^T X_2] & \\dots & E[X_d^T X_d] \\\\\n",
    "               \\end{bmatrix}$"
   ]
  },
  {
   "cell_type": "code",
   "execution_count": 75,
   "id": "respected-sugar",
   "metadata": {},
   "outputs": [
    {
     "name": "stdout",
     "output_type": "stream",
     "text": [
      "original vector =\n",
      " [0.87035382 0.25605425 0.10850415]\n",
      "-----\n",
      "expectation of x =\n",
      " 0.41163740453796943\n",
      "-----\n",
      "centered data =\n",
      " [ 0.45871642 -0.15558316 -0.30313326]\n",
      "-----\n",
      "compare with using H, has same result?  True\n"
     ]
    }
   ],
   "source": [
    "n=3\n",
    "x = np.random.random(n)\n",
    "H = np.identity(n)-1/n*np.outer(np.ones(n),np.ones(n)) \n",
    "print(f'original vector =\\n {x}')\n",
    "print('-----')\n",
    "print(f'expectation of x =\\n {np.mean(x)}')\n",
    "print('-----')\n",
    "print(f'centered data =\\n {x-np.mean(x)}')\n",
    "print('-----')\n",
    "print('compare with using H, has same result? ', np.allclose(H@x, x-np.mean(x, axis=0)))"
   ]
  },
  {
   "cell_type": "code",
   "execution_count": 76,
   "id": "middle-aluminum",
   "metadata": {},
   "outputs": [
    {
     "name": "stdout",
     "output_type": "stream",
     "text": [
      "original dataset =\n",
      " [[0.61223986 0.44290015 0.58911726 0.4243564 ]\n",
      " [0.89657297 0.727258   0.20700754 0.47407711]\n",
      " [0.84361858 0.18272537 0.38696489 0.64490376]]\n",
      "-----\n",
      "expectation of each feature = [0.7841438  0.45096117 0.39436323 0.51444576]\n",
      "-----\n",
      "feature centered data set =\n",
      " [[-0.17190394 -0.00806102  0.19475403 -0.09008936]\n",
      " [ 0.11242917  0.27629683 -0.18735569 -0.04036865]\n",
      " [ 0.05947478 -0.2682358  -0.00739834  0.13045801]]\n",
      "-----\n",
      "compare with using H, has same result?  True\n"
     ]
    }
   ],
   "source": [
    "X = np.random.random((n,n+1))\n",
    "print(f'original dataset =\\n {X}')\n",
    "print('-----')\n",
    "print(f'expectation of each feature = {np.mean(X, axis=0)}')\n",
    "print('-----')\n",
    "print(f'feature centered data set =\\n {X-np.mean(X, axis=0)}')\n",
    "print('-----')\n",
    "print('compare with using H, has same result? ', np.allclose(H@X, X-np.mean(X, axis=0)))"
   ]
  },
  {
   "cell_type": "code",
   "execution_count": 78,
   "id": "applied-calgary",
   "metadata": {},
   "outputs": [],
   "source": [
    "# sns.scatterplot(x=X[:,0], y=X[:,1])\n",
    "# sns.scatterplot(x=H@X[:,0], y=H@X[:,1])\n",
    "# plt.show()"
   ]
  },
  {
   "cell_type": "markdown",
   "id": "advanced-adelaide",
   "metadata": {},
   "source": [
    "#### Conceptual Example I: 2 data points in 2D"
   ]
  },
  {
   "cell_type": "code",
   "execution_count": 79,
   "id": "peripheral-granny",
   "metadata": {},
   "outputs": [
    {
     "data": {
      "text/plain": [
       "array([[0., 0.],\n",
       "       [0., 1.]])"
      ]
     },
     "execution_count": 79,
     "metadata": {},
     "output_type": "execute_result"
    }
   ],
   "source": [
    "X = np.array([[0,1],[0,-1]])\n",
    "S = cov_matrix(X)\n",
    "S"
   ]
  },
  {
   "cell_type": "code",
   "execution_count": 80,
   "id": "intended-courtesy",
   "metadata": {},
   "outputs": [
    {
     "data": {
      "text/plain": [
       "((array([0., 1.]),\n",
       "  array([[1., 0.],\n",
       "         [0., 1.]])),\n",
       " (array([ 0., -1.]),\n",
       "  array([[ 1.        , -0.70710678],\n",
       "         [ 0.        ,  0.70710678]])))"
      ]
     },
     "execution_count": 80,
     "metadata": {},
     "output_type": "execute_result"
    }
   ],
   "source": [
    "np.linalg.eig(S), np.linalg.eig(X)"
   ]
  },
  {
   "cell_type": "markdown",
   "id": "threaded-european",
   "metadata": {},
   "source": [
    "#### 10. Conceptual Examples in 2 dimensions"
   ]
  },
  {
   "cell_type": "code",
   "execution_count": 81,
   "id": "timely-africa",
   "metadata": {},
   "outputs": [
    {
     "name": "stdout",
     "output_type": "stream",
     "text": [
      "Original ds = \n",
      "[[ 1.   0.5]\n",
      " [-1.  -0.5]]\n",
      "-----\n",
      "covariance matrix XS = \n",
      "[[1.   0.5 ]\n",
      " [0.5  0.25]]\n",
      "-----\n",
      "double check S, True\n",
      "-----\n",
      "e_values_matrix = \n",
      " [[1.25 0.  ]\n",
      " [0.   0.  ]]\n",
      "-----\n",
      "e_vectors_matrix = \n",
      " [[ 0.89442719 -0.4472136 ]\n",
      " [ 0.4472136   0.89442719]]\n",
      "-----\n",
      "PC1 e-value, e-vector = \n",
      "1.25, [0.89442719 0.4472136 ]\n",
      "-----\n",
      "x_1 projected on PC1 = \n",
      " 1.118033988749895\n",
      "x_2 projected on PC1 = \n",
      " -1.118033988749895\n",
      "-----\n",
      "Projected ds = \n",
      " [[ 1.11803399]\n",
      " [-1.11803399]]\n",
      "-----\n",
      "Projected covariance matrix YS = \n",
      " 1.2500000000000002\n",
      "-----\n"
     ]
    }
   ],
   "source": [
    "𝐱_1 \t = \t np.array((1,1/2))\n",
    "𝐱_2 \t = \t np.array((-1,-1/2))\n",
    "X=np.vstack([x_1,x_2])\n",
    "print(f'Original ds = \\n{X}')\n",
    "print('-----')\n",
    "# covariance matrix\n",
    "XS =np.cov(X.T,bias=True)\n",
    "print(f'covariance matrix XS = \\n{XS}')\n",
    "print('-----')\n",
    "print(f'double check S, {np.allclose(XS, cov_matrix(X))}')\n",
    "print('-----')\n",
    "e_values, e_vectors = np.linalg.eig(XS)\n",
    "e_values_matrix = np.diag(e_values)\n",
    "print(f'e_values_matrix = \\n {e_values_matrix}')\n",
    "print('-----')\n",
    "print(f'e_vectors_matrix = \\n {e_vectors}')\n",
    "print('-----')\n",
    "PC1_value_ind = np.argmax(e_values)\n",
    "PC1_value = e_values[PC1_value_ind]\n",
    "PC1_vector = e_vectors[:,PC1_value_ind]\n",
    "print(f'PC1 e-value, e-vector = \\n{PC1_value}, {PC1_vector}')\n",
    "print('-----')\n",
    "x1_on_PC1 = PC1_vector@x_1\n",
    "x2_on_PC1 = PC1_vector@x_2\n",
    "print(f'x_1 projected on PC1 = \\n {x1_on_PC1}')\n",
    "print(f'x_2 projected on PC1 = \\n {x2_on_PC1}')\n",
    "print('-----')\n",
    "Y = np.vstack([x1_on_PC1, x2_on_PC1])\n",
    "print(f'Projected ds = \\n {Y}')\n",
    "print('-----')\n",
    "YS = cov_matrix(Y)\n",
    "print(f'Projected covariance matrix YS = \\n {YS}')\n",
    "print('-----')\n",
    "# np.array(np.dot(e_vectors[:,1],x_1))"
   ]
  },
  {
   "cell_type": "markdown",
   "id": "directed-december",
   "metadata": {},
   "source": [
    "#### 11. Conceptual Examples in 2 dimensions"
   ]
  },
  {
   "cell_type": "code",
   "execution_count": 82,
   "id": "vanilla-coverage",
   "metadata": {},
   "outputs": [
    {
     "name": "stdout",
     "output_type": "stream",
     "text": [
      "Original ds = \n",
      "[[ 0  2]\n",
      " [ 1 -1]\n",
      " [-1 -1]]\n",
      "-----\n",
      "covariance matrix XS = \n",
      "[[0.66666667 0.        ]\n",
      " [0.         2.        ]]\n",
      "-----\n",
      "double check S, True\n",
      "-----\n",
      "e_values_matrix = \n",
      " [[0.66666667 0.        ]\n",
      " [0.         2.        ]]\n",
      "-----\n",
      "e_vectors_matrix = \n",
      " [[1. 0.]\n",
      " [0. 1.]]\n",
      "-----\n",
      "PC1 e-value, e-vector = \n",
      "2.0, [0. 1.]\n",
      "-----\n",
      "x_1 projected on PC1 = \n",
      " 2.0\n",
      "x_2 projected on PC1 = \n",
      " -1.0\n",
      "x_3 projected on PC1 = \n",
      " -1.0\n",
      "-----\n",
      "Projected ds = \n",
      " [[ 2.]\n",
      " [-1.]\n",
      " [-1.]]\n",
      "-----\n",
      "Projected covariance matrix YS = \n",
      " 2.0\n"
     ]
    }
   ],
   "source": [
    "𝐱_1 \t = \t np.array((0,2))\n",
    "𝐱_2 \t = \t np.array((1,-1))\n",
    "𝐱_3 \t = \t np.array((-1,-1))\n",
    "X=np.vstack([x_1,x_2,x_3])\n",
    "\n",
    "print(f'Original ds = \\n{X}')\n",
    "print('-----')\n",
    "# covariance matrix\n",
    "XS =np.cov(X.T,bias=True)\n",
    "print(f'covariance matrix XS = \\n{XS}')\n",
    "print('-----')\n",
    "print(f'double check S, {np.allclose(XS, cov_matrix(X))}')\n",
    "print('-----')\n",
    "e_values, e_vectors = np.linalg.eig(XS)\n",
    "e_values_matrix = np.diag(e_values)\n",
    "print(f'e_values_matrix = \\n {e_values_matrix}')\n",
    "print('-----')\n",
    "print(f'e_vectors_matrix = \\n {e_vectors}')\n",
    "print('-----')\n",
    "PC1_value_ind = np.argmax(e_values)\n",
    "PC1_value = e_values[PC1_value_ind]\n",
    "PC1_vector = e_vectors[:,PC1_value_ind]\n",
    "print(f'PC1 e-value, e-vector = \\n{PC1_value}, {PC1_vector}')\n",
    "print('-----')\n",
    "x1_on_PC1 = PC1_vector@x_1\n",
    "x2_on_PC1 = PC1_vector@x_2\n",
    "x3_on_PC1 = PC1_vector@x_3\n",
    "print(f'x_1 projected on PC1 = \\n {x1_on_PC1}')\n",
    "print(f'x_2 projected on PC1 = \\n {x2_on_PC1}')\n",
    "print(f'x_3 projected on PC1 = \\n {x3_on_PC1}')\n",
    "print('-----')\n",
    "Y = np.vstack([x1_on_PC1, x2_on_PC1, x3_on_PC1])\n",
    "print(f'Projected ds = \\n {Y}')\n",
    "print('-----')\n",
    "YS = cov_matrix(Y)\n",
    "print(f'Projected covariance matrix YS = \\n {YS}')"
   ]
  },
  {
   "cell_type": "markdown",
   "id": "inappropriate-treasurer",
   "metadata": {},
   "source": [
    "#### 12. Conceptual Examples Continued"
   ]
  },
  {
   "cell_type": "code",
   "execution_count": 83,
   "id": "likely-mount",
   "metadata": {},
   "outputs": [
    {
     "name": "stdout",
     "output_type": "stream",
     "text": [
      "Original ds = \n",
      "[[ 0  2]\n",
      " [ 0 -2]\n",
      " [ 1  1]\n",
      " [-1 -1]]\n",
      "-----\n",
      "covariance matrix XS = \n",
      "[[0.5 0.5]\n",
      " [0.5 2.5]]\n",
      "-----\n",
      "double check S, True\n",
      "-----\n",
      "e_values_matrix = \n",
      " [[0.38196601 0.        ]\n",
      " [0.         2.61803399]]\n",
      "-----\n",
      "e_vectors_matrix = \n",
      " [[-0.97324899 -0.22975292]\n",
      " [ 0.22975292 -0.97324899]]\n",
      "-----\n",
      "PC1 e-value, e-vector = \n",
      "2.618033988749895, [-0.22975292 -0.97324899]\n",
      "-----\n",
      "Projected ds = \n",
      " [[-1.94649798]\n",
      " [ 1.94649798]\n",
      " [-1.20300191]\n",
      " [ 1.20300191]]\n",
      "-----\n",
      "Projected covariance matrix YS = \n",
      " 2.6180339887498945\n"
     ]
    }
   ],
   "source": [
    "𝐱_1 \t = \t np.array((0,2))\n",
    "𝐱_2 \t = \t np.array((0,-2))\n",
    "𝐱_3 \t = \t np.array((1,1))\n",
    "𝐱_4 \t = \t np.array((-1,-1))\n",
    "X=np.vstack([x_1,x_2,x_3,x_4])\n",
    "print(f'Original ds = \\n{X}')\n",
    "print('-----')\n",
    "# covariance matrix\n",
    "XS =np.cov(X.T,bias=True)\n",
    "print(f'covariance matrix XS = \\n{XS}')\n",
    "print('-----')\n",
    "print(f'double check S, {np.allclose(XS, cov_matrix(X))}')\n",
    "print('-----')\n",
    "e_values, e_vectors = np.linalg.eig(XS)\n",
    "e_values_matrix = np.diag(e_values)\n",
    "print(f'e_values_matrix = \\n {e_values_matrix}')\n",
    "print('-----')\n",
    "print(f'e_vectors_matrix = \\n {e_vectors}')\n",
    "print('-----')\n",
    "PC1_value_ind = np.argmax(e_values)\n",
    "PC1_value = e_values[PC1_value_ind]\n",
    "PC1_vector = e_vectors[:,PC1_value_ind]\n",
    "print(f'PC1 e-value, e-vector = \\n{PC1_value}, {PC1_vector}')\n",
    "print('-----')\n",
    "x1_on_PC1 = PC1_vector@x_1\n",
    "x2_on_PC1 = PC1_vector@x_2\n",
    "x3_on_PC1 = PC1_vector@x_3\n",
    "x4_on_PC1 = PC1_vector@x_4\n",
    "# print(f'x_1 projected on PC1 = \\n {x1_on_PC1}')\n",
    "# print(f'x_2 projected on PC1 = \\n {x2_on_PC1}')\n",
    "# print(f'x_2 projected on PC1 = \\n {x3_on_PC1}')\n",
    "# print(f'x_2 projected on PC1 = \\n {x4_on_PC1}')\n",
    "# print('-----')\n",
    "Y = np.vstack([x1_on_PC1, x2_on_PC1, x3_on_PC1, x4_on_PC1])\n",
    "print(f'Projected ds = \\n {Y}')\n",
    "print('-----')\n",
    "YS = cov_matrix(Y)\n",
    "print(f'Projected covariance matrix YS = \\n {YS}')"
   ]
  },
  {
   "cell_type": "markdown",
   "id": "optimum-furniture",
   "metadata": {},
   "source": [
    "### 13. Covariance versus Correlation\n",
    "\n",
    "- 用 Correlation 來做能夠避免 data 被 rescal 後的 相關性被改變，ex: cm/age vs inch/age, 點之間的距離並不一定相同\n",
    "- IF each covariate  $X_i$  represents a particular physical characteristics, such as age, height, weight, blood pressure, etc of individuals.\n",
    "    - use the correlation matrix instead of the covariance matrix for PCA\n",
    "- ***random variables***\n",
    "    - Recall that the correlation  $\\rho_{X,Y}$ of two random variables  $X$  and  $Y$  is the covariance of the the rescaled random variables  $\\frac{X}{\\sigma_{X}}$ , and  $\\frac{Y}{\\sigma_{Y}}$\n",
    "        - $\\rho_{X,Y} = Cov(\\frac{X}{\\sigma_{X}}, \\frac{Y}{\\sigma_{Y}}) = \\frac{Cov(X,Y)}{\\sigma_{X}\\sigma_{Y}} = \\frac{E[XY]-E[X]E[Y]}{\\sqrt{(E[X^2] - E[X]^2)(E[Y^2] - E[Y]^2)}}$\n",
    "        - if $E[X] = E[Y] = 0$, then\n",
    "            - $\\rho_{X,Y} = \\frac{E[XY]}{\\sqrt{(E[X^2])(E[Y^2])}}$\n",
    "- ***random vectors***\n",
    "    - Extending to random vectors $X$  with  $E[X]=0$ , the correlation matrix is the covariance matrix of rescaled data:\n",
    "$$E[\\tilde{X}\\tilde{X}^T]=E[\\begin{bmatrix} \\frac{X_1}{\\sigma_{X_1}} \\\\ \\frac{X_2}{\\sigma_{X_2}} \\\\ \\vdots \\\\ \\frac{X_n}{\\sigma_{X_n}} \\end{bmatrix} \\begin{bmatrix} \\frac{X_1}{\\sigma_{X_1}} & \\frac{X_2}{\\sigma_{X_2}} & \\dots & \\frac{X_n}{\\sigma_{X_n}} \\end{bmatrix}] $$\n",
    "\t \n",
    "    - so that  𝑖,𝑗 -th entry of the correlation matrix is  $E[\\frac{X_i X_j}{\\sigma_{X_i}\\sigma_{X_j}}]$\n",
    "\n",
    "    - By definition, covariance has the dimension of squared of the data, while correlation is dimensionless. Hence, when covariates have different dimensions or units, it makes more sense to first rescale each covariate by its sample standard deviation, before determining the directions of largest spread using PCA."
   ]
  },
  {
   "cell_type": "code",
   "execution_count": 84,
   "id": "practical-configuration",
   "metadata": {},
   "outputs": [],
   "source": [
    "def cov_matrix(X):\n",
    "    n=X.shape[0]\n",
    "    S = 1/n*(X.T@(np.identity(X.shape[0])-1/n*np.ones((n,n)))@X)\n",
    "    return np.squeeze(S)\n",
    "def corr_matrix(X):\n",
    "    cov = cov_matrix(X)\n",
    "    std = np.outer(np.std(X, axis=0), np.std(X, axis=0))\n",
    "    return cov/std"
   ]
  },
  {
   "cell_type": "code",
   "execution_count": 85,
   "id": "dependent-mauritius",
   "metadata": {},
   "outputs": [
    {
     "data": {
      "text/plain": [
       "True"
      ]
     },
     "execution_count": 85,
     "metadata": {},
     "output_type": "execute_result"
    }
   ],
   "source": [
    "np.allclose(corr_matrix(X), np.corrcoef(X.T))"
   ]
  },
  {
   "cell_type": "code",
   "execution_count": 86,
   "id": "meaningful-campbell",
   "metadata": {},
   "outputs": [],
   "source": [
    "# difference between centered or not centered data set, in cov and corr\n",
    "n, d = 20, 3\n",
    "X = np.random.random((n,d))\n",
    "H = np.identity(n)-1/n*np.outer(np.ones(n),np.ones(n)) "
   ]
  },
  {
   "cell_type": "code",
   "execution_count": 87,
   "id": "metallic-karaoke",
   "metadata": {},
   "outputs": [
    {
     "name": "stdout",
     "output_type": "stream",
     "text": [
      "scaled feature in dataset or scaled dataset wont change Correlation matrix\n",
      "scaled feature in dataset or scaled dataset will change Covariance matrix, scaled = scalar^2 * original\n",
      "add any constant to feature in dataset or data set wont change any result\n"
     ]
    }
   ],
   "source": [
    "# for scalar in range(1,3):\n",
    "#     X_temp = X.copy()\n",
    "#     X_temp = scalar*X_temp\n",
    "#     corr = corr_matrix(X_temp)\n",
    "#     cov  = cov_matrix(X_temp)\n",
    "#     print(f'scalar = {scalar}')\n",
    "#     print('scaled dataset corr =\\n', corr)\n",
    "#     print('-----')\n",
    "#     print('scaled dataset cov =\\n', cov)\n",
    "#     print('-----')\n",
    "#     X_temp[:,0] = scalar*X_temp[:,0]-8\n",
    "#     corr = corr_matrix(X_temp)\n",
    "#     cov  = cov_matrix(X_temp)\n",
    "#     print('scaled feature corr =\\n', corr)\n",
    "#     print('-----')\n",
    "#     print('scaled feature cov =\\n', cov)\n",
    "#     print('-----')\n",
    "    \n",
    "print('scaled feature in dataset or scaled dataset wont change Correlation matrix')\n",
    "print('scaled feature in dataset or scaled dataset will change Covariance matrix, scaled = scalar^2 * original')\n",
    "print('add any constant to feature in dataset or data set wont change any result')"
   ]
  },
  {
   "cell_type": "markdown",
   "id": "logical-cattle",
   "metadata": {},
   "source": [
    "#### Visualize results"
   ]
  },
  {
   "cell_type": "code",
   "execution_count": 111,
   "id": "operating-hotel",
   "metadata": {},
   "outputs": [],
   "source": [
    "n, d = 40, 5\n",
    "X = np.random.random((n,d))\n",
    "# wnat x in R^5 -> y in R^2"
   ]
  },
  {
   "cell_type": "code",
   "execution_count": 112,
   "id": "billion-criterion",
   "metadata": {},
   "outputs": [
    {
     "data": {
      "text/plain": [
       "(40, 2)"
      ]
     },
     "execution_count": 112,
     "metadata": {},
     "output_type": "execute_result"
    }
   ],
   "source": [
    "# cov version\n",
    "cov_X = cov_matrix(X)\n",
    "e_values, e_vectors = np.linalg.eig(cov_X)\n",
    "sorted_indices = np.argsort(e_values)[::-1]\n",
    "e_values_matrix_cov = np.diag(np.take_along_axis(e_values, np.argsort(e_values)[::-1], axis=0))\n",
    "e_vectors_cov = e_vectors[:,sorted_indices]\n",
    "Y_cov = X@e_vectors_cov[:,:2]\n",
    "Y_cov.shape"
   ]
  },
  {
   "cell_type": "code",
   "execution_count": 113,
   "id": "pretty-stations",
   "metadata": {},
   "outputs": [
    {
     "data": {
      "text/plain": [
       "(40, 2)"
      ]
     },
     "execution_count": 113,
     "metadata": {},
     "output_type": "execute_result"
    }
   ],
   "source": [
    "# corr version\n",
    "corr_X = corr_matrix(X)\n",
    "e_values, e_vectors = np.linalg.eig(corr_X)\n",
    "sorted_indices = np.argsort(e_values)[::-1]\n",
    "e_values_matrix_corr = np.diag(np.take_along_axis(e_values, np.argsort(e_values)[::-1], axis=0))\n",
    "e_vectors_corr = e_vectors[:,sorted_indices]\n",
    "Y_corr = X@e_vectors_corr[:,:2]\n",
    "Y_corr.shape"
   ]
  },
  {
   "cell_type": "code",
   "execution_count": 114,
   "id": "particular-municipality",
   "metadata": {},
   "outputs": [
    {
     "data": {
      "image/png": "[encoded data removed]",
      "text/plain": [
       "<Figure size 432x288 with 1 Axes>"
      ]
     },
     "metadata": {
      "needs_background": "light"
     },
     "output_type": "display_data"
    }
   ],
   "source": [
    "sns.scatterplot(x=Y_cov[:,0], y=Y_cov[:,1], label='cov')\n",
    "sns.scatterplot(x=Y_corr[:,0], y=Y_corr[:,1], label='corr')\n",
    "plt.legend()\n",
    "plt.show()"
   ]
  },
  {
   "cell_type": "markdown",
   "id": "funded-expert",
   "metadata": {},
   "source": [
    "### 14. Total Variance\n",
    "- We can decide how many principal components to retain in the projection of the data based on their explained variance.\n",
    "- The total variance is the sum of variance of all the principal components, which equals the sum of the eigenvalues of the covariance matrix:\n",
    "    - Total Variance:$\\sum\\limits_{j=1}^{p}\\lambda_j$\n",
    "\n",
    "- The fraction of variance explained by a principal component is the ratio of the variance of that principal component to the total variance:\n",
    "    - $\\frac{\\lambda_j}{\\sum\\limits_{j=1}^{p}\\lambda_j}$\n",
    "    \n",
    "Ungraded Exercise: Compare the explained variance of the first principal component when PCA is applied to the correlation matrix with when PCA is applied to the covariance matrix."
   ]
  },
  {
   "cell_type": "code",
   "execution_count": 115,
   "id": "fitting-recovery",
   "metadata": {},
   "outputs": [
    {
     "name": "stdout",
     "output_type": "stream",
     "text": [
      "e_values_cov =\n",
      " [76.31458701 72.61112265 67.33397141 61.27884484 57.19300262 47.14411871\n",
      " 43.22741294 38.70017499 33.42699578 27.34746512 22.3047142  21.48752498\n",
      " 19.21379246 16.34014613 13.16579839 10.43422352  9.48956853  8.52512406\n",
      "  5.50050675  4.3265299 ]\n",
      "-----\n",
      "e_values_corr =\n",
      " [2.33742721 2.13038583 2.04360759 1.81673924 1.73666871 1.45104988\n",
      " 1.30464672 1.17719445 0.9987052  0.90216331 0.71853557 0.65572273\n",
      " 0.5945562  0.52861409 0.42776247 0.3256192  0.28928795 0.25809991\n",
      " 0.16646203 0.13675171]\n"
     ]
    }
   ],
   "source": [
    "n, d = 40, 20\n",
    "X = np.random.randint(20, size=(n,d))\n",
    "\n",
    "cov  = cov_matrix(X)\n",
    "e_values_cov, e_vetors_cov = np.linalg.eig(cov)\n",
    "sorted_indices = np.argsort(e_values_cov)[::-1]\n",
    "e_values_cov = e_values_cov[sorted_indices]\n",
    "e_vetors_cov = e_vetors_cov[:,sorted_indices]\n",
    "# print('cov =\\n', cov)\n",
    "print('e_values_cov =\\n', e_values_cov)\n",
    "# print('e_vetors_cov =\\n', e_vetors_cov)\n",
    "print('-----')\n",
    "\n",
    "corr = corr_matrix(X)\n",
    "e_values_corr, e_vetors_corr = np.linalg.eig(corr)\n",
    "sorted_indices = np.argsort(e_values_corr)[::-1]\n",
    "e_values_corr = e_values_corr[sorted_indices]\n",
    "e_vetors_corr = e_vetors_corr[:,sorted_indices]\n",
    "# print('corr =\\n', corr)\n",
    "print('e_values_corr =\\n', e_values_corr)\n",
    "# print('e_vetors_corr =\\n', e_vetors_corr)"
   ]
  },
  {
   "cell_type": "code",
   "execution_count": 116,
   "id": "dress-warren",
   "metadata": {},
   "outputs": [
    {
     "name": "stdout",
     "output_type": "stream",
     "text": [
      "Fraction of variance in each principal component(e-value/sum(e-values)):\n",
      "Covariance base PCA fraction =\n",
      " [0.11644582 0.11079483 0.1027426  0.09350329 0.08726885 0.0719356\n",
      " 0.06595923 0.05905127 0.05100511 0.04172856 0.034034   0.03278708\n",
      " 0.02931767 0.02493287 0.02008924 0.01592122 0.01447981 0.0130082\n",
      " 0.00839304 0.0066017 ]\n",
      "Covariance base PCA Summation =\n",
      " 655.3656250000005\n",
      "-----\n",
      "Correlation base PCA fraction =\n",
      " [0.11687136 0.10651929 0.10218038 0.09083696 0.08683344 0.07255249\n",
      " 0.06523234 0.05885972 0.04993526 0.04510817 0.03592678 0.03278614\n",
      " 0.02972781 0.0264307  0.02138812 0.01628096 0.0144644  0.012905\n",
      " 0.0083231  0.00683759]\n",
      "Correlation base PCA Summation =\n",
      " 20.000000000000025\n"
     ]
    }
   ],
   "source": [
    "print('Fraction of variance in each principal component(e-value/sum(e-values)):')\n",
    "print('Covariance base PCA fraction =\\n', e_values_cov / np.sum(e_values_cov))\n",
    "print('Covariance base PCA Summation =\\n',np.sum(e_values_cov))\n",
    "print('-----')\n",
    "print('Correlation base PCA fraction =\\n', e_values_corr / np.sum(e_values_corr))\n",
    "print('Correlation base PCA Summation =\\n', np.sum(e_values_corr))"
   ]
  },
  {
   "cell_type": "code",
   "execution_count": 117,
   "id": "upset-stone",
   "metadata": {},
   "outputs": [
    {
     "name": "stdout",
     "output_type": "stream",
     "text": [
      "The difference between two PCA is about 10%\n"
     ]
    },
    {
     "data": {
      "text/plain": [
       "array([-3.65441764e-03,  3.85896871e-02,  5.47217417e-03,  2.85159173e-02,\n",
       "        4.98931353e-03, -8.57565742e-03,  1.10203769e-02,  3.24381409e-03,\n",
       "        2.09753445e-02, -8.09901726e-02, -5.56143132e-02,  2.87630940e-05,\n",
       "       -1.39895470e-02, -6.00746698e-02, -6.46556045e-02, -2.25947002e-02,\n",
       "        1.06430416e-03,  7.93344860e-03,  8.33234622e-03, -3.57303701e-02])"
      ]
     },
     "execution_count": 117,
     "metadata": {},
     "output_type": "execute_result"
    }
   ],
   "source": [
    "print('The difference between two PCA is about 10%')\n",
    "(e_values_cov / np.sum(e_values_cov)- (e_values_corr / np.sum(e_values_corr))) / ((e_values_cov / np.sum(e_values_cov)))"
   ]
  },
  {
   "cell_type": "markdown",
   "id": "certified-aircraft",
   "metadata": {},
   "source": [
    "### 15. Multidimensional Scaling (MDS)"
   ]
  },
  {
   "cell_type": "code",
   "execution_count": 234,
   "id": "informed-learning",
   "metadata": {},
   "outputs": [
    {
     "data": {
      "text/plain": [
       "(5, 5)"
      ]
     },
     "execution_count": 234,
     "metadata": {},
     "output_type": "execute_result"
    }
   ],
   "source": [
    "# given dataset X_origin\n",
    "n, d = 5,5\n",
    "X_origin = np.random.randint(10, size=(n,d))\n",
    "X_origin.shape"
   ]
  },
  {
   "cell_type": "code",
   "execution_count": 235,
   "id": "horizontal-saudi",
   "metadata": {},
   "outputs": [],
   "source": [
    "# 1. compute distance matrix\n",
    "from sklearn.metrics import pairwise_distances\n",
    "X_distance_matrix = pairwise_distances(X_origin)\n",
    "# print('distance matrix=\\n',X_distance_matrix)\n",
    "# print('-----')\n",
    "\n",
    "# 2. convert distance matrix into inner product representation\n",
    "H = np.identity(n)-1/n*np.outer(np.ones(n),np.ones(n)) \n",
    "XXT= (-1/2) * H@X_distance_matrix**2@H\n",
    "# print('inner product representation=\\n',XXT)"
   ]
  },
  {
   "cell_type": "code",
   "execution_count": 236,
   "id": "progressive-flour",
   "metadata": {},
   "outputs": [
    {
     "name": "stdout",
     "output_type": "stream",
     "text": [
      "e_values =\n",
      " [121.04951838  43.01103705  34.76667831   3.97276626   0.        ]\n",
      "-----\n"
     ]
    }
   ],
   "source": [
    "# 3. conpute e-vectors, e-values\n",
    "e_values, e_vectors = np.linalg.eig(XXT)\n",
    "e_values[np.isclose(0,e_values)] = 0\n",
    "sorted_indices = np.argsort(e_values)[::-1]\n",
    "\n",
    "e_values_matrix_MDS = np.diag(e_values[sorted_indices])\n",
    "e_vectors_MDS = e_vectors[:,sorted_indices]\n",
    "print('e_values =\\n', e_values[sorted_indices])\n",
    "# print('e_vectors_MDS =\\n', e_vectors_MDS)\n",
    "print('-----')\n",
    "# 4. output Y, k components\n",
    "k=2\n",
    "Y_MDS = e_vectors_MDS[:,:k]@np.sqrt(e_values_matrix_MDS[:k,:k])\n",
    "# print('Y_MDS =\\n',Y_MDS)"
   ]
  },
  {
   "cell_type": "markdown",
   "id": "honey-organic",
   "metadata": {},
   "source": [
    "#### check properties"
   ]
  },
  {
   "cell_type": "code",
   "execution_count": 237,
   "id": "freelance-consumption",
   "metadata": {},
   "outputs": [
    {
     "name": "stdout",
     "output_type": "stream",
     "text": [
      "Is X = e-vectors @ e-values^0.5? True\n"
     ]
    }
   ],
   "source": [
    "X_inner = (e_vectors_MDS@np.sqrt(e_values_matrix_MDS))\n",
    "print('Is X = e-vectors @ e-values^0.5?', np.allclose(X_inner@X_inner.T, XXT))"
   ]
  },
  {
   "cell_type": "code",
   "execution_count": 238,
   "id": "becoming-cement",
   "metadata": {},
   "outputs": [
    {
     "name": "stdout",
     "output_type": "stream",
     "text": [
      "first-1 compoments\n",
      "Is Y_MDSs same?\n",
      " True\n",
      "trace(X@X.T-Y@Y.T)^2 =\n",
      " 6683.141245467555\n",
      "-----\n",
      "first-2 compoments\n",
      "Is Y_MDSs same?\n",
      " True\n",
      "trace(X@X.T-Y@Y.T)^2 =\n",
      " 1500.744565776329\n",
      "-----\n",
      "first-3 compoments\n",
      "Is Y_MDSs same?\n",
      " True\n",
      "trace(X@X.T-Y@Y.T)^2 =\n",
      " 15.782871785731144\n",
      "-----\n",
      "first-4 compoments\n",
      "Is Y_MDSs same?\n",
      " True\n",
      "trace(X@X.T-Y@Y.T)^2 =\n",
      " 0.0\n",
      "-----\n",
      "first-5 compoments\n",
      "Is Y_MDSs same?\n",
      " True\n",
      "trace(X@X.T-Y@Y.T)^2 =\n",
      " 0.0\n",
      "-----\n"
     ]
    }
   ],
   "source": [
    "for nn in range(1,n+1):\n",
    "    # determine Y by e-vec, e-val of XX.T\n",
    "    Y_MDS_eig = e_vectors_MDS[:,:nn]@np.sqrt(e_values_matrix_MDS[:nn,:nn])\n",
    "    # determine Y by X @ filter_matrix\n",
    "    filter_matrix = np.identity(n)[:,:nn]\n",
    "    Y_MDS_fil = X_inner@filter_matrix\n",
    "    print(f'first-{nn} compoments')\n",
    "    print('Is Y_MDSs same?\\n', np.allclose(Y_MDS_eig, Y_MDS_fil))\n",
    "    print('trace(X@X.T-Y@Y.T)^2 =\\n',(np.trace(X_inner@X_inner.T - Y_MDS_eig@Y_MDS_eig.T)**2))\n",
    "    print('-----')"
   ]
  },
  {
   "cell_type": "markdown",
   "id": "domestic-casting",
   "metadata": {},
   "source": [
    "### 17. KL-divergence"
   ]
  },
  {
   "cell_type": "code",
   "execution_count": 197,
   "id": "stone-subscriber",
   "metadata": {},
   "outputs": [],
   "source": [
    "d12, d13 = 1 ,1\n",
    "d23 = np.sqrt(2)"
   ]
  },
  {
   "cell_type": "code",
   "execution_count": 234,
   "id": "parallel-moisture",
   "metadata": {},
   "outputs": [],
   "source": [
    "def p_finder(traget, ds):\n",
    "    ds = np.array(ds)\n",
    "    p_traget = np.exp(-traget**2) / np.sum(np.exp(-(ds**2)))\n",
    "    return p_traget"
   ]
  },
  {
   "cell_type": "code",
   "execution_count": 235,
   "id": "muslim-library",
   "metadata": {},
   "outputs": [
    {
     "data": {
      "text/plain": [
       "(0.42231879825151825, 0.42231879825151825, 0.15536240349696354)"
      ]
     },
     "execution_count": 235,
     "metadata": {},
     "output_type": "execute_result"
    }
   ],
   "source": [
    "p12 = p_finder(d12, [d12,d13,d23])\n",
    "p13 = p_finder(d13, [d12,d13,d23])\n",
    "p23 = p_finder(d23, [d12,d13,d23])\n",
    "p12,p13,p23"
   ]
  },
  {
   "cell_type": "code",
   "execution_count": 236,
   "id": "unlimited-burlington",
   "metadata": {},
   "outputs": [],
   "source": [
    "def p_finder2(traget, ds):\n",
    "    ds = np.array(ds)\n",
    "    p_traget = (1/(1+traget**2)) / np.sum(1/(1+ds**2))\n",
    "    return p_traget"
   ]
  },
  {
   "cell_type": "code",
   "execution_count": 240,
   "id": "crazy-advance",
   "metadata": {},
   "outputs": [
    {
     "name": "stdout",
     "output_type": "stream",
     "text": [
      "1.157\n",
      "1.0242343445917418e-08\n",
      "1.1571\n",
      "7.96360893501075e-09\n",
      "1.1572\n",
      "5.971528694106738e-09\n",
      "1.1573\n",
      "4.265957624225347e-09\n",
      "1.1574\n",
      "2.846750887211709e-09\n",
      "1.1575\n",
      "1.7137632936328371e-09\n",
      "1.1576\n",
      "8.668499666735836e-10\n",
      "1.1577\n",
      "3.058660188343267e-10\n",
      "1.1578\n",
      "3.066673947677126e-11\n",
      "1.1579\n",
      "4.1107466567066636e-11\n",
      "1.158\n",
      "3.3704308333156005e-10\n",
      "1.1581\n",
      "9.183295801076243e-10\n",
      "1.1582\n",
      "1.7848218953744129e-09\n",
      "1.1582999999999999\n",
      "2.9363760230158254e-09\n",
      "1.1583999999999999\n",
      "4.372847067844569e-09\n",
      "1.1584999999999999\n",
      "6.0940910866198e-09\n",
      "1.1585999999999999\n",
      "8.099963162968237e-09\n",
      "1.1586999999999998\n",
      "1.039031992968565e-08\n",
      "1.1587999999999998\n",
      "1.296501653334347e-08\n",
      "1.1588999999999998\n",
      "1.5823909082268218e-08\n",
      "1.1589999999999998\n",
      "1.8966853570823216e-08\n"
     ]
    }
   ],
   "source": [
    "c=0\n",
    "for _d12 in np.arange(1.157,1.159, 0.0001):\n",
    "    _d13 = _d12\n",
    "    _d23 = _d12*2\n",
    "    q12 = p_finder2(_d12, [_d12,_d13,_d23])\n",
    "    q23 = p_finder2(_d23, [_d12,_d13,_d23])\n",
    "    print(_d12)\n",
    "    print(2*p12*np.log(p12/q12) + p23*np.log(p23/q23))"
   ]
  },
  {
   "cell_type": "code",
   "execution_count": 182,
   "id": "juvenile-reverse",
   "metadata": {},
   "outputs": [],
   "source": [
    "q12 = p_finder(_d12, [_d12,_d13,_d23])\n",
    "q23 = p_finder(_d23, [_d12,_d13,_d23])"
   ]
  },
  {
   "cell_type": "code",
   "execution_count": 183,
   "id": "healthy-precipitation",
   "metadata": {},
   "outputs": [
    {
     "data": {
      "text/plain": [
       "(0.40679038757564956, 0.18641922484870083)"
      ]
     },
     "execution_count": 183,
     "metadata": {},
     "output_type": "execute_result"
    }
   ],
   "source": [
    "q12, q23"
   ]
  },
  {
   "cell_type": "code",
   "execution_count": 184,
   "id": "historic-brook",
   "metadata": {},
   "outputs": [
    {
     "data": {
      "text/plain": [
       "0.03164218561047372"
      ]
     },
     "execution_count": 184,
     "metadata": {},
     "output_type": "execute_result"
    }
   ],
   "source": [
    "2*p12*np.log(p12/q12)"
   ]
  },
  {
   "cell_type": "code",
   "execution_count": 185,
   "id": "accomplished-exposure",
   "metadata": {},
   "outputs": [
    {
     "data": {
      "text/plain": [
       "-0.02831286526837094"
      ]
     },
     "execution_count": 185,
     "metadata": {},
     "output_type": "execute_result"
    }
   ],
   "source": [
    "p23*np.log(p23/q23)"
   ]
  },
  {
   "cell_type": "code",
   "execution_count": 186,
   "id": "afraid-deposit",
   "metadata": {},
   "outputs": [
    {
     "name": "stdout",
     "output_type": "stream",
     "text": [
      "0.003329320342102784\n"
     ]
    }
   ],
   "source": [
    "print(2*p12*np.log(p12/q12) + p23*np.log(p23/q23))"
   ]
  },
  {
   "cell_type": "code",
   "execution_count": 190,
   "id": "adverse-engineer",
   "metadata": {},
   "outputs": [
    {
     "data": {
      "text/plain": [
       "array([0.48 , 0.481, 0.482, 0.483, 0.484, 0.485, 0.486, 0.487, 0.488,\n",
       "       0.489, 0.49 , 0.491, 0.492, 0.493, 0.494, 0.495, 0.496, 0.497,\n",
       "       0.498, 0.499, 0.5  , 0.501, 0.502, 0.503, 0.504, 0.505, 0.506,\n",
       "       0.507, 0.508, 0.509, 0.51 , 0.511, 0.512, 0.513, 0.514, 0.515,\n",
       "       0.516, 0.517, 0.518, 0.519, 0.52 , 0.521, 0.522, 0.523, 0.524,\n",
       "       0.525, 0.526, 0.527, 0.528, 0.529, 0.53 , 0.531, 0.532, 0.533,\n",
       "       0.534, 0.535, 0.536, 0.537, 0.538, 0.539, 0.54 , 0.541, 0.542,\n",
       "       0.543, 0.544, 0.545, 0.546, 0.547, 0.548, 0.549, 0.55 , 0.551,\n",
       "       0.552, 0.553, 0.554, 0.555, 0.556, 0.557, 0.558, 0.559, 0.56 ,\n",
       "       0.561, 0.562, 0.563, 0.564, 0.565, 0.566, 0.567, 0.568, 0.569,\n",
       "       0.57 , 0.571, 0.572, 0.573, 0.574, 0.575, 0.576, 0.577, 0.578,\n",
       "       0.579, 0.58 , 0.581, 0.582, 0.583, 0.584, 0.585, 0.586, 0.587,\n",
       "       0.588, 0.589, 0.59 , 0.591, 0.592, 0.593, 0.594, 0.595, 0.596,\n",
       "       0.597, 0.598, 0.599])"
      ]
     },
     "execution_count": 190,
     "metadata": {},
     "output_type": "execute_result"
    }
   ],
   "source": [
    "np.arange(0.48,0.6, 0.001)"
   ]
  },
  {
   "cell_type": "code",
   "execution_count": 241,
   "id": "relative-keeping",
   "metadata": {},
   "outputs": [
    {
     "data": {
      "text/plain": [
       "0.14450000000000002"
      ]
     },
     "execution_count": 241,
     "metadata": {},
     "output_type": "execute_result"
    }
   ],
   "source": [
    "0.05*0.99 + 0.95*0.1"
   ]
  },
  {
   "cell_type": "code",
   "execution_count": 242,
   "id": "pregnant-jacket",
   "metadata": {},
   "outputs": [
    {
     "data": {
      "text/plain": [
       "0.34256055363321797"
      ]
     },
     "execution_count": 242,
     "metadata": {},
     "output_type": "execute_result"
    }
   ],
   "source": [
    "0.05*0.99 / (0.05*0.99 + 0.95*0.1)"
   ]
  },
  {
   "cell_type": "code",
   "execution_count": null,
   "id": "rising-verse",
   "metadata": {},
   "outputs": [],
   "source": []
  }
 ],
 "metadata": {
  "kernelspec": {
   "display_name": "Python 3",
   "language": "python",
   "name": "python3"
  },
  "language_info": {
   "codemirror_mode": {
    "name": "ipython",
    "version": 3
   },
   "file_extension": ".py",
   "mimetype": "text/x-python",
   "name": "python",
   "nbconvert_exporter": "python",
   "pygments_lexer": "ipython3",
   "version": "3.8.8"
  }
 },
 "nbformat": 4,
 "nbformat_minor": 5
}
