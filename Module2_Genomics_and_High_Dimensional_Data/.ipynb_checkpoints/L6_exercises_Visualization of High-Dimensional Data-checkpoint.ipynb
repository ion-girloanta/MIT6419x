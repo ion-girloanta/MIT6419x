{
 "cells": [
  {
   "cell_type": "markdown",
   "id": "robust-basement",
   "metadata": {},
   "source": [
    "## L6"
   ]
  },
  {
   "cell_type": "code",
   "execution_count": 1,
   "id": "demanding-toyota",
   "metadata": {},
   "outputs": [],
   "source": [
    "import numpy as np\n",
    "import matplotlib.pyplot as plt\n",
    "import seaborn as sns"
   ]
  },
  {
   "cell_type": "markdown",
   "id": "compliant-armenia",
   "metadata": {},
   "source": [
    "### 5. Review: Empirical Mean and Covariance Matrix of a Vector Data Set I"
   ]
  },
  {
   "cell_type": "code",
   "execution_count": 2,
   "id": "continent-architecture",
   "metadata": {},
   "outputs": [
    {
     "data": {
      "text/plain": [
       "array([[8, 4, 7],\n",
       "       [2, 8, 1],\n",
       "       [3, 1, 1],\n",
       "       [9, 7, 4]])"
      ]
     },
     "execution_count": 2,
     "metadata": {},
     "output_type": "execute_result"
    }
   ],
   "source": [
    "# The Sample Covariance for a Data Set of Vectors\n",
    "# empirical covariance matrix or sample covariance matrix\n",
    "x1 = np.array([8,4,7])\n",
    "x2 = np.array([2,8,1])\n",
    "x3 = np.array([3,1,1])\n",
    "x4 = np.array([9,7,4])\n",
    "\n",
    "X = np.vstack([x1,x2,x3,x4])\n",
    "X"
   ]
  },
  {
   "cell_type": "code",
   "execution_count": 3,
   "id": "stopped-pound",
   "metadata": {},
   "outputs": [
    {
     "data": {
      "text/plain": [
       "(array([5.5 , 5.  , 3.25]),\n",
       " array([[30.25  , 27.5   , 17.875 ],\n",
       "        [27.5   , 25.    , 16.25  ],\n",
       "        [17.875 , 16.25  , 10.5625]]))"
      ]
     },
     "execution_count": 3,
     "metadata": {},
     "output_type": "execute_result"
    }
   ],
   "source": [
    "bar_X = np.mean(X, axis=0)\n",
    "bar_X, np.outer(bar_X, bar_X)"
   ]
  },
  {
   "cell_type": "code",
   "execution_count": 4,
   "id": "purple-graphic",
   "metadata": {},
   "outputs": [
    {
     "name": "stdout",
     "output_type": "stream",
     "text": [
      "sample covariance matrix= \n",
      " [[9.25   1.     6.375 ]\n",
      " [1.     7.5    0.    ]\n",
      " [6.375  0.     6.1875]], S == S_np? True\n"
     ]
    }
   ],
   "source": [
    "S = (np.mean([np.outer(x1, x1),np.outer(x2, x2),np.outer(x3, x3),np.outer(x4, x4)],axis=0))-np.outer(bar_X, bar_X)\n",
    "# np.cov is feature wise cov if we want sample wise, DATA.T\n",
    "S_np=np.cov(X.T,bias=True)\n",
    "\n",
    "print(f'sample covariance matrix= \\n {S}, S == S_np? {(S==S_np).all()}')"
   ]
  },
  {
   "cell_type": "code",
   "execution_count": 5,
   "id": "italian-remains",
   "metadata": {},
   "outputs": [],
   "source": [
    "def cov_matrix(X):\n",
    "    n=X.shape[0]\n",
    "    S = 1/n*(X.T@(np.identity(X.shape[0])-1/n*np.ones((n,n)))@X)\n",
    "    return np.squeeze(S)"
   ]
  },
  {
   "cell_type": "code",
   "execution_count": 6,
   "id": "changing-favorite",
   "metadata": {},
   "outputs": [
    {
     "name": "stdout",
     "output_type": "stream",
     "text": [
      "sample covariance matrix= \n",
      " [[9.25   1.     6.375 ]\n",
      " [1.     7.5    0.    ]\n",
      " [6.375  0.     6.1875]], S == S_np? True\n"
     ]
    }
   ],
   "source": [
    "# other solution\n",
    "n=X.shape[0]\n",
    "S = cov_matrix(X)\n",
    "print(f'sample covariance matrix= \\n {S}, S == S_np? {(S==S_np).all()}')"
   ]
  },
  {
   "cell_type": "markdown",
   "id": "developed-wireless",
   "metadata": {},
   "source": [
    "### 6. Empirical Mean and Covariance Matrix of a Vector Data Set II"
   ]
  },
  {
   "cell_type": "code",
   "execution_count": 7,
   "id": "mysterious-philosophy",
   "metadata": {},
   "outputs": [
    {
     "data": {
      "text/plain": [
       "array([[ 0.66666667, -0.33333333, -0.33333333],\n",
       "       [-0.33333333,  0.66666667, -0.33333333],\n",
       "       [-0.33333333, -0.33333333,  0.66666667]])"
      ]
     },
     "execution_count": 7,
     "metadata": {},
     "output_type": "execute_result"
    }
   ],
   "source": [
    "# H Orthogonal Projection Matrix\n",
    "n=3\n",
    "H = np.identity(n)-1/n*np.outer(np.ones(n),np.ones(n)) \n",
    "H"
   ]
  },
  {
   "cell_type": "markdown",
   "id": "included-economics",
   "metadata": {},
   "source": [
    "- For any positive integer 𝑘 and any vector $𝐱 \\in \\mathbb{R}^n$, we have $𝐻^k 𝐱= 𝐻𝐱$."
   ]
  },
  {
   "cell_type": "code",
   "execution_count": 8,
   "id": "fancy-storage",
   "metadata": {},
   "outputs": [
    {
     "data": {
      "text/plain": [
       "(array([ 0.11213535, -0.03832701, -0.07380834]),\n",
       " array([ 0.11213535, -0.03832701, -0.07380834]))"
      ]
     },
     "execution_count": 8,
     "metadata": {},
     "output_type": "execute_result"
    }
   ],
   "source": [
    "x = np.random.random(n)\n",
    "H@x, H@H@H@H@H@x"
   ]
  },
  {
   "cell_type": "markdown",
   "id": "objective-satisfaction",
   "metadata": {},
   "source": [
    "- The matrix $𝐻$  is a projection onto the subspace of vectors perpendicular to the vector $\\vec{1} \\in \\mathbb{R}^n$ , which has all of its entries equal to  1 ."
   ]
  },
  {
   "cell_type": "code",
   "execution_count": 9,
   "id": "joined-detector",
   "metadata": {},
   "outputs": [
    {
     "name": "stdout",
     "output_type": "stream",
     "text": [
      "Is Hx dot 1-vector equal to 0(perpendicular to 1-vector)? True\n",
      "Is all feature in HX perpendicular to 1-vector? True\n"
     ]
    }
   ],
   "source": [
    "X = np.random.random((n,n))\n",
    "_1vec = np.ones(n)\n",
    "print('Is Hx dot 1-vector equal to 0(perpendicular to 1-vector)?', np.allclose(0,H@x@_1vec))\n",
    "print('Is all feature in HX perpendicular to 1-vector?', np.allclose(0, np.sum(H@X@_1vec,axis=0)))"
   ]
  },
  {
   "cell_type": "markdown",
   "id": "honey-plane",
   "metadata": {},
   "source": [
    "- The matrix  𝐻 centering all columns(features) in a matrix\n",
    "- The matrix  𝐻  is a projections onto the subspace  ${𝐱:\\frac{1}{𝑛}\\sum\\limits_{i=1}^{n}{x^i}=0}\\subset \\mathbb{R}^n$ . (In other words, this is the set of vectors having coordinate-wise average equal to  0 .)"
   ]
  },
  {
   "cell_type": "code",
   "execution_count": 10,
   "id": "thermal-decimal",
   "metadata": {},
   "outputs": [
    {
     "name": "stdout",
     "output_type": "stream",
     "text": [
      "Is Hx centered? True\n",
      "Is all features in X centered? True\n"
     ]
    }
   ],
   "source": [
    "print('Is Hx centered?',np.allclose(0,np.sum(H@x)))      \n",
    "print('Is all features in X centered?', np.allclose(0,np.sum(H@X, axis=0)))"
   ]
  },
  {
   "cell_type": "markdown",
   "id": "funded-smile",
   "metadata": {},
   "source": [
    "### 7. Measuring the Spread of a Point Cloud"
   ]
  },
  {
   "cell_type": "code",
   "execution_count": 11,
   "id": "relative-candle",
   "metadata": {},
   "outputs": [
    {
     "data": {
      "text/plain": [
       "(array([[1.],\n",
       "        [2.]]),\n",
       " array([[2.2],\n",
       "        [4.4]]),\n",
       " array([[-0.2],\n",
       "        [-0.4]]))"
      ]
     },
     "execution_count": 11,
     "metadata": {},
     "output_type": "execute_result"
    }
   ],
   "source": [
    "# Projection onto a Line\n",
    "u= 1/np.sqrt(5)*np.array([[1,2]]).T\n",
    "x1=np.array([[1,2]]).T\n",
    "x2=np.array([[3,4]]).T\n",
    "x3=np.array([[-1,0]]).T\n",
    "u.T@x1*u, u.T@x2*u, u.T@x3*u"
   ]
  },
  {
   "cell_type": "code",
   "execution_count": 12,
   "id": "genetic-import",
   "metadata": {},
   "outputs": [
    {
     "data": {
      "text/plain": [
       "array(4.8)"
      ]
     },
     "execution_count": 12,
     "metadata": {},
     "output_type": "execute_result"
    }
   ],
   "source": [
    "# Empirical Variance of a Data Set in a Given Direction\n",
    "X = np.vstack([u.T@x1, u.T@x2, u.T@x3])\n",
    "S = cov_matrix(X)\n",
    "S"
   ]
  },
  {
   "cell_type": "code",
   "execution_count": 13,
   "id": "offshore-debate",
   "metadata": {},
   "outputs": [
    {
     "data": {
      "text/plain": [
       "array([[4.8]])"
      ]
     },
     "execution_count": 13,
     "metadata": {},
     "output_type": "execute_result"
    }
   ],
   "source": [
    "# 𝐮^T𝑆𝐮\n",
    "u.T*S@u"
   ]
  },
  {
   "cell_type": "markdown",
   "id": "desirable-recipe",
   "metadata": {},
   "source": [
    "#### Variance of a Random Vector in a Given Direction\n",
    "- Let $x \\sim \\mathcal{N}(0,\\Sigma)$, $x \\in \\mathbb{R}^2$, $\\Sigma \\in \\mathbb{R}^{2\\times 2}$\n",
    "$$\\Sigma =E[XX^T]= \\begin{bmatrix}E[(X^1)^2]&E[X^1 X^2]\\\\ E[X^1 X^2] & E[(X^2)^2]\\end{bmatrix}=\\begin{bmatrix}Var(X^1)&Var(X^1 X^2) \\\\ Var(X^1 X^2)&Var(X^2)\\end{bmatrix}$$\n",
    "- $Var(X^1 + X^2)=E[(X^1)^2] + E[(X^2)^2]+2*E[X^1 X^2]=\\begin{bmatrix}1&1\\end{bmatrix}\\Sigma\\begin{bmatrix}1\\\\1\\end{bmatrix}$"
   ]
  },
  {
   "cell_type": "markdown",
   "id": "grave-escape",
   "metadata": {},
   "source": [
    "#### A Preview of Principal Component Analysis\n",
    "- Let $X_1,\\dots,X_n \\in \\mathbb{R}^d$, $\\mathbb{X} = \\begin{bmatrix}-X_1^T- \\\\ \\vdots \\\\ -X_n^T-\\end{bmatrix}$\n",
    "- ***Feature Centered*** empirical covariance matrix \n",
    "    - $S= \\frac{1}{n} \\mathbb{X}^T (I_n-\\frac{1}{n} 1 1^T) \\mathbb{X}$"
   ]
  },
  {
   "cell_type": "markdown",
   "id": "prompt-burner",
   "metadata": {},
   "source": [
    "### 8. The Decomposition Theorem for Symmetric Matrices"
   ]
  },
  {
   "cell_type": "markdown",
   "id": "equal-nirvana",
   "metadata": {},
   "source": [
    "#### Orthogonal Matrices\n",
    "- Marix $P \\in \\mathbb{R}^{d\\times d}$ is orthogonal matrix/rotation matrix\n",
    "    - if $PP^T=P^TP=I_d$\n",
    "- Let $P=\\begin{bmatrix}v_1&v_2&\\dots&v_d \\end{bmatrix}$\n",
    "    - $v_i.T v_i = \\sum_{l=1}^d v_{i,l}^2 = 1$\n",
    "    - $v_i.T v_j = \\sum_{l=1}^d v_{i,l}*v_{j,l} = 0$\n",
    "- $det(P)=\\pm1$"
   ]
  },
  {
   "cell_type": "markdown",
   "id": "everyday-frank",
   "metadata": {},
   "source": [
    "#### Eigenvectors and Eigenvalues of a Decomposition of a Symmetric Matrix\n",
    "- $A \\in \\mathbb{R}^{d\\times d}$\n",
    "$$\\begin{align}  A &= PDP^T \\\\\n",
    "    &= \\begin{bmatrix}v_1&v_2&\\dots&v_d\\end{bmatrix} \\begin{bmatrix} \\lambda_1&0&\\dots&0 \\\\ 0&\\lambda_2&\\dots&0 \\\\ \\vdots&\\vdots&\\ddots&\\vdots \\\\ 0&0&\\dots&\\lambda_d\\end{bmatrix}\\begin{bmatrix}-v_1^T- \\\\ -v_2^T- \\\\ \\vdots \\\\ -v_d^T-\\end{bmatrix} \\\\\n",
    "    &= \\lambda_1 v_1\\otimes v_1^T + \\lambda_2 v_2 \\otimes v_2^T + \\dots + \\lambda_d v_d \\otimes v_d^T\n",
    "    \\end{align}$$\n",
    "    \n",
    "- $P \\in \\mathbb{R}^{d\\times d} s.t. P \\text{ is orthogonal}$\n",
    "- $D \\text{ is diagonal}$\n",
    "    - $D = diag(\\lambda_1, \\lambda_2, \\dots, \\lambda_d)$\n",
    "    - $\\lambda \\geq 0$\n",
    "$$\\begin{align}\n",
    "    Av_1 &= (\\lambda_1 v_1\\otimes v_1^T + \\lambda_2 v_2 \\otimes v_2^T + \\dots + \\lambda_d v_d \\otimes v_d^T) v_1\\\\\n",
    "    &= \\lambda_1 \n",
    "    \\begin{bmatrix}v_{1,1}^2     & v_{1,1}v_{1,2}& \\dots &v_{1,1}v_{1,d}\\\\\n",
    "                   v_{1,2}v_{1,1}& v_{1,2}^2     & \\dots &v_{1,2}v_{1,d}\\\\\n",
    "                    \\vdots       &\\vdots         &\\vdots &\\vdots \\\\\n",
    "                   v_{1,d}v_{1,1}&v_{1,d}v_{1,2} & \\dots &v_{1,d}^2\\end{bmatrix} \n",
    "    \\begin{bmatrix}v_{1,1}\\\\ v_{1,2}\\\\ \\vdots \\\\ v_{1,d}\\end{bmatrix} +\n",
    "    \\lambda_2 \n",
    "    \\begin{bmatrix}v_{2,1}^2     & v_{2,1}v_{2,2}& \\dots &v_{2,1}v_{2,d}\\\\\n",
    "                   v_{2,2}v_{2,1}& v_{2,2}^2     & \\dots &v_{2,2}v_{2,d}\\\\\n",
    "                    \\vdots       &\\vdots         &\\vdots &\\vdots \\\\\n",
    "                   v_{2,d}v_{2,1}&v_{2,d}v_{2,2} & \\dots &v_{2,d}^2\\end{bmatrix} \n",
    "    \\begin{bmatrix}v_{1,1}\\\\ v_{1,2}\\\\ \\vdots \\\\ v_{1,d}\\end{bmatrix}\\\\\n",
    "    &= \\lambda_1 \n",
    "    \\begin{bmatrix}v_{1,1}*(v_{1,1}^2+v_{1,2}^2+\\dots +v_{1,d}^2) = v_{1,1}*\\sum_{l=1} v_{1,l}^2 = v_{1,1}*1\\\\\n",
    "                   v_{1,2}*(v_{1,1}^2+v_{1,2}^2+\\dots +v_{1,d}^2) = v_{1,2}*\\sum_{l=1} v_{1,l}^2 = v_{1,2}*1\\\\\n",
    "                    \\vdots\\\\\n",
    "                   v_{1,d}*(v_{1,1}^2+v_{1,2}^2+\\dots +v_{1,d}^2) = v_{1,d}*\\sum_{l=1} v_{1,l}^2 = v_{1,d}*1\\\\\\end{bmatrix} + \n",
    "   \\lambda_2\n",
    "   \\begin{bmatrix}v_{2,1}*\\sum_{l=1}^d v_{i,l}*v_{j,l} = 0\\\\\n",
    "                  v_{2,2}*\\sum_{l=1}^d v_{i,l}*v_{j,l} = 0\\\\\n",
    "                    \\vdots\\\\\n",
    "                   v_{2,d}*\\sum_{l=1}^d v_{i,l}*v_{j,l} = 0\\\\\n",
    "                   \\end{bmatrix}\\\\\n",
    "    &= \\lambda_1 v_1\n",
    "   \\end{align}$$"
   ]
  },
  {
   "cell_type": "code",
   "execution_count": 14,
   "id": "simplified-illness",
   "metadata": {},
   "outputs": [
    {
     "name": "stdout",
     "output_type": "stream",
     "text": [
      "P is orthogonal? True\n"
     ]
    }
   ],
   "source": [
    "from scipy.stats import ortho_group\n",
    "d = 20\n",
    "P = ortho_group.rvs(dim=d)\n",
    "lambdas = np.random.random(d)\n",
    "D = np.diag(lambdas)\n",
    "print(f'P is orthogonal? {np.allclose(P@P.T, P.T@P, np.eye(d))}')\n",
    "# print('-----')\n",
    "# print(f'P = \\n {P}')\n",
    "# print('-----')\n",
    "# print(f'D = \\n {D}')"
   ]
  },
  {
   "cell_type": "code",
   "execution_count": 15,
   "id": "unavailable-container",
   "metadata": {},
   "outputs": [
    {
     "name": "stdout",
     "output_type": "stream",
     "text": [
      "Is A@v_k == lambdas[:k] * v[:k] == outer_sum ?\n",
      " 1\n"
     ]
    }
   ],
   "source": [
    "A = P@D@P.T\n",
    "# P is A's e-vectors matrix, D is A's e-values matrix\n",
    "# first k e-vectors\n",
    "k = 2\n",
    "v_k = P[:,:k]\n",
    "outer_sum=np.zeros(shape=v_k.shape)\n",
    "for kk in range(k):\n",
    "    outer_sum += (np.outer(P[:,kk],P[:,kk])*lambdas[kk])@v_k\n",
    "# print(f'Av[:k] =\\n{A@v_k}')\n",
    "# print('-----')\n",
    "# print(f'lambdas[:k] * v[:k] =\\n {lambdas[:k]*v_k}')\n",
    "# print('-----')\n",
    "# print(f'( sum(lambda_kk*outer(v_kk, v_kk)) )@v_k = \\n {outer_sum}')\n",
    "\n",
    "print('Is A@v_k == lambdas[:k] * v[:k] == outer_sum ?\\n', (np.allclose(A@v_k, lambdas[:k]*v_k)*np.allclose(A@v_k, outer_sum)))"
   ]
  },
  {
   "cell_type": "code",
   "execution_count": 16,
   "id": "external-temperature",
   "metadata": {},
   "outputs": [
    {
     "name": "stdout",
     "output_type": "stream",
     "text": [
      "Is A symmetric = \n",
      " True\n",
      "-----\n",
      "all e-values >= 0 ? True\n",
      "-----\n",
      "all e-values > 0 ? True\n"
     ]
    }
   ],
   "source": [
    "# A is symmetric\n",
    "print(f'Is A symmetric = \\n {np.allclose(A,A.T)}')\n",
    "print('-----')\n",
    "# A is positive semidefinite\n",
    "## all lambda(e-values) >=0 \n",
    "print(f'all e-values >= 0 ? {(np.diag(D)>=0).all()}')\n",
    "print('-----')\n",
    "# A is positive definite\n",
    "## all e-values = lambda >0 \n",
    "print(f'all e-values > 0 ? {(np.diag(D>0)).all()}')"
   ]
  },
  {
   "cell_type": "markdown",
   "id": "trying-attendance",
   "metadata": {},
   "source": [
    "#### Concept Check: The Decomposition Theorem for Symmetric Matrices\n",
    "- P\n",
    "    - The columns of  𝑃  are unit vectors.\n",
    "    - The columns of  𝑃  are eigenvectors of  𝐴 .\n",
    "    - The dot product of any two different columns of  𝑃  is  0 .\n",
    "    - The rows of  𝑃  are unit vectors.\n",
    "- D\n",
    "    - The diagonal entries of  𝐷  are the eigenvalues of  𝐴 .\n",
    "    - The first diagonal element of  𝐷  (i.e. in the top left corner) is the eigenvalue corresponding to the eigenvector which is in the first (i.e. leftmost) column of  𝑃 .\n",
    "    - It is possible for any of the diagonal entries of  𝐷  to be zero.\n",
    "    - It is possible for all of the diagonal entries of  𝐷  to be the same\n",
    "\n",
    "#### Concept Check: Properties of Covariance Matrices\n",
    "- Let  Σ  denote a covariance matrix for some random vector  𝑋∈ℝ𝑑 . (Assume that  $E[||X||_2^2]<\\infty$ .)\n",
    "- Σ definitely\n",
    "    - Symmetric\n",
    "    - Positive Semidefinite"
   ]
  },
  {
   "cell_type": "markdown",
   "id": "proprietary-consequence",
   "metadata": {},
   "source": [
    "### 9. Principal Component Analysis (PCA)"
   ]
  },
  {
   "cell_type": "markdown",
   "id": "protected-layer",
   "metadata": {},
   "source": [
    "#### Centering Data\n",
    "- Why using centered data? for LESS computational cost, the result is the same\n",
    "    1. Let dataset $\\mathbb{X} \\in \\mathbb{R}^{n \\times d}$, feature vector $X_{1 \\leq i \\leq d} \\in \\mathbb{R}^n$\n",
    "        - $\\mathbb{X} = \\begin{bmatrix} X_1 & X_2 & \\dots & X_d \\end{bmatrix}$\n",
    "    2. Covariance(between each feature) matrix of X:\n",
    "        - $S = \\begin{bmatrix} Cov(X_1, X_1) & Cov(X_1, X_2) & \\dots & Cov(X_1, X_d) \\\\\n",
    "                               Cov(X_2, X_1) & Cov(X_2, X_2) & \\dots & Cov(X_2, X_d) \\\\\n",
    "                               \\vdots        & \\vdots        & \\ddots& \\vdots        \\\\\n",
    "                               Cov(X_d, X_1) & Cov(X_d, X_2) & \\dots & Cov(X_d, X_d)\n",
    "               \\end{bmatrix}\n",
    "             = \\begin{bmatrix} E[X_1^T X_1]-E[X_1]E[X_1] & E[X_1^T X_2]-E[X_1]E[X_2] & \\dots & E[X_1^T X_d]-E[X_1]E[X_d] \\\\\n",
    "                               E[X_2^T X_1]-E[X_2]E[X_1] & E[X_2^T X_2]-E[X_2]E[X_2] & \\dots & E[X_2^T X_d]-E[X_2]E[X_d] \\\\\n",
    "                               \\vdots                    & \\vdots                    & \\ddots& \\vdots                    \\\\\n",
    "                               E[X_d^T X_1]-E[X_d]E[X_1] & E[X_d^T X_2]-E[X_d]E[X_2] & \\dots & E[X_d^T X_d]-E[X_d]E[X_d] \\\\\n",
    "               \\end{bmatrix}$\n",
    "    3. If data is centered, $0 = E[X_1] = E[X_2] = \\dots = E[X_d]$\n",
    "        - $S = \\begin{bmatrix} E[X_1^T X_1] & E[X_1^T X_2] & \\dots & E[X_1^T X_d] \\\\\n",
    "                               E[X_2^T X_1] & E[X_2^T X_2] & \\dots & E[X_2^T X_d] \\\\\n",
    "                               \\vdots       & \\vdots       & \\ddots& \\vdots       \\\\\n",
    "                               E[X_d^T X_1] & E[X_d^T X_2] & \\dots & E[X_d^T X_d] \\\\\n",
    "               \\end{bmatrix}$"
   ]
  },
  {
   "cell_type": "code",
   "execution_count": 17,
   "id": "indie-glory",
   "metadata": {},
   "outputs": [
    {
     "name": "stdout",
     "output_type": "stream",
     "text": [
      "original vector =\n",
      " [0.03123444 0.54400361 0.44931098]\n",
      "-----\n",
      "expectation of x =\n",
      " 0.3415163418226597\n",
      "-----\n",
      "centered data =\n",
      " [-0.3102819   0.20248727  0.10779463]\n",
      "-----\n",
      "compare with using H, has same result?  True\n"
     ]
    }
   ],
   "source": [
    "n=3\n",
    "x = np.random.random(n)\n",
    "H = np.identity(n)-1/n*np.outer(np.ones(n),np.ones(n)) \n",
    "print(f'original vector =\\n {x}')\n",
    "print('-----')\n",
    "print(f'expectation of x =\\n {np.mean(x)}')\n",
    "print('-----')\n",
    "print(f'centered data =\\n {x-np.mean(x)}')\n",
    "print('-----')\n",
    "print('compare with using H, has same result? ', np.allclose(H@x, x-np.mean(x, axis=0)))"
   ]
  },
  {
   "cell_type": "code",
   "execution_count": 18,
   "id": "running-explanation",
   "metadata": {},
   "outputs": [
    {
     "name": "stdout",
     "output_type": "stream",
     "text": [
      "original dataset =\n",
      " [[0.15430676 0.86491224 0.03367474 0.8072289 ]\n",
      " [0.5207967  0.65733124 0.69992944 0.42691473]\n",
      " [0.85930624 0.3002285  0.61577759 0.95626665]]\n",
      "-----\n",
      "expectation of each feature = [0.5114699  0.60749066 0.44979393 0.73013676]\n",
      "-----\n",
      "feature centered data set =\n",
      " [[-0.35716314  0.25742158 -0.41611918  0.07709214]\n",
      " [ 0.0093268   0.04984058  0.25013551 -0.30322203]\n",
      " [ 0.34783634 -0.30726217  0.16598367  0.22612989]]\n",
      "-----\n",
      "compare with using H, has same result?  True\n"
     ]
    }
   ],
   "source": [
    "X = np.random.random((n,n+1))\n",
    "print(f'original dataset =\\n {X}')\n",
    "print('-----')\n",
    "print(f'expectation of each feature = {np.mean(X, axis=0)}')\n",
    "print('-----')\n",
    "print(f'feature centered data set =\\n {X-np.mean(X, axis=0)}')\n",
    "print('-----')\n",
    "print('compare with using H, has same result? ', np.allclose(H@X, X-np.mean(X, axis=0)))"
   ]
  },
  {
   "cell_type": "code",
   "execution_count": 19,
   "id": "homeless-orange",
   "metadata": {},
   "outputs": [],
   "source": [
    "# sns.scatterplot(x=X[:,0], y=X[:,1])\n",
    "# sns.scatterplot(x=H@X[:,0], y=H@X[:,1])\n",
    "# plt.show()"
   ]
  },
  {
   "cell_type": "markdown",
   "id": "latest-european",
   "metadata": {},
   "source": [
    "#### Conceptual Example I: 2 data points in 2D"
   ]
  },
  {
   "cell_type": "code",
   "execution_count": 20,
   "id": "conditional-symposium",
   "metadata": {},
   "outputs": [
    {
     "data": {
      "text/plain": [
       "array([[0., 0.],\n",
       "       [0., 1.]])"
      ]
     },
     "execution_count": 20,
     "metadata": {},
     "output_type": "execute_result"
    }
   ],
   "source": [
    "X = np.array([[0,1],[0,-1]])\n",
    "S = cov_matrix(X)\n",
    "S"
   ]
  },
  {
   "cell_type": "code",
   "execution_count": 21,
   "id": "personal-stanley",
   "metadata": {},
   "outputs": [
    {
     "data": {
      "text/plain": [
       "((array([0., 1.]),\n",
       "  array([[1., 0.],\n",
       "         [0., 1.]])),\n",
       " (array([ 0., -1.]),\n",
       "  array([[ 1.        , -0.70710678],\n",
       "         [ 0.        ,  0.70710678]])))"
      ]
     },
     "execution_count": 21,
     "metadata": {},
     "output_type": "execute_result"
    }
   ],
   "source": [
    "np.linalg.eig(S), np.linalg.eig(X)"
   ]
  },
  {
   "cell_type": "markdown",
   "id": "consistent-resistance",
   "metadata": {},
   "source": [
    "#### 10. Conceptual Examples in 2 dimensions"
   ]
  },
  {
   "cell_type": "code",
   "execution_count": 22,
   "id": "unlimited-flush",
   "metadata": {},
   "outputs": [
    {
     "name": "stdout",
     "output_type": "stream",
     "text": [
      "Original ds = \n",
      "[[ 1.   0.5]\n",
      " [-1.  -0.5]]\n",
      "-----\n",
      "covariance matrix XS = \n",
      "[[1.   0.5 ]\n",
      " [0.5  0.25]]\n",
      "-----\n",
      "double check S, True\n",
      "-----\n",
      "e_values_matrix = \n",
      " [[1.25 0.  ]\n",
      " [0.   0.  ]]\n",
      "-----\n",
      "e_vectors_matrix = \n",
      " [[ 0.89442719 -0.4472136 ]\n",
      " [ 0.4472136   0.89442719]]\n",
      "-----\n",
      "PC1 e-value, e-vector = \n",
      "1.25, [0.89442719 0.4472136 ]\n",
      "-----\n",
      "x_1 projected on PC1 = \n",
      " 1.118033988749895\n",
      "x_2 projected on PC1 = \n",
      " -1.118033988749895\n",
      "-----\n",
      "Projected ds = \n",
      " [[ 1.11803399]\n",
      " [-1.11803399]]\n",
      "-----\n",
      "Projected covariance matrix YS = \n",
      " 1.2500000000000002\n",
      "-----\n"
     ]
    }
   ],
   "source": [
    "𝐱_1 \t = \t np.array((1,1/2))\n",
    "𝐱_2 \t = \t np.array((-1,-1/2))\n",
    "X=np.vstack([x_1,x_2])\n",
    "print(f'Original ds = \\n{X}')\n",
    "print('-----')\n",
    "# covariance matrix\n",
    "XS =np.cov(X.T,bias=True)\n",
    "print(f'covariance matrix XS = \\n{XS}')\n",
    "print('-----')\n",
    "print(f'double check S, {np.allclose(XS, cov_matrix(X))}')\n",
    "print('-----')\n",
    "e_values, e_vectors = np.linalg.eig(XS)\n",
    "e_values_matrix = np.diag(e_values)\n",
    "print(f'e_values_matrix = \\n {e_values_matrix}')\n",
    "print('-----')\n",
    "print(f'e_vectors_matrix = \\n {e_vectors}')\n",
    "print('-----')\n",
    "PC1_value_ind = np.argmax(e_values)\n",
    "PC1_value = e_values[PC1_value_ind]\n",
    "PC1_vector = e_vectors[:,PC1_value_ind]\n",
    "print(f'PC1 e-value, e-vector = \\n{PC1_value}, {PC1_vector}')\n",
    "print('-----')\n",
    "x1_on_PC1 = PC1_vector@x_1\n",
    "x2_on_PC1 = PC1_vector@x_2\n",
    "print(f'x_1 projected on PC1 = \\n {x1_on_PC1}')\n",
    "print(f'x_2 projected on PC1 = \\n {x2_on_PC1}')\n",
    "print('-----')\n",
    "Y = np.vstack([x1_on_PC1, x2_on_PC1])\n",
    "print(f'Projected ds = \\n {Y}')\n",
    "print('-----')\n",
    "YS = cov_matrix(Y)\n",
    "print(f'Projected covariance matrix YS = \\n {YS}')\n",
    "print('-----')\n",
    "# np.array(np.dot(e_vectors[:,1],x_1))"
   ]
  },
  {
   "cell_type": "markdown",
   "id": "married-tooth",
   "metadata": {},
   "source": [
    "#### 11. Conceptual Examples in 2 dimensions"
   ]
  },
  {
   "cell_type": "code",
   "execution_count": 23,
   "id": "nonprofit-easter",
   "metadata": {},
   "outputs": [
    {
     "name": "stdout",
     "output_type": "stream",
     "text": [
      "Original ds = \n",
      "[[ 0  2]\n",
      " [ 1 -1]\n",
      " [-1 -1]]\n",
      "-----\n",
      "covariance matrix XS = \n",
      "[[0.66666667 0.        ]\n",
      " [0.         2.        ]]\n",
      "-----\n",
      "double check S, True\n",
      "-----\n",
      "e_values_matrix = \n",
      " [[0.66666667 0.        ]\n",
      " [0.         2.        ]]\n",
      "-----\n",
      "e_vectors_matrix = \n",
      " [[1. 0.]\n",
      " [0. 1.]]\n",
      "-----\n",
      "PC1 e-value, e-vector = \n",
      "2.0, [0. 1.]\n",
      "-----\n",
      "x_1 projected on PC1 = \n",
      " 2.0\n",
      "x_2 projected on PC1 = \n",
      " -1.0\n",
      "x_3 projected on PC1 = \n",
      " -1.0\n",
      "-----\n",
      "Projected ds = \n",
      " [[ 2.]\n",
      " [-1.]\n",
      " [-1.]]\n",
      "-----\n",
      "Projected covariance matrix YS = \n",
      " 2.0\n"
     ]
    }
   ],
   "source": [
    "𝐱_1 \t = \t np.array((0,2))\n",
    "𝐱_2 \t = \t np.array((1,-1))\n",
    "𝐱_3 \t = \t np.array((-1,-1))\n",
    "X=np.vstack([x_1,x_2,x_3])\n",
    "\n",
    "print(f'Original ds = \\n{X}')\n",
    "print('-----')\n",
    "# covariance matrix\n",
    "XS =np.cov(X.T,bias=True)\n",
    "print(f'covariance matrix XS = \\n{XS}')\n",
    "print('-----')\n",
    "print(f'double check S, {np.allclose(XS, cov_matrix(X))}')\n",
    "print('-----')\n",
    "e_values, e_vectors = np.linalg.eig(XS)\n",
    "e_values_matrix = np.diag(e_values)\n",
    "print(f'e_values_matrix = \\n {e_values_matrix}')\n",
    "print('-----')\n",
    "print(f'e_vectors_matrix = \\n {e_vectors}')\n",
    "print('-----')\n",
    "PC1_value_ind = np.argmax(e_values)\n",
    "PC1_value = e_values[PC1_value_ind]\n",
    "PC1_vector = e_vectors[:,PC1_value_ind]\n",
    "print(f'PC1 e-value, e-vector = \\n{PC1_value}, {PC1_vector}')\n",
    "print('-----')\n",
    "x1_on_PC1 = PC1_vector@x_1\n",
    "x2_on_PC1 = PC1_vector@x_2\n",
    "x3_on_PC1 = PC1_vector@x_3\n",
    "print(f'x_1 projected on PC1 = \\n {x1_on_PC1}')\n",
    "print(f'x_2 projected on PC1 = \\n {x2_on_PC1}')\n",
    "print(f'x_3 projected on PC1 = \\n {x3_on_PC1}')\n",
    "print('-----')\n",
    "Y = np.vstack([x1_on_PC1, x2_on_PC1, x3_on_PC1])\n",
    "print(f'Projected ds = \\n {Y}')\n",
    "print('-----')\n",
    "YS = cov_matrix(Y)\n",
    "print(f'Projected covariance matrix YS = \\n {YS}')"
   ]
  },
  {
   "cell_type": "markdown",
   "id": "veterinary-toilet",
   "metadata": {},
   "source": [
    "#### 12. Conceptual Examples Continued"
   ]
  },
  {
   "cell_type": "code",
   "execution_count": 24,
   "id": "played-ratio",
   "metadata": {},
   "outputs": [
    {
     "name": "stdout",
     "output_type": "stream",
     "text": [
      "Original ds = \n",
      "[[ 0  2]\n",
      " [ 0 -2]\n",
      " [ 1  1]\n",
      " [-1 -1]]\n",
      "-----\n",
      "covariance matrix XS = \n",
      "[[0.5 0.5]\n",
      " [0.5 2.5]]\n",
      "-----\n",
      "double check S, True\n",
      "-----\n",
      "e_values_matrix = \n",
      " [[0.38196601 0.        ]\n",
      " [0.         2.61803399]]\n",
      "-----\n",
      "e_vectors_matrix = \n",
      " [[-0.97324899 -0.22975292]\n",
      " [ 0.22975292 -0.97324899]]\n",
      "-----\n",
      "PC1 e-value, e-vector = \n",
      "2.618033988749895, [-0.22975292 -0.97324899]\n",
      "-----\n",
      "Projected ds = \n",
      " [[-1.94649798]\n",
      " [ 1.94649798]\n",
      " [-1.20300191]\n",
      " [ 1.20300191]]\n",
      "-----\n",
      "Projected covariance matrix YS = \n",
      " 2.6180339887498945\n"
     ]
    }
   ],
   "source": [
    "𝐱_1 \t = \t np.array((0,2))\n",
    "𝐱_2 \t = \t np.array((0,-2))\n",
    "𝐱_3 \t = \t np.array((1,1))\n",
    "𝐱_4 \t = \t np.array((-1,-1))\n",
    "X=np.vstack([x_1,x_2,x_3,x_4])\n",
    "print(f'Original ds = \\n{X}')\n",
    "print('-----')\n",
    "# covariance matrix\n",
    "XS =np.cov(X.T,bias=True)\n",
    "print(f'covariance matrix XS = \\n{XS}')\n",
    "print('-----')\n",
    "print(f'double check S, {np.allclose(XS, cov_matrix(X))}')\n",
    "print('-----')\n",
    "e_values, e_vectors = np.linalg.eig(XS)\n",
    "e_values_matrix = np.diag(e_values)\n",
    "print(f'e_values_matrix = \\n {e_values_matrix}')\n",
    "print('-----')\n",
    "print(f'e_vectors_matrix = \\n {e_vectors}')\n",
    "print('-----')\n",
    "PC1_value_ind = np.argmax(e_values)\n",
    "PC1_value = e_values[PC1_value_ind]\n",
    "PC1_vector = e_vectors[:,PC1_value_ind]\n",
    "print(f'PC1 e-value, e-vector = \\n{PC1_value}, {PC1_vector}')\n",
    "print('-----')\n",
    "x1_on_PC1 = PC1_vector@x_1\n",
    "x2_on_PC1 = PC1_vector@x_2\n",
    "x3_on_PC1 = PC1_vector@x_3\n",
    "x4_on_PC1 = PC1_vector@x_4\n",
    "# print(f'x_1 projected on PC1 = \\n {x1_on_PC1}')\n",
    "# print(f'x_2 projected on PC1 = \\n {x2_on_PC1}')\n",
    "# print(f'x_2 projected on PC1 = \\n {x3_on_PC1}')\n",
    "# print(f'x_2 projected on PC1 = \\n {x4_on_PC1}')\n",
    "# print('-----')\n",
    "Y = np.vstack([x1_on_PC1, x2_on_PC1, x3_on_PC1, x4_on_PC1])\n",
    "print(f'Projected ds = \\n {Y}')\n",
    "print('-----')\n",
    "YS = cov_matrix(Y)\n",
    "print(f'Projected covariance matrix YS = \\n {YS}')"
   ]
  },
  {
   "cell_type": "markdown",
   "id": "tropical-montana",
   "metadata": {},
   "source": [
    "### 13. Covariance versus Correlation\n",
    "\n",
    "- 用 Correlation 來做能夠避免 data 被 rescal 後的 相關性被改變，ex: cm/age vs inch/age, 點之間的距離並不一定相同\n",
    "- IF each covariate  $X_i$  represents a particular physical characteristics, such as age, height, weight, blood pressure, etc of individuals.\n",
    "    - use the correlation matrix instead of the covariance matrix for PCA\n",
    "- ***random variables***\n",
    "    - Recall that the correlation  $\\rho_{X,Y}$ of two random variables  $X$  and  $Y$  is the covariance of the the rescaled random variables  $\\frac{X}{\\sigma_{X}}$ , and  $\\frac{Y}{\\sigma_{Y}}$\n",
    "        - $\\rho_{X,Y} = Cov(\\frac{X}{\\sigma_{X}}, \\frac{Y}{\\sigma_{Y}}) = \\frac{Cov(X,Y)}{\\sigma_{X}\\sigma_{Y}} = \\frac{E[XY]-E[X]E[Y]}{\\sqrt{(E[X^2] - E[X]^2)(E[Y^2] - E[Y]^2)}}$\n",
    "        - if $E[X] = E[Y] = 0$, then\n",
    "            - $\\rho_{X,Y} = \\frac{E[XY]}{\\sqrt{(E[X^2])(E[Y^2])}}$\n",
    "- ***random vectors***\n",
    "    - Extending to random vectors $X$  with  $E[X]=0$ , the correlation matrix is the covariance matrix of rescaled data:\n",
    "$$E[\\tilde{X}\\tilde{X}^T]=E[\\begin{bmatrix} \\frac{X_1}{\\sigma_{X_1}} \\\\ \\frac{X_2}{\\sigma_{X_2}} \\\\ \\vdots \\\\ \\frac{X_n}{\\sigma_{X_n}} \\end{bmatrix} \\begin{bmatrix} \\frac{X_1}{\\sigma_{X_1}} & \\frac{X_2}{\\sigma_{X_2}} & \\dots & \\frac{X_n}{\\sigma_{X_n}} \\end{bmatrix}] $$\n",
    "\t \n",
    "    - so that  𝑖,𝑗 -th entry of the correlation matrix is  $E[\\frac{X_i X_j}{\\sigma_{X_i}\\sigma_{X_j}}]$\n",
    "\n",
    "    - By definition, covariance has the dimension of squared of the data, while correlation is dimensionless. Hence, when covariates have different dimensions or units, it makes more sense to first rescale each covariate by its sample standard deviation, before determining the directions of largest spread using PCA."
   ]
  },
  {
   "cell_type": "code",
   "execution_count": 25,
   "id": "liberal-linux",
   "metadata": {},
   "outputs": [],
   "source": [
    "def cov_matrix(X):\n",
    "    n=X.shape[0]\n",
    "    S = 1/n*(X.T@(np.identity(X.shape[0])-1/n*np.ones((n,n)))@X)\n",
    "    return np.squeeze(S)\n",
    "def corr_matrix(X):\n",
    "    cov = cov_matrix(X)\n",
    "    std = np.outer(np.std(X, axis=0), np.std(X, axis=0))\n",
    "    return cov/std"
   ]
  },
  {
   "cell_type": "code",
   "execution_count": 26,
   "id": "fiscal-restriction",
   "metadata": {},
   "outputs": [
    {
     "data": {
      "text/plain": [
       "True"
      ]
     },
     "execution_count": 26,
     "metadata": {},
     "output_type": "execute_result"
    }
   ],
   "source": [
    "np.allclose(corr_matrix(X), np.corrcoef(X.T))"
   ]
  },
  {
   "cell_type": "code",
   "execution_count": 27,
   "id": "specified-publicity",
   "metadata": {},
   "outputs": [],
   "source": [
    "# difference between centered or not centered data set, in cov and corr\n",
    "n, d = 20, 3\n",
    "X = np.random.random((n,d))\n",
    "H = np.identity(n)-1/n*np.outer(np.ones(n),np.ones(n)) "
   ]
  },
  {
   "cell_type": "code",
   "execution_count": 28,
   "id": "studied-truck",
   "metadata": {},
   "outputs": [
    {
     "name": "stdout",
     "output_type": "stream",
     "text": [
      "scaled feature in dataset or scaled dataset wont change Correlation matrix\n",
      "scaled feature in dataset or scaled dataset will change Covariance matrix, scaled = scalar^2 * original\n",
      "add any constant to feature in dataset or data set wont change any result\n"
     ]
    }
   ],
   "source": [
    "# for scalar in range(1,3):\n",
    "#     X_temp = X.copy()\n",
    "#     X_temp = scalar*X_temp\n",
    "#     corr = corr_matrix(X_temp)\n",
    "#     cov  = cov_matrix(X_temp)\n",
    "#     print(f'scalar = {scalar}')\n",
    "#     print('scaled dataset corr =\\n', corr)\n",
    "#     print('-----')\n",
    "#     print('scaled dataset cov =\\n', cov)\n",
    "#     print('-----')\n",
    "#     X_temp[:,0] = scalar*X_temp[:,0]-8\n",
    "#     corr = corr_matrix(X_temp)\n",
    "#     cov  = cov_matrix(X_temp)\n",
    "#     print('scaled feature corr =\\n', corr)\n",
    "#     print('-----')\n",
    "#     print('scaled feature cov =\\n', cov)\n",
    "#     print('-----')\n",
    "    \n",
    "print('scaled feature in dataset or scaled dataset wont change Correlation matrix')\n",
    "print('scaled feature in dataset or scaled dataset will change Covariance matrix, scaled = scalar^2 * original')\n",
    "print('add any constant to feature in dataset or data set wont change any result')"
   ]
  },
  {
   "cell_type": "markdown",
   "id": "informational-shelf",
   "metadata": {},
   "source": [
    "#### Visualize results"
   ]
  },
  {
   "cell_type": "code",
   "execution_count": 29,
   "id": "simplified-scholar",
   "metadata": {},
   "outputs": [],
   "source": [
    "n, d = 40, 5\n",
    "X = np.random.random((n,d))\n",
    "# wnat x in R^5 -> y in R^2"
   ]
  },
  {
   "cell_type": "code",
   "execution_count": 30,
   "id": "hungarian-direction",
   "metadata": {},
   "outputs": [
    {
     "data": {
      "text/plain": [
       "(40, 2)"
      ]
     },
     "execution_count": 30,
     "metadata": {},
     "output_type": "execute_result"
    }
   ],
   "source": [
    "# cov version\n",
    "cov_X = cov_matrix(X)\n",
    "e_values, e_vectors = np.linalg.eig(cov_X)\n",
    "sorted_indices = np.argsort(e_values)[::-1]\n",
    "e_values_matrix_cov = np.diag(np.take_along_axis(e_values, np.argsort(e_values)[::-1], axis=0))\n",
    "e_vectors_cov = e_vectors[:,sorted_indices]\n",
    "Y_cov = X@e_vectors_cov[:,:2]\n",
    "Y_cov.shape"
   ]
  },
  {
   "cell_type": "code",
   "execution_count": 31,
   "id": "nuclear-leisure",
   "metadata": {},
   "outputs": [
    {
     "data": {
      "text/plain": [
       "(40, 2)"
      ]
     },
     "execution_count": 31,
     "metadata": {},
     "output_type": "execute_result"
    }
   ],
   "source": [
    "# corr version\n",
    "corr_X = corr_matrix(X)\n",
    "e_values, e_vectors = np.linalg.eig(corr_X)\n",
    "sorted_indices = np.argsort(e_values)[::-1]\n",
    "e_values_matrix_corr = np.diag(np.take_along_axis(e_values, np.argsort(e_values)[::-1], axis=0))\n",
    "e_vectors_corr = e_vectors[:,sorted_indices]\n",
    "Y_corr = X@e_vectors_corr[:,:2]\n",
    "Y_corr.shape"
   ]
  },
  {
   "cell_type": "code",
   "execution_count": 32,
   "id": "alternate-mouse",
   "metadata": {},
   "outputs": [
    {
     "data": {
      "image/png": "[encoded data removed]",
      "text/plain": [
       "<Figure size 432x288 with 1 Axes>"
      ]
     },
     "metadata": {
      "needs_background": "light"
     },
     "output_type": "display_data"
    }
   ],
   "source": [
    "sns.scatterplot(x=Y_cov[:,0], y=Y_cov[:,1], label='cov')\n",
    "sns.scatterplot(x=Y_corr[:,0], y=Y_corr[:,1], label='corr')\n",
    "plt.legend()\n",
    "plt.show()"
   ]
  },
  {
   "cell_type": "markdown",
   "id": "stone-absolute",
   "metadata": {},
   "source": [
    "### 14. Total Variance\n",
    "- We can decide how many principal components to retain in the projection of the data based on their explained variance.\n",
    "- The total variance is the sum of variance of all the principal components, which equals the sum of the eigenvalues of the covariance matrix:\n",
    "    - Total Variance:$\\sum\\limits_{j=1}^{p}\\lambda_j$\n",
    "\n",
    "- The fraction of variance explained by a principal component is the ratio of the variance of that principal component to the total variance:\n",
    "    - $\\frac{\\lambda_j}{\\sum\\limits_{j=1}^{p}\\lambda_j}$\n",
    "    \n",
    "Ungraded Exercise: Compare the explained variance of the first principal component when PCA is applied to the correlation matrix with when PCA is applied to the covariance matrix."
   ]
  },
  {
   "cell_type": "code",
   "execution_count": 33,
   "id": "wicked-storage",
   "metadata": {},
   "outputs": [
    {
     "name": "stdout",
     "output_type": "stream",
     "text": [
      "e_values_cov =\n",
      " [92.96583171 69.74150583 65.19818689 54.22897394 49.11649813 42.76532033\n",
      " 40.01045301 38.6180372  31.58203834 29.57128277 27.56687888 23.52238744\n",
      " 20.63142154 17.72814188 16.16701826 13.21853763  9.33039559  7.61572927\n",
      "  6.12413831  5.10784803]\n",
      "-----\n",
      "e_values_corr =\n",
      " [2.66685142 2.152507   1.86366106 1.63100182 1.52045339 1.29546385\n",
      " 1.2351152  1.17106642 0.96892218 0.94794266 0.82080173 0.77087402\n",
      " 0.66659711 0.53701483 0.49051541 0.39912747 0.29162359 0.24319229\n",
      " 0.18026559 0.14700295]\n"
     ]
    }
   ],
   "source": [
    "n, d = 40, 20\n",
    "X = np.random.randint(20, size=(n,d))\n",
    "\n",
    "cov  = cov_matrix(X)\n",
    "e_values_cov, e_vetors_cov = np.linalg.eig(cov)\n",
    "sorted_indices = np.argsort(e_values_cov)[::-1]\n",
    "e_values_cov = e_values_cov[sorted_indices]\n",
    "e_vetors_cov = e_vetors_cov[:,sorted_indices]\n",
    "# print('cov =\\n', cov)\n",
    "print('e_values_cov =\\n', e_values_cov)\n",
    "# print('e_vetors_cov =\\n', e_vetors_cov)\n",
    "print('-----')\n",
    "\n",
    "corr = corr_matrix(X)\n",
    "e_values_corr, e_vetors_corr = np.linalg.eig(corr)\n",
    "sorted_indices = np.argsort(e_values_corr)[::-1]\n",
    "e_values_corr = e_values_corr[sorted_indices]\n",
    "e_vetors_corr = e_vetors_corr[:,sorted_indices]\n",
    "# print('corr =\\n', corr)\n",
    "print('e_values_corr =\\n', e_values_corr)\n",
    "# print('e_vetors_corr =\\n', e_vetors_corr)"
   ]
  },
  {
   "cell_type": "code",
   "execution_count": 34,
   "id": "conscious-contact",
   "metadata": {},
   "outputs": [
    {
     "name": "stdout",
     "output_type": "stream",
     "text": [
      "Fraction of variance in each principal component(e-value/sum(e-values)):\n",
      "Covariance base PCA fraction =\n",
      " [0.14068453 0.10553932 0.09866395 0.08206432 0.07432765 0.06471645\n",
      " 0.06054753 0.0584404  0.04779287 0.04475001 0.04171676 0.03559626\n",
      " 0.03122138 0.02682787 0.02446543 0.02000352 0.01411962 0.01152483\n",
      " 0.00926761 0.00772967]\n",
      "Covariance base PCA Summation =\n",
      " 660.8106250000002\n",
      "-----\n",
      "Correlation base PCA fraction =\n",
      " [0.13334257 0.10762535 0.09318305 0.08155009 0.07602267 0.06477319\n",
      " 0.06175576 0.05855332 0.04844611 0.04739713 0.04104009 0.0385437\n",
      " 0.03332986 0.02685074 0.02452577 0.01995637 0.01458118 0.01215961\n",
      " 0.00901328 0.00735015]\n",
      "Correlation base PCA Summation =\n",
      " 20.000000000000014\n"
     ]
    }
   ],
   "source": [
    "print('Fraction of variance in each principal component(e-value/sum(e-values)):')\n",
    "print('Covariance base PCA fraction =\\n', e_values_cov / np.sum(e_values_cov))\n",
    "print('Covariance base PCA Summation =\\n',np.sum(e_values_cov))\n",
    "print('-----')\n",
    "print('Correlation base PCA fraction =\\n', e_values_corr / np.sum(e_values_corr))\n",
    "print('Correlation base PCA Summation =\\n', np.sum(e_values_corr))"
   ]
  },
  {
   "cell_type": "code",
   "execution_count": 35,
   "id": "incoming-hartford",
   "metadata": {},
   "outputs": [
    {
     "name": "stdout",
     "output_type": "stream",
     "text": [
      "The difference between two PCA is about 10%\n"
     ]
    },
    {
     "data": {
      "text/plain": [
       "array([ 0.05218739, -0.01976541,  0.05555117,  0.00626616, -0.02280476,\n",
       "       -0.00087673, -0.01995502, -0.00193224, -0.01366806, -0.05915355,\n",
       "        0.01622068, -0.08280196, -0.06753296, -0.00085251, -0.00246622,\n",
       "        0.00235684, -0.03268916, -0.05507985,  0.02744347,  0.04909941])"
      ]
     },
     "execution_count": 35,
     "metadata": {},
     "output_type": "execute_result"
    }
   ],
   "source": [
    "print('The difference between two PCA is about 10%')\n",
    "(e_values_cov / np.sum(e_values_cov)- (e_values_corr / np.sum(e_values_corr))) / ((e_values_cov / np.sum(e_values_cov)))"
   ]
  },
  {
   "cell_type": "markdown",
   "id": "educational-image",
   "metadata": {},
   "source": [
    "### 15. Multidimensional Scaling (MDS)"
   ]
  },
  {
   "cell_type": "code",
   "execution_count": 7,
   "id": "thousand-communications",
   "metadata": {},
   "outputs": [
    {
     "data": {
      "text/plain": [
       "(5, 5)"
      ]
     },
     "execution_count": 7,
     "metadata": {},
     "output_type": "execute_result"
    }
   ],
   "source": [
    "# given dataset X_origin\n",
    "n, d = 5,5\n",
    "X_origin = np.random.randint(10, size=(n,d))\n",
    "X_origin.shape"
   ]
  },
  {
   "cell_type": "code",
   "execution_count": 8,
   "id": "tender-basin",
   "metadata": {},
   "outputs": [],
   "source": [
    "# 1. compute distance matrix\n",
    "from sklearn.metrics import pairwise_distances\n",
    "X_distance_matrix = pairwise_distances(X_origin)\n",
    "# print('distance matrix=\\n',X_distance_matrix)\n",
    "# print('-----')\n",
    "\n",
    "# 2. convert distance matrix into inner product representation\n",
    "## doubly centered matrix XX^T\n",
    "H = np.identity(n)-1/n*np.outer(np.ones(n),np.ones(n)) \n",
    "XXT= (-1/2) * H@X_distance_matrix**2@H\n",
    "# print('inner product representation=\\n',XXT)"
   ]
  },
  {
   "cell_type": "code",
   "execution_count": 9,
   "id": "arabic-imagination",
   "metadata": {},
   "outputs": [
    {
     "name": "stdout",
     "output_type": "stream",
     "text": [
      "e_values =\n",
      " [117.44225585  70.84035523  13.73761222   3.97977671   0.        ]\n",
      "-----\n"
     ]
    }
   ],
   "source": [
    "# 3. conpute e-vectors, e-values\n",
    "e_values, e_vectors = np.linalg.eig(XXT)\n",
    "e_values[np.isclose(0,e_values)] = 0\n",
    "sorted_indices = np.argsort(e_values)[::-1]\n",
    "\n",
    "e_values_matrix_MDS = np.diag(e_values[sorted_indices])\n",
    "e_vectors_MDS = e_vectors[:,sorted_indices]\n",
    "print('e_values =\\n', e_values[sorted_indices])\n",
    "# print('e_vectors_MDS =\\n', e_vectors_MDS)\n",
    "print('-----')\n",
    "# 4. output Y, k components\n",
    "k=2\n",
    "Y_MDS = e_vectors_MDS[:,:k]@np.sqrt(e_values_matrix_MDS[:k,:k])\n",
    "# print('Y_MDS =\\n',Y_MDS)"
   ]
  },
  {
   "cell_type": "markdown",
   "id": "african-alignment",
   "metadata": {},
   "source": [
    "#### check properties"
   ]
  },
  {
   "cell_type": "code",
   "execution_count": 10,
   "id": "solar-heater",
   "metadata": {},
   "outputs": [
    {
     "name": "stdout",
     "output_type": "stream",
     "text": [
      "Is X = e-vectors @ e-values^0.5? True\n"
     ]
    }
   ],
   "source": [
    "X_inner = (e_vectors_MDS@np.sqrt(e_values_matrix_MDS))\n",
    "print('Is X = e-vectors @ e-values^0.5?', np.allclose(X_inner@X_inner.T, XXT))"
   ]
  },
  {
   "cell_type": "code",
   "execution_count": 40,
   "id": "inappropriate-carpet",
   "metadata": {},
   "outputs": [
    {
     "name": "stdout",
     "output_type": "stream",
     "text": [
      "first-1 compoments\n",
      "Is Y_MDSs same?\n",
      " True\n",
      "trace(X@X.T-Y@Y.T)^2 =\n",
      " 5846.195662501396\n",
      "-----\n",
      "first-2 compoments\n",
      "Is Y_MDSs same?\n",
      " True\n",
      "trace(X@X.T-Y@Y.T)^2 =\n",
      " 719.120016820741\n",
      "-----\n",
      "first-3 compoments\n",
      "Is Y_MDSs same?\n",
      " True\n",
      "trace(X@X.T-Y@Y.T)^2 =\n",
      " 0.8958114455916345\n",
      "-----\n",
      "first-4 compoments\n",
      "Is Y_MDSs same?\n",
      " True\n",
      "trace(X@X.T-Y@Y.T)^2 =\n",
      " 0.0\n",
      "-----\n",
      "first-5 compoments\n",
      "Is Y_MDSs same?\n",
      " True\n",
      "trace(X@X.T-Y@Y.T)^2 =\n",
      " 0.0\n",
      "-----\n"
     ]
    }
   ],
   "source": [
    "for nn in range(1,n+1):\n",
    "    # determine Y by e-vec, e-val of XX.T\n",
    "    Y_MDS_eig = e_vectors_MDS[:,:nn]@np.sqrt(e_values_matrix_MDS[:nn,:nn])\n",
    "    # determine Y by X @ filter_matrix\n",
    "    filter_matrix = np.identity(n)[:,:nn]\n",
    "    Y_MDS_fil = X_inner@filter_matrix\n",
    "    print(f'first-{nn} compoments')\n",
    "    print('Is Y_MDSs same?\\n', np.allclose(Y_MDS_eig, Y_MDS_fil))\n",
    "    print('trace(X@X.T-Y@Y.T)^2 =\\n',(np.trace(X_inner@X_inner.T - Y_MDS_eig@Y_MDS_eig.T)**2))\n",
    "    print('-----')"
   ]
  },
  {
   "cell_type": "markdown",
   "id": "tutorial-evening",
   "metadata": {},
   "source": [
    "### 16. Stochastic Neighbor Embedding (SNE) and t-distributed Stochastic Neighbor Embedding (t-SNE)"
   ]
  },
  {
   "cell_type": "code",
   "execution_count": 41,
   "id": "freelance-worst",
   "metadata": {},
   "outputs": [
    {
     "data": {
      "text/plain": [
       "array([[0.        , 3.60555128, 1.41421356],\n",
       "       [3.60555128, 0.        , 3.60555128],\n",
       "       [1.41421356, 3.60555128, 0.        ]])"
      ]
     },
     "execution_count": 41,
     "metadata": {},
     "output_type": "execute_result"
    }
   ],
   "source": [
    "X = np.array([[-1,1],[2,3],[0,0]])\n",
    "X_distance_matrix = pairwise_distances(X)\n",
    "X_distance_matrix"
   ]
  },
  {
   "cell_type": "markdown",
   "id": "lyric-rolling",
   "metadata": {},
   "source": [
    "### 17. KL-divergence"
   ]
  },
  {
   "cell_type": "code",
   "execution_count": 197,
   "id": "alpha-zimbabwe",
   "metadata": {},
   "outputs": [],
   "source": [
    "d12, d13 = 1 ,1\n",
    "d23 = np.sqrt(2)"
   ]
  },
  {
   "cell_type": "code",
   "execution_count": 234,
   "id": "collective-treat",
   "metadata": {},
   "outputs": [],
   "source": [
    "def p_finder(traget, ds):\n",
    "    ds = np.array(ds)\n",
    "    p_traget = np.exp(-traget**2) / np.sum(np.exp(-(ds**2)))\n",
    "    return p_traget"
   ]
  },
  {
   "cell_type": "code",
   "execution_count": 235,
   "id": "restricted-philadelphia",
   "metadata": {},
   "outputs": [
    {
     "data": {
      "text/plain": [
       "(0.42231879825151825, 0.42231879825151825, 0.15536240349696354)"
      ]
     },
     "execution_count": 235,
     "metadata": {},
     "output_type": "execute_result"
    }
   ],
   "source": [
    "p12 = p_finder(d12, [d12,d13,d23])\n",
    "p13 = p_finder(d13, [d12,d13,d23])\n",
    "p23 = p_finder(d23, [d12,d13,d23])\n",
    "p12,p13,p23"
   ]
  },
  {
   "cell_type": "code",
   "execution_count": 236,
   "id": "patient-terminal",
   "metadata": {},
   "outputs": [],
   "source": [
    "def p_finder2(traget, ds):\n",
    "    ds = np.array(ds)\n",
    "    p_traget = (1/(1+traget**2)) / np.sum(1/(1+ds**2))\n",
    "    return p_traget"
   ]
  },
  {
   "cell_type": "code",
   "execution_count": 240,
   "id": "sweet-shooting",
   "metadata": {},
   "outputs": [
    {
     "name": "stdout",
     "output_type": "stream",
     "text": [
      "1.157\n",
      "1.0242343445917418e-08\n",
      "1.1571\n",
      "7.96360893501075e-09\n",
      "1.1572\n",
      "5.971528694106738e-09\n",
      "1.1573\n",
      "4.265957624225347e-09\n",
      "1.1574\n",
      "2.846750887211709e-09\n",
      "1.1575\n",
      "1.7137632936328371e-09\n",
      "1.1576\n",
      "8.668499666735836e-10\n",
      "1.1577\n",
      "3.058660188343267e-10\n",
      "1.1578\n",
      "3.066673947677126e-11\n",
      "1.1579\n",
      "4.1107466567066636e-11\n",
      "1.158\n",
      "3.3704308333156005e-10\n",
      "1.1581\n",
      "9.183295801076243e-10\n",
      "1.1582\n",
      "1.7848218953744129e-09\n",
      "1.1582999999999999\n",
      "2.9363760230158254e-09\n",
      "1.1583999999999999\n",
      "4.372847067844569e-09\n",
      "1.1584999999999999\n",
      "6.0940910866198e-09\n",
      "1.1585999999999999\n",
      "8.099963162968237e-09\n",
      "1.1586999999999998\n",
      "1.039031992968565e-08\n",
      "1.1587999999999998\n",
      "1.296501653334347e-08\n",
      "1.1588999999999998\n",
      "1.5823909082268218e-08\n",
      "1.1589999999999998\n",
      "1.8966853570823216e-08\n"
     ]
    }
   ],
   "source": [
    "c=0\n",
    "for _d12 in np.arange(1.157,1.159, 0.0001):\n",
    "    _d13 = _d12\n",
    "    _d23 = _d12*2\n",
    "    q12 = p_finder2(_d12, [_d12,_d13,_d23])\n",
    "    q23 = p_finder2(_d23, [_d12,_d13,_d23])\n",
    "    print(_d12)\n",
    "    print(2*p12*np.log(p12/q12) + p23*np.log(p23/q23))"
   ]
  },
  {
   "cell_type": "code",
   "execution_count": 182,
   "id": "european-telephone",
   "metadata": {},
   "outputs": [],
   "source": [
    "q12 = p_finder(_d12, [_d12,_d13,_d23])\n",
    "q23 = p_finder(_d23, [_d12,_d13,_d23])"
   ]
  },
  {
   "cell_type": "code",
   "execution_count": 183,
   "id": "adverse-emperor",
   "metadata": {},
   "outputs": [
    {
     "data": {
      "text/plain": [
       "(0.40679038757564956, 0.18641922484870083)"
      ]
     },
     "execution_count": 183,
     "metadata": {},
     "output_type": "execute_result"
    }
   ],
   "source": [
    "q12, q23"
   ]
  },
  {
   "cell_type": "code",
   "execution_count": 184,
   "id": "negative-catholic",
   "metadata": {},
   "outputs": [
    {
     "data": {
      "text/plain": [
       "0.03164218561047372"
      ]
     },
     "execution_count": 184,
     "metadata": {},
     "output_type": "execute_result"
    }
   ],
   "source": [
    "2*p12*np.log(p12/q12)"
   ]
  },
  {
   "cell_type": "code",
   "execution_count": 185,
   "id": "advance-labor",
   "metadata": {},
   "outputs": [
    {
     "data": {
      "text/plain": [
       "-0.02831286526837094"
      ]
     },
     "execution_count": 185,
     "metadata": {},
     "output_type": "execute_result"
    }
   ],
   "source": [
    "p23*np.log(p23/q23)"
   ]
  },
  {
   "cell_type": "code",
   "execution_count": 186,
   "id": "terminal-pitch",
   "metadata": {},
   "outputs": [
    {
     "name": "stdout",
     "output_type": "stream",
     "text": [
      "0.003329320342102784\n"
     ]
    }
   ],
   "source": [
    "print(2*p12*np.log(p12/q12) + p23*np.log(p23/q23))"
   ]
  },
  {
   "cell_type": "code",
   "execution_count": 190,
   "id": "appointed-johns",
   "metadata": {},
   "outputs": [
    {
     "data": {
      "text/plain": [
       "array([0.48 , 0.481, 0.482, 0.483, 0.484, 0.485, 0.486, 0.487, 0.488,\n",
       "       0.489, 0.49 , 0.491, 0.492, 0.493, 0.494, 0.495, 0.496, 0.497,\n",
       "       0.498, 0.499, 0.5  , 0.501, 0.502, 0.503, 0.504, 0.505, 0.506,\n",
       "       0.507, 0.508, 0.509, 0.51 , 0.511, 0.512, 0.513, 0.514, 0.515,\n",
       "       0.516, 0.517, 0.518, 0.519, 0.52 , 0.521, 0.522, 0.523, 0.524,\n",
       "       0.525, 0.526, 0.527, 0.528, 0.529, 0.53 , 0.531, 0.532, 0.533,\n",
       "       0.534, 0.535, 0.536, 0.537, 0.538, 0.539, 0.54 , 0.541, 0.542,\n",
       "       0.543, 0.544, 0.545, 0.546, 0.547, 0.548, 0.549, 0.55 , 0.551,\n",
       "       0.552, 0.553, 0.554, 0.555, 0.556, 0.557, 0.558, 0.559, 0.56 ,\n",
       "       0.561, 0.562, 0.563, 0.564, 0.565, 0.566, 0.567, 0.568, 0.569,\n",
       "       0.57 , 0.571, 0.572, 0.573, 0.574, 0.575, 0.576, 0.577, 0.578,\n",
       "       0.579, 0.58 , 0.581, 0.582, 0.583, 0.584, 0.585, 0.586, 0.587,\n",
       "       0.588, 0.589, 0.59 , 0.591, 0.592, 0.593, 0.594, 0.595, 0.596,\n",
       "       0.597, 0.598, 0.599])"
      ]
     },
     "execution_count": 190,
     "metadata": {},
     "output_type": "execute_result"
    }
   ],
   "source": [
    "np.arange(0.48,0.6, 0.001)"
   ]
  },
  {
   "cell_type": "code",
   "execution_count": 241,
   "id": "statewide-survivor",
   "metadata": {},
   "outputs": [
    {
     "data": {
      "text/plain": [
       "0.14450000000000002"
      ]
     },
     "execution_count": 241,
     "metadata": {},
     "output_type": "execute_result"
    }
   ],
   "source": [
    "0.05*0.99 + 0.95*0.1"
   ]
  },
  {
   "cell_type": "code",
   "execution_count": 242,
   "id": "french-charleston",
   "metadata": {},
   "outputs": [
    {
     "data": {
      "text/plain": [
       "0.34256055363321797"
      ]
     },
     "execution_count": 242,
     "metadata": {},
     "output_type": "execute_result"
    }
   ],
   "source": [
    "0.05*0.99 / (0.05*0.99 + 0.95*0.1)"
   ]
  },
  {
   "cell_type": "code",
   "execution_count": null,
   "id": "thrown-judge",
   "metadata": {},
   "outputs": [],
   "source": []
  }
 ],
 "metadata": {
  "kernelspec": {
   "display_name": "Python 3",
   "language": "python",
   "name": "python3"
  },
  "language_info": {
   "codemirror_mode": {
    "name": "ipython",
    "version": 3
   },
   "file_extension": ".py",
   "mimetype": "text/x-python",
   "name": "python",
   "nbconvert_exporter": "python",
   "pygments_lexer": "ipython3",
   "version": "3.8.8"
  }
 },
 "nbformat": 4,
 "nbformat_minor": 5
}
